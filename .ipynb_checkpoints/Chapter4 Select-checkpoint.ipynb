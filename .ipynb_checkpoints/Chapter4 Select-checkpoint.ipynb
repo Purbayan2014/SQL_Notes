{
 "cells": [
  {
   "cell_type": "markdown",
   "metadata": {},
   "source": [
    "# Chapter4 Select"
   ]
  },
  {
   "cell_type": "markdown",
   "metadata": {},
   "source": [
    "本文将使用 rexon_metals.db 数据库，其中包含了 CUSTOMER，CUSTOMER_ORDER 以及 PRODUCT 三张表。"
   ]
  },
  {
   "cell_type": "code",
   "execution_count": 1,
   "metadata": {
    "ExecuteTime": {
     "end_time": "2020-02-15T12:07:40.534796Z",
     "start_time": "2020-02-15T12:07:38.708232Z"
    }
   },
   "outputs": [
    {
     "data": {
      "text/plain": [
       "'Connected: @DataBase/rexon_metals.db'"
      ]
     },
     "execution_count": 1,
     "metadata": {},
     "output_type": "execute_result"
    }
   ],
   "source": [
    "%load_ext sql\n",
    "%sql sqlite:///DataBase/rexon_metals.db"
   ]
  },
  {
   "cell_type": "markdown",
   "metadata": {},
   "source": [
    "使用 * 选取 CUSTOMER 表中的所有列："
   ]
  },
  {
   "cell_type": "code",
   "execution_count": 2,
   "metadata": {
    "ExecuteTime": {
     "end_time": "2020-02-15T12:09:40.773298Z",
     "start_time": "2020-02-15T12:09:40.756399Z"
    }
   },
   "outputs": [
    {
     "name": "stdout",
     "output_type": "stream",
     "text": [
      " * sqlite:///DataBase/rexon_metals.db\n",
      "Done.\n"
     ]
    },
    {
     "data": {
      "text/html": [
       "<table>\n",
       "    <tr>\n",
       "        <th>CUSTOMER_ID</th>\n",
       "        <th>NAME</th>\n",
       "        <th>REGION</th>\n",
       "        <th>STREET_ADDRESS</th>\n",
       "        <th>CITY</th>\n",
       "        <th>STATE</th>\n",
       "        <th>ZIP</th>\n",
       "    </tr>\n",
       "    <tr>\n",
       "        <td>1</td>\n",
       "        <td>LITE Industrial</td>\n",
       "        <td>Southwest</td>\n",
       "        <td>729 Ravine Way</td>\n",
       "        <td>Irving</td>\n",
       "        <td>TX</td>\n",
       "        <td>75014</td>\n",
       "    </tr>\n",
       "    <tr>\n",
       "        <td>2</td>\n",
       "        <td>Rex Tooling Inc</td>\n",
       "        <td>Southwest</td>\n",
       "        <td>6129 Collie Blvd</td>\n",
       "        <td>Dallas</td>\n",
       "        <td>TX</td>\n",
       "        <td>75201</td>\n",
       "    </tr>\n",
       "    <tr>\n",
       "        <td>3</td>\n",
       "        <td>Re-Barre Construction</td>\n",
       "        <td>Southwest</td>\n",
       "        <td>9043 Windy Dr</td>\n",
       "        <td>Irving</td>\n",
       "        <td>TX</td>\n",
       "        <td>75032</td>\n",
       "    </tr>\n",
       "    <tr>\n",
       "        <td>4</td>\n",
       "        <td>Prairie Construction</td>\n",
       "        <td>Southwest</td>\n",
       "        <td>264 Long Rd</td>\n",
       "        <td>Moore</td>\n",
       "        <td>OK</td>\n",
       "        <td>62104</td>\n",
       "    </tr>\n",
       "    <tr>\n",
       "        <td>5</td>\n",
       "        <td>Marsh Lane Metal Works</td>\n",
       "        <td>Southeast</td>\n",
       "        <td>9143 Marsh Ln</td>\n",
       "        <td>Avondale</td>\n",
       "        <td>LA</td>\n",
       "        <td>79782</td>\n",
       "    </tr>\n",
       "</table>"
      ],
      "text/plain": [
       "[(1, 'LITE Industrial', 'Southwest', '729 Ravine Way', 'Irving', 'TX', 75014),\n",
       " (2, 'Rex Tooling Inc', 'Southwest', '6129 Collie Blvd', 'Dallas', 'TX', 75201),\n",
       " (3, 'Re-Barre Construction', 'Southwest', '9043 Windy Dr', 'Irving', 'TX', 75032),\n",
       " (4, 'Prairie Construction', 'Southwest', '264 Long Rd', 'Moore', 'OK', 62104),\n",
       " (5, 'Marsh Lane Metal Works', 'Southeast', '9143 Marsh Ln', 'Avondale', 'LA', 79782)]"
      ]
     },
     "execution_count": 2,
     "metadata": {},
     "output_type": "execute_result"
    }
   ],
   "source": [
    "%sql select * from CUSTOMER;"
   ]
  },
  {
   "cell_type": "markdown",
   "metadata": {},
   "source": [
    "也可以指定选取某几列，如 CUSTOMER_ID, NAME"
   ]
  },
  {
   "cell_type": "code",
   "execution_count": 7,
   "metadata": {
    "ExecuteTime": {
     "end_time": "2020-02-15T12:25:57.903822Z",
     "start_time": "2020-02-15T12:25:57.864551Z"
    }
   },
   "outputs": [
    {
     "name": "stdout",
     "output_type": "stream",
     "text": [
      " * sqlite:///DataBase/rexon_metals.db\n",
      "Done.\n"
     ]
    },
    {
     "data": {
      "text/html": [
       "<table>\n",
       "    <tr>\n",
       "        <th>CUSTOMER_ID</th>\n",
       "        <th>NAME</th>\n",
       "    </tr>\n",
       "    <tr>\n",
       "        <td>1</td>\n",
       "        <td>LITE Industrial</td>\n",
       "    </tr>\n",
       "    <tr>\n",
       "        <td>2</td>\n",
       "        <td>Rex Tooling Inc</td>\n",
       "    </tr>\n",
       "    <tr>\n",
       "        <td>3</td>\n",
       "        <td>Re-Barre Construction</td>\n",
       "    </tr>\n",
       "    <tr>\n",
       "        <td>4</td>\n",
       "        <td>Prairie Construction</td>\n",
       "    </tr>\n",
       "    <tr>\n",
       "        <td>5</td>\n",
       "        <td>Marsh Lane Metal Works</td>\n",
       "    </tr>\n",
       "</table>"
      ],
      "text/plain": [
       "[(1, 'LITE Industrial'),\n",
       " (2, 'Rex Tooling Inc'),\n",
       " (3, 'Re-Barre Construction'),\n",
       " (4, 'Prairie Construction'),\n",
       " (5, 'Marsh Lane Metal Works')]"
      ]
     },
     "execution_count": 7,
     "metadata": {},
     "output_type": "execute_result"
    }
   ],
   "source": [
    "%sql select CUSTOMER_ID, NAME from CUSTOMER;"
   ]
  },
  {
   "cell_type": "markdown",
   "metadata": {},
   "source": [
    "## alias\n",
    "\n",
    "SELECT 不经可以简单的选取某几列数据，还可以对它们进行运算，如利用 PRODUCT 表中的 PRICE 计算相应的税后价格 TAXED_PRICE："
   ]
  },
  {
   "cell_type": "code",
   "execution_count": 11,
   "metadata": {
    "ExecuteTime": {
     "end_time": "2020-02-15T12:44:43.828426Z",
     "start_time": "2020-02-15T12:44:43.798139Z"
    }
   },
   "outputs": [
    {
     "name": "stdout",
     "output_type": "stream",
     "text": [
      " * sqlite:///DataBase/rexon_metals.db\n",
      "Done.\n"
     ]
    },
    {
     "data": {
      "text/html": [
       "<table>\n",
       "    <tr>\n",
       "        <th>PRODUCT_ID</th>\n",
       "        <th>DESCRIPTION</th>\n",
       "        <th>PRICE</th>\n",
       "        <th>TAXED_PRICE</th>\n",
       "    </tr>\n",
       "    <tr>\n",
       "        <td>1</td>\n",
       "        <td>Copper</td>\n",
       "        <td>7.51</td>\n",
       "        <td>8.0357</td>\n",
       "    </tr>\n",
       "    <tr>\n",
       "        <td>2</td>\n",
       "        <td>Aluminum</td>\n",
       "        <td>2.58</td>\n",
       "        <td>2.7606</td>\n",
       "    </tr>\n",
       "    <tr>\n",
       "        <td>3</td>\n",
       "        <td>Silver</td>\n",
       "        <td>15</td>\n",
       "        <td>16.05</td>\n",
       "    </tr>\n",
       "    <tr>\n",
       "        <td>4</td>\n",
       "        <td>Steel</td>\n",
       "        <td>12.31</td>\n",
       "        <td>13.171700000000001</td>\n",
       "    </tr>\n",
       "    <tr>\n",
       "        <td>5</td>\n",
       "        <td>Bronze</td>\n",
       "        <td>4</td>\n",
       "        <td>4.28</td>\n",
       "    </tr>\n",
       "    <tr>\n",
       "        <td>6</td>\n",
       "        <td>Duralumin</td>\n",
       "        <td>7.6</td>\n",
       "        <td>8.132</td>\n",
       "    </tr>\n",
       "    <tr>\n",
       "        <td>7</td>\n",
       "        <td>Solder</td>\n",
       "        <td>14.16</td>\n",
       "        <td>15.151200000000001</td>\n",
       "    </tr>\n",
       "    <tr>\n",
       "        <td>8</td>\n",
       "        <td>Stellite</td>\n",
       "        <td>13.31</td>\n",
       "        <td>14.241700000000002</td>\n",
       "    </tr>\n",
       "    <tr>\n",
       "        <td>9</td>\n",
       "        <td>Brass</td>\n",
       "        <td>4.75</td>\n",
       "        <td>5.0825000000000005</td>\n",
       "    </tr>\n",
       "</table>"
      ],
      "text/plain": [
       "[(1, 'Copper', 7.51, 8.0357),\n",
       " (2, 'Aluminum', 2.58, 2.7606),\n",
       " (3, 'Silver', 15, 16.05),\n",
       " (4, 'Steel', 12.31, 13.171700000000001),\n",
       " (5, 'Bronze', 4, 4.28),\n",
       " (6, 'Duralumin', 7.6, 8.132),\n",
       " (7, 'Solder', 14.16, 15.151200000000001),\n",
       " (8, 'Stellite', 13.31, 14.241700000000002),\n",
       " (9, 'Brass', 4.75, 5.0825000000000005)]"
      ]
     },
     "execution_count": 11,
     "metadata": {},
     "output_type": "execute_result"
    }
   ],
   "source": [
    "%%sql\n",
    "select\n",
    "PRODUCT_ID,\n",
    "DESCRIPTION,\n",
    "PRICE,\n",
    "PRICE * 1.07 as TAXED_PRICE\n",
    "from PRODUCT;"
   ]
  },
  {
   "cell_type": "markdown",
   "metadata": {},
   "source": [
    "- 当在 SQL 中对任何东西赋予变量名时（不论是alias, a column name, a table name 或者其他 entity），都应该使用下划线 (_) 作为占位符，如果使用空格的话，将会出现错误。\n"
   ]
  },
  {
   "cell_type": "markdown",
   "metadata": {},
   "source": [
    "我们可以使用 **别名**（alias）对表达式赋予名字，也可以在查询中用 alias 做为已存在的列的列名。比如将 UNTAXED_PRICE 作为 PRICE 的 alias，但这并不会改变表中的列名，而是在执行 SELECT 语句时赋予了一个新的名字："
   ]
  },
  {
   "cell_type": "markdown",
   "metadata": {},
   "source": [
    "## 内置函数"
   ]
  },
  {
   "cell_type": "code",
   "execution_count": 14,
   "metadata": {
    "ExecuteTime": {
     "end_time": "2020-02-15T12:47:12.435038Z",
     "start_time": "2020-02-15T12:47:12.419825Z"
    }
   },
   "outputs": [
    {
     "name": "stdout",
     "output_type": "stream",
     "text": [
      " * sqlite:///DataBase/rexon_metals.db\n",
      "Done.\n"
     ]
    },
    {
     "data": {
      "text/html": [
       "<table>\n",
       "    <tr>\n",
       "        <th>PRODUCT_ID</th>\n",
       "        <th>DESCRIPTION</th>\n",
       "        <th>UNTAXED_PRICE</th>\n",
       "        <th>TAXED_PRICE</th>\n",
       "    </tr>\n",
       "    <tr>\n",
       "        <td>1</td>\n",
       "        <td>Copper</td>\n",
       "        <td>7.51</td>\n",
       "        <td>8.0357</td>\n",
       "    </tr>\n",
       "    <tr>\n",
       "        <td>2</td>\n",
       "        <td>Aluminum</td>\n",
       "        <td>2.58</td>\n",
       "        <td>2.7606</td>\n",
       "    </tr>\n",
       "    <tr>\n",
       "        <td>3</td>\n",
       "        <td>Silver</td>\n",
       "        <td>15</td>\n",
       "        <td>16.05</td>\n",
       "    </tr>\n",
       "    <tr>\n",
       "        <td>4</td>\n",
       "        <td>Steel</td>\n",
       "        <td>12.31</td>\n",
       "        <td>13.171700000000001</td>\n",
       "    </tr>\n",
       "    <tr>\n",
       "        <td>5</td>\n",
       "        <td>Bronze</td>\n",
       "        <td>4</td>\n",
       "        <td>4.28</td>\n",
       "    </tr>\n",
       "    <tr>\n",
       "        <td>6</td>\n",
       "        <td>Duralumin</td>\n",
       "        <td>7.6</td>\n",
       "        <td>8.132</td>\n",
       "    </tr>\n",
       "    <tr>\n",
       "        <td>7</td>\n",
       "        <td>Solder</td>\n",
       "        <td>14.16</td>\n",
       "        <td>15.151200000000001</td>\n",
       "    </tr>\n",
       "    <tr>\n",
       "        <td>8</td>\n",
       "        <td>Stellite</td>\n",
       "        <td>13.31</td>\n",
       "        <td>14.241700000000002</td>\n",
       "    </tr>\n",
       "    <tr>\n",
       "        <td>9</td>\n",
       "        <td>Brass</td>\n",
       "        <td>4.75</td>\n",
       "        <td>5.0825000000000005</td>\n",
       "    </tr>\n",
       "</table>"
      ],
      "text/plain": [
       "[(1, 'Copper', 7.51, 8.0357),\n",
       " (2, 'Aluminum', 2.58, 2.7606),\n",
       " (3, 'Silver', 15, 16.05),\n",
       " (4, 'Steel', 12.31, 13.171700000000001),\n",
       " (5, 'Bronze', 4, 4.28),\n",
       " (6, 'Duralumin', 7.6, 8.132),\n",
       " (7, 'Solder', 14.16, 15.151200000000001),\n",
       " (8, 'Stellite', 13.31, 14.241700000000002),\n",
       " (9, 'Brass', 4.75, 5.0825000000000005)]"
      ]
     },
     "execution_count": 14,
     "metadata": {},
     "output_type": "execute_result"
    }
   ],
   "source": [
    "%%sql\n",
    "select\n",
    "PRODUCT_ID,\n",
    "DESCRIPTION,\n",
    "PRICE AS UNTAXED_PRICE,\n",
    "PRICE * 1.07 as TAXED_PRICE\n",
    "from PRODUCT;"
   ]
  },
  {
   "cell_type": "markdown",
   "metadata": {},
   "source": [
    "每一个数据库平台都有内置函数（built-in-functions），SQLite 提供了 round() 函数来对数据进行四舍五入，如将 TAXED_PRICE 保留两位小数："
   ]
  },
  {
   "cell_type": "code",
   "execution_count": 16,
   "metadata": {
    "ExecuteTime": {
     "end_time": "2020-02-15T12:55:20.279030Z",
     "start_time": "2020-02-15T12:55:20.262003Z"
    }
   },
   "outputs": [
    {
     "name": "stdout",
     "output_type": "stream",
     "text": [
      " * sqlite:///DataBase/rexon_metals.db\n",
      "Done.\n"
     ]
    },
    {
     "data": {
      "text/html": [
       "<table>\n",
       "    <tr>\n",
       "        <th>PRODUCT_ID</th>\n",
       "        <th>DESCRIPTION</th>\n",
       "        <th>UNTAXED_PRICE</th>\n",
       "        <th>TAXED_PRICE</th>\n",
       "    </tr>\n",
       "    <tr>\n",
       "        <td>1</td>\n",
       "        <td>Copper</td>\n",
       "        <td>7.51</td>\n",
       "        <td>8.04</td>\n",
       "    </tr>\n",
       "    <tr>\n",
       "        <td>2</td>\n",
       "        <td>Aluminum</td>\n",
       "        <td>2.58</td>\n",
       "        <td>2.76</td>\n",
       "    </tr>\n",
       "    <tr>\n",
       "        <td>3</td>\n",
       "        <td>Silver</td>\n",
       "        <td>15</td>\n",
       "        <td>16.05</td>\n",
       "    </tr>\n",
       "    <tr>\n",
       "        <td>4</td>\n",
       "        <td>Steel</td>\n",
       "        <td>12.31</td>\n",
       "        <td>13.17</td>\n",
       "    </tr>\n",
       "    <tr>\n",
       "        <td>5</td>\n",
       "        <td>Bronze</td>\n",
       "        <td>4</td>\n",
       "        <td>4.28</td>\n",
       "    </tr>\n",
       "    <tr>\n",
       "        <td>6</td>\n",
       "        <td>Duralumin</td>\n",
       "        <td>7.6</td>\n",
       "        <td>8.13</td>\n",
       "    </tr>\n",
       "    <tr>\n",
       "        <td>7</td>\n",
       "        <td>Solder</td>\n",
       "        <td>14.16</td>\n",
       "        <td>15.15</td>\n",
       "    </tr>\n",
       "    <tr>\n",
       "        <td>8</td>\n",
       "        <td>Stellite</td>\n",
       "        <td>13.31</td>\n",
       "        <td>14.24</td>\n",
       "    </tr>\n",
       "    <tr>\n",
       "        <td>9</td>\n",
       "        <td>Brass</td>\n",
       "        <td>4.75</td>\n",
       "        <td>5.08</td>\n",
       "    </tr>\n",
       "</table>"
      ],
      "text/plain": [
       "[(1, 'Copper', 7.51, 8.04),\n",
       " (2, 'Aluminum', 2.58, 2.76),\n",
       " (3, 'Silver', 15, 16.05),\n",
       " (4, 'Steel', 12.31, 13.17),\n",
       " (5, 'Bronze', 4, 4.28),\n",
       " (6, 'Duralumin', 7.6, 8.13),\n",
       " (7, 'Solder', 14.16, 15.15),\n",
       " (8, 'Stellite', 13.31, 14.24),\n",
       " (9, 'Brass', 4.75, 5.08)]"
      ]
     },
     "execution_count": 16,
     "metadata": {},
     "output_type": "execute_result"
    }
   ],
   "source": [
    "%%sql\n",
    "select\n",
    "PRODUCT_ID,\n",
    "DESCRIPTION,\n",
    "PRICE AS UNTAXED_PRICE,\n",
    "round(PRICE * 1.07, 2) as TAXED_PRICE\n",
    "from PRODUCT;"
   ]
  },
  {
   "cell_type": "markdown",
   "metadata": {},
   "source": [
    "<img style=\"float:center\" src=\"https://x1a-alioss.oss-cn-shenzhen.aliyuncs.com/Screen Shot 2020-02-09 at 16.58.36.png\" width=\"520\" >\n",
    "\n",
    "<center> 图1 SQLite 内置函数 </center>"
   ]
  },
  {
   "cell_type": "markdown",
   "metadata": {},
   "source": [
    "## 文字拼接"
   ]
  },
  {
   "cell_type": "markdown",
   "metadata": {},
   "source": [
    "表达式不一定只对数字类型的数据起作用，也可以用与文字型（text）或者其他类型的数据。对于文字型数据，一个有用的命令就是 *concatenation*（联合），可以将两段数据联合到一起。\n",
    "\n",
    "在 SQLite 中，这个联合操作符为 (||)，可以将两边的数据联合到一起；举个例子，可以将 CUSTOMER 表中的 CITY 和 STATE 联合为一个 LOCAYION："
   ]
  },
  {
   "cell_type": "markdown",
   "metadata": {},
   "source": [
    "- Concatenation 对任何的数据类型都适用（numbers, dates,...）\n",
    "- 很多数据库平台使用 (||) 来进行拼接，但 MySQL 使用 CONCAT（） 函数"
   ]
  },
  {
   "cell_type": "code",
   "execution_count": 18,
   "metadata": {
    "ExecuteTime": {
     "end_time": "2020-02-15T13:43:36.379218Z",
     "start_time": "2020-02-15T13:43:36.365752Z"
    }
   },
   "outputs": [
    {
     "name": "stdout",
     "output_type": "stream",
     "text": [
      " * sqlite:///DataBase/rexon_metals.db\n",
      "Done.\n"
     ]
    },
    {
     "data": {
      "text/html": [
       "<table>\n",
       "    <tr>\n",
       "        <th>NAME</th>\n",
       "        <th>LOCATION</th>\n",
       "    </tr>\n",
       "    <tr>\n",
       "        <td>LITE Industrial</td>\n",
       "        <td>Irving,TX</td>\n",
       "    </tr>\n",
       "    <tr>\n",
       "        <td>Rex Tooling Inc</td>\n",
       "        <td>Dallas,TX</td>\n",
       "    </tr>\n",
       "    <tr>\n",
       "        <td>Re-Barre Construction</td>\n",
       "        <td>Irving,TX</td>\n",
       "    </tr>\n",
       "    <tr>\n",
       "        <td>Prairie Construction</td>\n",
       "        <td>Moore,OK</td>\n",
       "    </tr>\n",
       "    <tr>\n",
       "        <td>Marsh Lane Metal Works</td>\n",
       "        <td>Avondale,LA</td>\n",
       "    </tr>\n",
       "</table>"
      ],
      "text/plain": [
       "[('LITE Industrial', 'Irving,TX'),\n",
       " ('Rex Tooling Inc', 'Dallas,TX'),\n",
       " ('Re-Barre Construction', 'Irving,TX'),\n",
       " ('Prairie Construction', 'Moore,OK'),\n",
       " ('Marsh Lane Metal Works', 'Avondale,LA')]"
      ]
     },
     "execution_count": 18,
     "metadata": {},
     "output_type": "execute_result"
    }
   ],
   "source": [
    "%%sql\n",
    "select \n",
    "NAME,\n",
    "CITY ||','|| STATE as LOCATION\n",
    "from CUSTOMER;"
   ]
  },
  {
   "cell_type": "markdown",
   "metadata": {
    "ExecuteTime": {
     "end_time": "2020-02-15T13:44:56.049197Z",
     "start_time": "2020-02-15T13:44:56.039412Z"
    }
   },
   "source": [
    "也可以将几个 fields 合成为一个单独的 SHIP_ADDRESS （邮件地址）："
   ]
  },
  {
   "cell_type": "code",
   "execution_count": 20,
   "metadata": {
    "ExecuteTime": {
     "end_time": "2020-02-15T13:45:12.101942Z",
     "start_time": "2020-02-15T13:45:12.085178Z"
    }
   },
   "outputs": [
    {
     "name": "stdout",
     "output_type": "stream",
     "text": [
      " * sqlite:///DataBase/rexon_metals.db\n",
      "Done.\n"
     ]
    },
    {
     "data": {
      "text/html": [
       "<table>\n",
       "    <tr>\n",
       "        <th>NAME</th>\n",
       "        <th>SHIP_ADDRESS</th>\n",
       "    </tr>\n",
       "    <tr>\n",
       "        <td>LITE Industrial</td>\n",
       "        <td>729 Ravine Way Irving,TX 75014</td>\n",
       "    </tr>\n",
       "    <tr>\n",
       "        <td>Rex Tooling Inc</td>\n",
       "        <td>6129 Collie Blvd Dallas,TX 75201</td>\n",
       "    </tr>\n",
       "    <tr>\n",
       "        <td>Re-Barre Construction</td>\n",
       "        <td>9043 Windy Dr Irving,TX 75032</td>\n",
       "    </tr>\n",
       "    <tr>\n",
       "        <td>Prairie Construction</td>\n",
       "        <td>264 Long Rd Moore,OK 62104</td>\n",
       "    </tr>\n",
       "    <tr>\n",
       "        <td>Marsh Lane Metal Works</td>\n",
       "        <td>9143 Marsh Ln Avondale,LA 79782</td>\n",
       "    </tr>\n",
       "</table>"
      ],
      "text/plain": [
       "[('LITE Industrial', '729 Ravine Way Irving,TX 75014'),\n",
       " ('Rex Tooling Inc', '6129 Collie Blvd Dallas,TX 75201'),\n",
       " ('Re-Barre Construction', '9043 Windy Dr Irving,TX 75032'),\n",
       " ('Prairie Construction', '264 Long Rd Moore,OK 62104'),\n",
       " ('Marsh Lane Metal Works', '9143 Marsh Ln Avondale,LA 79782')]"
      ]
     },
     "execution_count": 20,
     "metadata": {},
     "output_type": "execute_result"
    }
   ],
   "source": [
    "%%sql\n",
    "select\n",
    "NAME,\n",
    "STREET_ADDRESS || ' ' || CITY || ',' || STATE || ' ' || ZIP as SHIP_ADDRESS\n",
    "from CUSTOMER;"
   ]
  }
 ],
 "metadata": {
  "kernelspec": {
   "display_name": "Python 3",
   "language": "python",
   "name": "python3"
  },
  "language_info": {
   "codemirror_mode": {
    "name": "ipython",
    "version": 3
   },
   "file_extension": ".py",
   "mimetype": "text/x-python",
   "name": "python",
   "nbconvert_exporter": "python",
   "pygments_lexer": "ipython3",
   "version": "3.7.3"
  },
  "toc": {
   "base_numbering": 1,
   "nav_menu": {},
   "number_sections": true,
   "sideBar": true,
   "skip_h1_title": false,
   "title_cell": "Table of Contents",
   "title_sidebar": "Contents",
   "toc_cell": false,
   "toc_position": {},
   "toc_section_display": true,
   "toc_window_display": true
  },
  "varInspector": {
   "cols": {
    "lenName": 16,
    "lenType": 16,
    "lenVar": 40
   },
   "kernels_config": {
    "python": {
     "delete_cmd_postfix": "",
     "delete_cmd_prefix": "del ",
     "library": "var_list.py",
     "varRefreshCmd": "print(var_dic_list())"
    },
    "r": {
     "delete_cmd_postfix": ") ",
     "delete_cmd_prefix": "rm(",
     "library": "var_list.r",
     "varRefreshCmd": "cat(var_dic_list()) "
    }
   },
   "types_to_exclude": [
    "module",
    "function",
    "builtin_function_or_method",
    "instance",
    "_Feature"
   ],
   "window_display": false
  }
 },
 "nbformat": 4,
 "nbformat_minor": 4
}
