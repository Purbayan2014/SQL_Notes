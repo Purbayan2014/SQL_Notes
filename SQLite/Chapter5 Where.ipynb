{
 "cells": [
  {
   "cell_type": "markdown",
   "metadata": {},
   "source": [
    "# 1. Where\n",
    "\n",
    "我们在上一篇中介绍了 [Select 语句](https://blog.csdn.net/weixin_45488228/article/details/104336824)，接下来我们将使用 Where 子句，对数据进行筛选。"
   ]
  },
  {
   "cell_type": "markdown",
   "metadata": {},
   "source": [
    "- 使用Jupyter Notebook 运行 SQL 语句需安装 ipytho-n-sql\n",
    "\n",
    "- %sql 以及 %%sql 为在 Notebook 中运行 SQL 语句，在 SQLite 命令行或 SQLite Stiduo 中不需要 %sql 或 %%sql\n",
    "\n",
    "载入 SQL 以及连接 SQLite："
   ]
  },
  {
   "cell_type": "code",
   "execution_count": 2,
   "metadata": {
    "ExecuteTime": {
     "end_time": "2020-02-18T06:30:23.833513Z",
     "start_time": "2020-02-18T06:30:22.929242Z"
    }
   },
   "outputs": [
    {
     "data": {
      "text/plain": [
       "'Connected: @DataBase/weather_stations.db'"
      ]
     },
     "execution_count": 2,
     "metadata": {},
     "output_type": "execute_result"
    }
   ],
   "source": [
    "%load_ext sql\n",
    "%sql sqlite:///DataBase/weather_stations.db"
   ]
  },
  {
   "cell_type": "markdown",
   "metadata": {},
   "source": [
    "## 1.1 筛选记录\n",
    "\n",
    "本文将使用 [weather_stations.db](https://github.com/X1AOX1A/SQL_Notes/blob/master/SQLite/DataBase/weather_stations.db) 数据库，其中包含了 STATION_DATA 表。\n",
    "\n",
    "首先查看 STATION_DATA 表中的数据："
   ]
  },
  {
   "cell_type": "code",
   "execution_count": 12,
   "metadata": {
    "ExecuteTime": {
     "end_time": "2020-02-17T15:27:52.502534Z",
     "start_time": "2020-02-17T15:27:52.486178Z"
    }
   },
   "outputs": [
    {
     "name": "stdout",
     "output_type": "stream",
     "text": [
      " * sqlite:///DataBase/weather_stations.db\n",
      "Done.\n"
     ]
    },
    {
     "data": {
      "text/html": [
       "<table>\n",
       "    <tr>\n",
       "        <th>station_number</th>\n",
       "        <th>report_code</th>\n",
       "        <th>year</th>\n",
       "        <th>month</th>\n",
       "        <th>day</th>\n",
       "        <th>dew_point</th>\n",
       "        <th>station_pressure</th>\n",
       "        <th>visibility</th>\n",
       "        <th>wind_speed</th>\n",
       "        <th>temperature</th>\n",
       "        <th>precipitation</th>\n",
       "        <th>snow_depth</th>\n",
       "        <th>fog</th>\n",
       "        <th>rain</th>\n",
       "        <th>hail</th>\n",
       "        <th>thunder</th>\n",
       "        <th>tornado</th>\n",
       "    </tr>\n",
       "    <tr>\n",
       "        <td>143080</td>\n",
       "        <td>34DDA7</td>\n",
       "        <td>2002</td>\n",
       "        <td>12</td>\n",
       "        <td>21</td>\n",
       "        <td>33.8</td>\n",
       "        <td>987.4</td>\n",
       "        <td>3.4</td>\n",
       "        <td>0.2</td>\n",
       "        <td>36</td>\n",
       "        <td>0</td>\n",
       "        <td>None</td>\n",
       "        <td>1</td>\n",
       "        <td>1</td>\n",
       "        <td>1</td>\n",
       "        <td>1</td>\n",
       "        <td>1</td>\n",
       "    </tr>\n",
       "    <tr>\n",
       "        <td>766440</td>\n",
       "        <td>39537B</td>\n",
       "        <td>1998</td>\n",
       "        <td>10</td>\n",
       "        <td>1</td>\n",
       "        <td>72.7</td>\n",
       "        <td>1014.6</td>\n",
       "        <td>5.9</td>\n",
       "        <td>6.7</td>\n",
       "        <td>83.3</td>\n",
       "        <td>0</td>\n",
       "        <td>None</td>\n",
       "        <td>0</td>\n",
       "        <td>0</td>\n",
       "        <td>0</td>\n",
       "        <td>0</td>\n",
       "        <td>0</td>\n",
       "    </tr>\n",
       "    <tr>\n",
       "        <td>176010</td>\n",
       "        <td>C3C6D5</td>\n",
       "        <td>2001</td>\n",
       "        <td>5</td>\n",
       "        <td>18</td>\n",
       "        <td>55.7</td>\n",
       "        <td>None</td>\n",
       "        <td>7.3</td>\n",
       "        <td>4.3</td>\n",
       "        <td>69.1</td>\n",
       "        <td>0</td>\n",
       "        <td>None</td>\n",
       "        <td>0</td>\n",
       "        <td>0</td>\n",
       "        <td>0</td>\n",
       "        <td>0</td>\n",
       "        <td>0</td>\n",
       "    </tr>\n",
       "    <tr>\n",
       "        <td>125600</td>\n",
       "        <td>145150</td>\n",
       "        <td>2007</td>\n",
       "        <td>10</td>\n",
       "        <td>14</td>\n",
       "        <td>33</td>\n",
       "        <td>None</td>\n",
       "        <td>6.9</td>\n",
       "        <td>2.5</td>\n",
       "        <td>39.7</td>\n",
       "        <td>0</td>\n",
       "        <td>None</td>\n",
       "        <td>0</td>\n",
       "        <td>0</td>\n",
       "        <td>0</td>\n",
       "        <td>0</td>\n",
       "        <td>0</td>\n",
       "    </tr>\n",
       "    <tr>\n",
       "        <td>470160</td>\n",
       "        <td>EF616A</td>\n",
       "        <td>1967</td>\n",
       "        <td>7</td>\n",
       "        <td>29</td>\n",
       "        <td>65.6</td>\n",
       "        <td>None</td>\n",
       "        <td>9.2</td>\n",
       "        <td>1.2</td>\n",
       "        <td>72.4</td>\n",
       "        <td>0.04</td>\n",
       "        <td>None</td>\n",
       "        <td>0</td>\n",
       "        <td>0</td>\n",
       "        <td>0</td>\n",
       "        <td>0</td>\n",
       "        <td>0</td>\n",
       "    </tr>\n",
       "    <tr>\n",
       "        <td>821930</td>\n",
       "        <td>1F8A7B</td>\n",
       "        <td>1953</td>\n",
       "        <td>6</td>\n",
       "        <td>18</td>\n",
       "        <td>72.8</td>\n",
       "        <td>1007.1</td>\n",
       "        <td>12.4</td>\n",
       "        <td>3.6</td>\n",
       "        <td>81.3</td>\n",
       "        <td>0</td>\n",
       "        <td>None</td>\n",
       "        <td>0</td>\n",
       "        <td>0</td>\n",
       "        <td>0</td>\n",
       "        <td>0</td>\n",
       "        <td>0</td>\n",
       "    </tr>\n",
       "    <tr>\n",
       "        <td>478070</td>\n",
       "        <td>D028D8</td>\n",
       "        <td>1981</td>\n",
       "        <td>6</td>\n",
       "        <td>27</td>\n",
       "        <td>73.4</td>\n",
       "        <td>None</td>\n",
       "        <td>7.9</td>\n",
       "        <td>3</td>\n",
       "        <td>77</td>\n",
       "        <td>1.93</td>\n",
       "        <td>None</td>\n",
       "        <td>0</td>\n",
       "        <td>0</td>\n",
       "        <td>0</td>\n",
       "        <td>0</td>\n",
       "        <td>0</td>\n",
       "    </tr>\n",
       "    <tr>\n",
       "        <td>719200</td>\n",
       "        <td>C74611</td>\n",
       "        <td>1978</td>\n",
       "        <td>2</td>\n",
       "        <td>5</td>\n",
       "        <td>-4.4</td>\n",
       "        <td>962.9</td>\n",
       "        <td>14.9</td>\n",
       "        <td>13.3</td>\n",
       "        <td>1.6</td>\n",
       "        <td>0</td>\n",
       "        <td>9.8</td>\n",
       "        <td>0</td>\n",
       "        <td>0</td>\n",
       "        <td>0</td>\n",
       "        <td>0</td>\n",
       "        <td>0</td>\n",
       "    </tr>\n",
       "    <tr>\n",
       "        <td>477460</td>\n",
       "        <td>737090</td>\n",
       "        <td>1962</td>\n",
       "        <td>8</td>\n",
       "        <td>14</td>\n",
       "        <td>72.3</td>\n",
       "        <td>1009.6</td>\n",
       "        <td>24.1</td>\n",
       "        <td>5.1</td>\n",
       "        <td>84.5</td>\n",
       "        <td>0</td>\n",
       "        <td>None</td>\n",
       "        <td>0</td>\n",
       "        <td>0</td>\n",
       "        <td>0</td>\n",
       "        <td>0</td>\n",
       "        <td>0</td>\n",
       "    </tr>\n",
       "    <tr>\n",
       "        <td>598550</td>\n",
       "        <td>C5C66E</td>\n",
       "        <td>2006</td>\n",
       "        <td>10</td>\n",
       "        <td>15</td>\n",
       "        <td>72.9</td>\n",
       "        <td>None</td>\n",
       "        <td>14.2</td>\n",
       "        <td>1.7</td>\n",
       "        <td>82</td>\n",
       "        <td>0</td>\n",
       "        <td>None</td>\n",
       "        <td>0</td>\n",
       "        <td>0</td>\n",
       "        <td>0</td>\n",
       "        <td>0</td>\n",
       "        <td>0</td>\n",
       "    </tr>\n",
       "</table>"
      ],
      "text/plain": [
       "[(143080, '34DDA7', 2002, 12, 21, 33.8, 987.4, 3.4, 0.2, 36, 0, None, 1, 1, 1, 1, 1),\n",
       " (766440, '39537B', 1998, 10, 1, 72.7, 1014.6, 5.9, 6.7, 83.3, 0, None, 0, 0, 0, 0, 0),\n",
       " (176010, 'C3C6D5', 2001, 5, 18, 55.7, None, 7.3, 4.3, 69.1, 0, None, 0, 0, 0, 0, 0),\n",
       " (125600, '145150', 2007, 10, 14, 33, None, 6.9, 2.5, 39.7, 0, None, 0, 0, 0, 0, 0),\n",
       " (470160, 'EF616A', 1967, 7, 29, 65.6, None, 9.2, 1.2, 72.4, 0.04, None, 0, 0, 0, 0, 0),\n",
       " (821930, '1F8A7B', 1953, 6, 18, 72.8, 1007.1, 12.4, 3.6, 81.3, 0, None, 0, 0, 0, 0, 0),\n",
       " (478070, 'D028D8', 1981, 6, 27, 73.4, None, 7.9, 3, 77, 1.93, None, 0, 0, 0, 0, 0),\n",
       " (719200, 'C74611', 1978, 2, 5, -4.4, 962.9, 14.9, 13.3, 1.6, 0, 9.8, 0, 0, 0, 0, 0),\n",
       " (477460, '737090', 1962, 8, 14, 72.3, 1009.6, 24.1, 5.1, 84.5, 0, None, 0, 0, 0, 0, 0),\n",
       " (598550, 'C5C66E', 2006, 10, 15, 72.9, None, 14.2, 1.7, 82, 0, None, 0, 0, 0, 0, 0)]"
      ]
     },
     "execution_count": 12,
     "metadata": {},
     "output_type": "execute_result"
    }
   ],
   "source": [
    "%sql select * from station_data limit 0,10; -- 筛选前十行"
   ]
  },
  {
   "cell_type": "markdown",
   "metadata": {},
   "source": [
    "## 1.2 Using WHERE on Numbers\n",
    "\n",
    "<img style=\"float:center\" src=\"https://x1a-alioss.oss-cn-shenzhen.aliyuncs.com/Screen Shot 2020-02-18 at 15.31.18.png\" width=\"520\" >\n",
    "\n",
    "<center> 图1 SQLite 内置比较符 </center>\n",
    "\n",
    "假如我们只对 STATION_DATA 表中 2010 年的数据感兴趣，则使用 Where 子句是一个非常直接的方法。通过这个查询，你可以只返回 year 中只等于 2010 的记录："
   ]
  },
  {
   "cell_type": "code",
   "execution_count": 15,
   "metadata": {
    "ExecuteTime": {
     "end_time": "2020-02-18T07:50:15.068064Z",
     "start_time": "2020-02-18T07:50:15.056621Z"
    },
    "scrolled": false
   },
   "outputs": [
    {
     "name": "stdout",
     "output_type": "stream",
     "text": [
      " * sqlite:///DataBase/weather_stations.db\n",
      "Done.\n"
     ]
    },
    {
     "data": {
      "text/html": [
       "<table>\n",
       "    <tr>\n",
       "        <th>station_number</th>\n",
       "        <th>report_code</th>\n",
       "        <th>year</th>\n",
       "        <th>month</th>\n",
       "        <th>day</th>\n",
       "        <th>dew_point</th>\n",
       "        <th>station_pressure</th>\n",
       "        <th>visibility</th>\n",
       "        <th>wind_speed</th>\n",
       "        <th>temperature</th>\n",
       "        <th>precipitation</th>\n",
       "        <th>snow_depth</th>\n",
       "        <th>fog</th>\n",
       "        <th>rain</th>\n",
       "        <th>hail</th>\n",
       "        <th>thunder</th>\n",
       "        <th>tornado</th>\n",
       "    </tr>\n",
       "    <tr>\n",
       "        <td>719160</td>\n",
       "        <td>BAB974</td>\n",
       "        <td>2010</td>\n",
       "        <td>1</td>\n",
       "        <td>22</td>\n",
       "        <td>-22.8</td>\n",
       "        <td>1014.2</td>\n",
       "        <td>None</td>\n",
       "        <td>10.2</td>\n",
       "        <td>-18.5</td>\n",
       "        <td>0</td>\n",
       "        <td>9.4</td>\n",
       "        <td>0</td>\n",
       "        <td>0</td>\n",
       "        <td>0</td>\n",
       "        <td>0</td>\n",
       "        <td>0</td>\n",
       "    </tr>\n",
       "    <tr>\n",
       "        <td>766870</td>\n",
       "        <td>7C0938</td>\n",
       "        <td>2010</td>\n",
       "        <td>3</td>\n",
       "        <td>22</td>\n",
       "        <td>48</td>\n",
       "        <td>871.2</td>\n",
       "        <td>4.4</td>\n",
       "        <td>1.5</td>\n",
       "        <td>50.8</td>\n",
       "        <td>0.11</td>\n",
       "        <td>None</td>\n",
       "        <td>1</td>\n",
       "        <td>1</td>\n",
       "        <td>1</td>\n",
       "        <td>1</td>\n",
       "        <td>1</td>\n",
       "    </tr>\n",
       "    <tr>\n",
       "        <td>134624</td>\n",
       "        <td>11CEA1</td>\n",
       "        <td>2010</td>\n",
       "        <td>2</td>\n",
       "        <td>17</td>\n",
       "        <td>46</td>\n",
       "        <td>None</td>\n",
       "        <td>3.4</td>\n",
       "        <td>2.6</td>\n",
       "        <td>46</td>\n",
       "        <td>None</td>\n",
       "        <td>None</td>\n",
       "        <td>0</td>\n",
       "        <td>0</td>\n",
       "        <td>0</td>\n",
       "        <td>0</td>\n",
       "        <td>0</td>\n",
       "    </tr>\n",
       "</table>"
      ],
      "text/plain": [
       "[(719160, 'BAB974', 2010, 1, 22, -22.8, 1014.2, None, 10.2, -18.5, 0, 9.4, 0, 0, 0, 0, 0),\n",
       " (766870, '7C0938', 2010, 3, 22, 48, 871.2, 4.4, 1.5, 50.8, 0.11, None, 1, 1, 1, 1, 1),\n",
       " (134624, '11CEA1', 2010, 2, 17, 46, None, 3.4, 2.6, 46, None, None, 0, 0, 0, 0, 0)]"
      ]
     },
     "execution_count": 15,
     "metadata": {},
     "output_type": "execute_result"
    }
   ],
   "source": [
    "%%sql \n",
    "select * from station_data \n",
    "where year == 2010 \n",
    "limit 0,3; -- 由于数据太多，我们只展示前 3 条记录"
   ]
  },
  {
   "cell_type": "markdown",
   "metadata": {},
   "source": [
    "同样的，你也可以使用 **!<** 或者 **<>** 来筛选信息："
   ]
  },
  {
   "cell_type": "code",
   "execution_count": 24,
   "metadata": {
    "ExecuteTime": {
     "end_time": "2020-02-17T15:51:47.545502Z",
     "start_time": "2020-02-17T15:51:47.448416Z"
    }
   },
   "outputs": [
    {
     "name": "stdout",
     "output_type": "stream",
     "text": [
      " * sqlite:///DataBase/weather_stations.db\n",
      "Done.\n"
     ]
    },
    {
     "data": {
      "text/html": [
       "<table>\n",
       "    <tr>\n",
       "        <th>station_number</th>\n",
       "        <th>report_code</th>\n",
       "        <th>year</th>\n",
       "        <th>month</th>\n",
       "        <th>day</th>\n",
       "        <th>dew_point</th>\n",
       "        <th>station_pressure</th>\n",
       "        <th>visibility</th>\n",
       "        <th>wind_speed</th>\n",
       "        <th>temperature</th>\n",
       "        <th>precipitation</th>\n",
       "        <th>snow_depth</th>\n",
       "        <th>fog</th>\n",
       "        <th>rain</th>\n",
       "        <th>hail</th>\n",
       "        <th>thunder</th>\n",
       "        <th>tornado</th>\n",
       "    </tr>\n",
       "    <tr>\n",
       "        <td>143080</td>\n",
       "        <td>34DDA7</td>\n",
       "        <td>2002</td>\n",
       "        <td>12</td>\n",
       "        <td>21</td>\n",
       "        <td>33.8</td>\n",
       "        <td>987.4</td>\n",
       "        <td>3.4</td>\n",
       "        <td>0.2</td>\n",
       "        <td>36</td>\n",
       "        <td>0</td>\n",
       "        <td>None</td>\n",
       "        <td>1</td>\n",
       "        <td>1</td>\n",
       "        <td>1</td>\n",
       "        <td>1</td>\n",
       "        <td>1</td>\n",
       "    </tr>\n",
       "    <tr>\n",
       "        <td>766440</td>\n",
       "        <td>39537B</td>\n",
       "        <td>1998</td>\n",
       "        <td>10</td>\n",
       "        <td>1</td>\n",
       "        <td>72.7</td>\n",
       "        <td>1014.6</td>\n",
       "        <td>5.9</td>\n",
       "        <td>6.7</td>\n",
       "        <td>83.3</td>\n",
       "        <td>0</td>\n",
       "        <td>None</td>\n",
       "        <td>0</td>\n",
       "        <td>0</td>\n",
       "        <td>0</td>\n",
       "        <td>0</td>\n",
       "        <td>0</td>\n",
       "    </tr>\n",
       "    <tr>\n",
       "        <td>176010</td>\n",
       "        <td>C3C6D5</td>\n",
       "        <td>2001</td>\n",
       "        <td>5</td>\n",
       "        <td>18</td>\n",
       "        <td>55.7</td>\n",
       "        <td>None</td>\n",
       "        <td>7.3</td>\n",
       "        <td>4.3</td>\n",
       "        <td>69.1</td>\n",
       "        <td>0</td>\n",
       "        <td>None</td>\n",
       "        <td>0</td>\n",
       "        <td>0</td>\n",
       "        <td>0</td>\n",
       "        <td>0</td>\n",
       "        <td>0</td>\n",
       "    </tr>\n",
       "</table>"
      ],
      "text/plain": [
       "[(143080, '34DDA7', 2002, 12, 21, 33.8, 987.4, 3.4, 0.2, 36, 0, None, 1, 1, 1, 1, 1),\n",
       " (766440, '39537B', 1998, 10, 1, 72.7, 1014.6, 5.9, 6.7, 83.3, 0, None, 0, 0, 0, 0, 0),\n",
       " (176010, 'C3C6D5', 2001, 5, 18, 55.7, None, 7.3, 4.3, 69.1, 0, None, 0, 0, 0, 0, 0)]"
      ]
     },
     "execution_count": 24,
     "metadata": {},
     "output_type": "execute_result"
    }
   ],
   "source": [
    "%%sql \n",
    "select * from station_data \n",
    "where year != 2010 \n",
    "limit 0,3; -- 由于数据太多，我们只展示前 3 条记录"
   ]
  },
  {
   "cell_type": "markdown",
   "metadata": {},
   "source": [
    "我们也可以使用 **between** 条件来筛选范围："
   ]
  },
  {
   "cell_type": "code",
   "execution_count": 25,
   "metadata": {
    "ExecuteTime": {
     "end_time": "2020-02-17T15:51:54.370127Z",
     "start_time": "2020-02-17T15:51:54.329886Z"
    }
   },
   "outputs": [
    {
     "name": "stdout",
     "output_type": "stream",
     "text": [
      " * sqlite:///DataBase/weather_stations.db\n",
      "Done.\n"
     ]
    },
    {
     "data": {
      "text/html": [
       "<table>\n",
       "    <tr>\n",
       "        <th>station_number</th>\n",
       "        <th>report_code</th>\n",
       "        <th>year</th>\n",
       "        <th>month</th>\n",
       "        <th>day</th>\n",
       "        <th>dew_point</th>\n",
       "        <th>station_pressure</th>\n",
       "        <th>visibility</th>\n",
       "        <th>wind_speed</th>\n",
       "        <th>temperature</th>\n",
       "        <th>precipitation</th>\n",
       "        <th>snow_depth</th>\n",
       "        <th>fog</th>\n",
       "        <th>rain</th>\n",
       "        <th>hail</th>\n",
       "        <th>thunder</th>\n",
       "        <th>tornado</th>\n",
       "    </tr>\n",
       "    <tr>\n",
       "        <td>125600</td>\n",
       "        <td>145150</td>\n",
       "        <td>2007</td>\n",
       "        <td>10</td>\n",
       "        <td>14</td>\n",
       "        <td>33</td>\n",
       "        <td>None</td>\n",
       "        <td>6.9</td>\n",
       "        <td>2.5</td>\n",
       "        <td>39.7</td>\n",
       "        <td>0</td>\n",
       "        <td>None</td>\n",
       "        <td>0</td>\n",
       "        <td>0</td>\n",
       "        <td>0</td>\n",
       "        <td>0</td>\n",
       "        <td>0</td>\n",
       "    </tr>\n",
       "    <tr>\n",
       "        <td>598550</td>\n",
       "        <td>C5C66E</td>\n",
       "        <td>2006</td>\n",
       "        <td>10</td>\n",
       "        <td>15</td>\n",
       "        <td>72.9</td>\n",
       "        <td>None</td>\n",
       "        <td>14.2</td>\n",
       "        <td>1.7</td>\n",
       "        <td>82</td>\n",
       "        <td>0</td>\n",
       "        <td>None</td>\n",
       "        <td>0</td>\n",
       "        <td>0</td>\n",
       "        <td>0</td>\n",
       "        <td>0</td>\n",
       "        <td>0</td>\n",
       "    </tr>\n",
       "    <tr>\n",
       "        <td>941830</td>\n",
       "        <td>229317</td>\n",
       "        <td>2007</td>\n",
       "        <td>4</td>\n",
       "        <td>19</td>\n",
       "        <td>66.5</td>\n",
       "        <td>994.9</td>\n",
       "        <td>None</td>\n",
       "        <td>4</td>\n",
       "        <td>76.3</td>\n",
       "        <td>0</td>\n",
       "        <td>None</td>\n",
       "        <td>0</td>\n",
       "        <td>0</td>\n",
       "        <td>0</td>\n",
       "        <td>0</td>\n",
       "        <td>0</td>\n",
       "    </tr>\n",
       "</table>"
      ],
      "text/plain": [
       "[(125600, '145150', 2007, 10, 14, 33, None, 6.9, 2.5, 39.7, 0, None, 0, 0, 0, 0, 0),\n",
       " (598550, 'C5C66E', 2006, 10, 15, 72.9, None, 14.2, 1.7, 82, 0, None, 0, 0, 0, 0, 0),\n",
       " (941830, '229317', 2007, 4, 19, 66.5, 994.9, None, 4, 76.3, 0, None, 0, 0, 0, 0, 0)]"
      ]
     },
     "execution_count": 25,
     "metadata": {},
     "output_type": "execute_result"
    }
   ],
   "source": [
    "%%sql \n",
    "select * from station_data \n",
    "where year between 2005 and 2010\n",
    "limit 0,3; -- 由于数据太多，我们只展示前 3 条记录"
   ]
  },
  {
   "cell_type": "markdown",
   "metadata": {},
   "source": [
    "## 1.3 逻辑判断\n",
    "\n",
    "<img style=\"float:center\" src=\"https://x1a-alioss.oss-cn-shenzhen.aliyuncs.com/Screen Shot 2020-02-18 at 15.29.14.png\" width=\"520\" >\n",
    "\n",
    "<center> 图2 SQLite 内置逻辑判断符 </center>\n",
    "\n",
    "\n",
    "一个 **between** 条件相当于表达了*大于等于和小于等于*，即 **and** 条件："
   ]
  },
  {
   "cell_type": "code",
   "execution_count": 26,
   "metadata": {
    "ExecuteTime": {
     "end_time": "2020-02-17T15:51:59.535809Z",
     "start_time": "2020-02-17T15:51:59.479226Z"
    }
   },
   "outputs": [
    {
     "name": "stdout",
     "output_type": "stream",
     "text": [
      " * sqlite:///DataBase/weather_stations.db\n",
      "Done.\n"
     ]
    },
    {
     "data": {
      "text/html": [
       "<table>\n",
       "    <tr>\n",
       "        <th>station_number</th>\n",
       "        <th>report_code</th>\n",
       "        <th>year</th>\n",
       "        <th>month</th>\n",
       "        <th>day</th>\n",
       "        <th>dew_point</th>\n",
       "        <th>station_pressure</th>\n",
       "        <th>visibility</th>\n",
       "        <th>wind_speed</th>\n",
       "        <th>temperature</th>\n",
       "        <th>precipitation</th>\n",
       "        <th>snow_depth</th>\n",
       "        <th>fog</th>\n",
       "        <th>rain</th>\n",
       "        <th>hail</th>\n",
       "        <th>thunder</th>\n",
       "        <th>tornado</th>\n",
       "    </tr>\n",
       "    <tr>\n",
       "        <td>125600</td>\n",
       "        <td>145150</td>\n",
       "        <td>2007</td>\n",
       "        <td>10</td>\n",
       "        <td>14</td>\n",
       "        <td>33</td>\n",
       "        <td>None</td>\n",
       "        <td>6.9</td>\n",
       "        <td>2.5</td>\n",
       "        <td>39.7</td>\n",
       "        <td>0</td>\n",
       "        <td>None</td>\n",
       "        <td>0</td>\n",
       "        <td>0</td>\n",
       "        <td>0</td>\n",
       "        <td>0</td>\n",
       "        <td>0</td>\n",
       "    </tr>\n",
       "    <tr>\n",
       "        <td>598550</td>\n",
       "        <td>C5C66E</td>\n",
       "        <td>2006</td>\n",
       "        <td>10</td>\n",
       "        <td>15</td>\n",
       "        <td>72.9</td>\n",
       "        <td>None</td>\n",
       "        <td>14.2</td>\n",
       "        <td>1.7</td>\n",
       "        <td>82</td>\n",
       "        <td>0</td>\n",
       "        <td>None</td>\n",
       "        <td>0</td>\n",
       "        <td>0</td>\n",
       "        <td>0</td>\n",
       "        <td>0</td>\n",
       "        <td>0</td>\n",
       "    </tr>\n",
       "    <tr>\n",
       "        <td>941830</td>\n",
       "        <td>229317</td>\n",
       "        <td>2007</td>\n",
       "        <td>4</td>\n",
       "        <td>19</td>\n",
       "        <td>66.5</td>\n",
       "        <td>994.9</td>\n",
       "        <td>None</td>\n",
       "        <td>4</td>\n",
       "        <td>76.3</td>\n",
       "        <td>0</td>\n",
       "        <td>None</td>\n",
       "        <td>0</td>\n",
       "        <td>0</td>\n",
       "        <td>0</td>\n",
       "        <td>0</td>\n",
       "        <td>0</td>\n",
       "    </tr>\n",
       "</table>"
      ],
      "text/plain": [
       "[(125600, '145150', 2007, 10, 14, 33, None, 6.9, 2.5, 39.7, 0, None, 0, 0, 0, 0, 0),\n",
       " (598550, 'C5C66E', 2006, 10, 15, 72.9, None, 14.2, 1.7, 82, 0, None, 0, 0, 0, 0, 0),\n",
       " (941830, '229317', 2007, 4, 19, 66.5, 994.9, None, 4, 76.3, 0, None, 0, 0, 0, 0, 0)]"
      ]
     },
     "execution_count": 26,
     "metadata": {},
     "output_type": "execute_result"
    }
   ],
   "source": [
    "%%sql \n",
    "select * from station_data \n",
    "where year >=2005 and year <=2010\n",
    "limit 0,3; -- 由于数据太多，我们只展示前 3 条记录"
   ]
  },
  {
   "cell_type": "markdown",
   "metadata": {},
   "source": [
    "也可以通过 **or** 条件筛选记录："
   ]
  },
  {
   "cell_type": "code",
   "execution_count": 16,
   "metadata": {
    "ExecuteTime": {
     "end_time": "2020-02-18T07:50:28.134268Z",
     "start_time": "2020-02-18T07:50:28.122370Z"
    }
   },
   "outputs": [
    {
     "name": "stdout",
     "output_type": "stream",
     "text": [
      " * sqlite:///DataBase/weather_stations.db\n",
      "Done.\n"
     ]
    },
    {
     "data": {
      "text/html": [
       "<table>\n",
       "    <tr>\n",
       "        <th>station_number</th>\n",
       "        <th>report_code</th>\n",
       "        <th>year</th>\n",
       "        <th>month</th>\n",
       "        <th>day</th>\n",
       "        <th>dew_point</th>\n",
       "        <th>station_pressure</th>\n",
       "        <th>visibility</th>\n",
       "        <th>wind_speed</th>\n",
       "        <th>temperature</th>\n",
       "        <th>precipitation</th>\n",
       "        <th>snow_depth</th>\n",
       "        <th>fog</th>\n",
       "        <th>rain</th>\n",
       "        <th>hail</th>\n",
       "        <th>thunder</th>\n",
       "        <th>tornado</th>\n",
       "    </tr>\n",
       "    <tr>\n",
       "        <td>143080</td>\n",
       "        <td>34DDA7</td>\n",
       "        <td>2002</td>\n",
       "        <td>12</td>\n",
       "        <td>21</td>\n",
       "        <td>33.8</td>\n",
       "        <td>987.4</td>\n",
       "        <td>3.4</td>\n",
       "        <td>0.2</td>\n",
       "        <td>36</td>\n",
       "        <td>0</td>\n",
       "        <td>None</td>\n",
       "        <td>1</td>\n",
       "        <td>1</td>\n",
       "        <td>1</td>\n",
       "        <td>1</td>\n",
       "        <td>1</td>\n",
       "    </tr>\n",
       "    <tr>\n",
       "        <td>821930</td>\n",
       "        <td>1F8A7B</td>\n",
       "        <td>1953</td>\n",
       "        <td>6</td>\n",
       "        <td>18</td>\n",
       "        <td>72.8</td>\n",
       "        <td>1007.1</td>\n",
       "        <td>12.4</td>\n",
       "        <td>3.6</td>\n",
       "        <td>81.3</td>\n",
       "        <td>0</td>\n",
       "        <td>None</td>\n",
       "        <td>0</td>\n",
       "        <td>0</td>\n",
       "        <td>0</td>\n",
       "        <td>0</td>\n",
       "        <td>0</td>\n",
       "    </tr>\n",
       "    <tr>\n",
       "        <td>478070</td>\n",
       "        <td>D028D8</td>\n",
       "        <td>1981</td>\n",
       "        <td>6</td>\n",
       "        <td>27</td>\n",
       "        <td>73.4</td>\n",
       "        <td>None</td>\n",
       "        <td>7.9</td>\n",
       "        <td>3</td>\n",
       "        <td>77</td>\n",
       "        <td>1.93</td>\n",
       "        <td>None</td>\n",
       "        <td>0</td>\n",
       "        <td>0</td>\n",
       "        <td>0</td>\n",
       "        <td>0</td>\n",
       "        <td>0</td>\n",
       "    </tr>\n",
       "</table>"
      ],
      "text/plain": [
       "[(143080, '34DDA7', 2002, 12, 21, 33.8, 987.4, 3.4, 0.2, 36, 0, None, 1, 1, 1, 1, 1),\n",
       " (821930, '1F8A7B', 1953, 6, 18, 72.8, 1007.1, 12.4, 3.6, 81.3, 0, None, 0, 0, 0, 0, 0),\n",
       " (478070, 'D028D8', 1981, 6, 27, 73.4, None, 7.9, 3, 77, 1.93, None, 0, 0, 0, 0, 0)]"
      ]
     },
     "execution_count": 16,
     "metadata": {},
     "output_type": "execute_result"
    }
   ],
   "source": [
    "%%sql \n",
    "select * from station_data \n",
    "where Month==3\n",
    "or Month==6\n",
    "or Month==9\n",
    "or Month==12\n",
    "limit 0,3;"
   ]
  },
  {
   "cell_type": "markdown",
   "metadata": {},
   "source": [
    "这看起来有点麻烦，我们可以使用 **in** 来同样筛选记录："
   ]
  },
  {
   "cell_type": "code",
   "execution_count": 28,
   "metadata": {
    "ExecuteTime": {
     "end_time": "2020-02-17T15:53:52.328521Z",
     "start_time": "2020-02-17T15:53:52.315692Z"
    }
   },
   "outputs": [
    {
     "name": "stdout",
     "output_type": "stream",
     "text": [
      " * sqlite:///DataBase/weather_stations.db\n",
      "Done.\n"
     ]
    },
    {
     "data": {
      "text/html": [
       "<table>\n",
       "    <tr>\n",
       "        <th>station_number</th>\n",
       "        <th>report_code</th>\n",
       "        <th>year</th>\n",
       "        <th>month</th>\n",
       "        <th>day</th>\n",
       "        <th>dew_point</th>\n",
       "        <th>station_pressure</th>\n",
       "        <th>visibility</th>\n",
       "        <th>wind_speed</th>\n",
       "        <th>temperature</th>\n",
       "        <th>precipitation</th>\n",
       "        <th>snow_depth</th>\n",
       "        <th>fog</th>\n",
       "        <th>rain</th>\n",
       "        <th>hail</th>\n",
       "        <th>thunder</th>\n",
       "        <th>tornado</th>\n",
       "    </tr>\n",
       "    <tr>\n",
       "        <td>143080</td>\n",
       "        <td>34DDA7</td>\n",
       "        <td>2002</td>\n",
       "        <td>12</td>\n",
       "        <td>21</td>\n",
       "        <td>33.8</td>\n",
       "        <td>987.4</td>\n",
       "        <td>3.4</td>\n",
       "        <td>0.2</td>\n",
       "        <td>36</td>\n",
       "        <td>0</td>\n",
       "        <td>None</td>\n",
       "        <td>1</td>\n",
       "        <td>1</td>\n",
       "        <td>1</td>\n",
       "        <td>1</td>\n",
       "        <td>1</td>\n",
       "    </tr>\n",
       "    <tr>\n",
       "        <td>821930</td>\n",
       "        <td>1F8A7B</td>\n",
       "        <td>1953</td>\n",
       "        <td>6</td>\n",
       "        <td>18</td>\n",
       "        <td>72.8</td>\n",
       "        <td>1007.1</td>\n",
       "        <td>12.4</td>\n",
       "        <td>3.6</td>\n",
       "        <td>81.3</td>\n",
       "        <td>0</td>\n",
       "        <td>None</td>\n",
       "        <td>0</td>\n",
       "        <td>0</td>\n",
       "        <td>0</td>\n",
       "        <td>0</td>\n",
       "        <td>0</td>\n",
       "    </tr>\n",
       "    <tr>\n",
       "        <td>478070</td>\n",
       "        <td>D028D8</td>\n",
       "        <td>1981</td>\n",
       "        <td>6</td>\n",
       "        <td>27</td>\n",
       "        <td>73.4</td>\n",
       "        <td>None</td>\n",
       "        <td>7.9</td>\n",
       "        <td>3</td>\n",
       "        <td>77</td>\n",
       "        <td>1.93</td>\n",
       "        <td>None</td>\n",
       "        <td>0</td>\n",
       "        <td>0</td>\n",
       "        <td>0</td>\n",
       "        <td>0</td>\n",
       "        <td>0</td>\n",
       "    </tr>\n",
       "</table>"
      ],
      "text/plain": [
       "[(143080, '34DDA7', 2002, 12, 21, 33.8, 987.4, 3.4, 0.2, 36, 0, None, 1, 1, 1, 1, 1),\n",
       " (821930, '1F8A7B', 1953, 6, 18, 72.8, 1007.1, 12.4, 3.6, 81.3, 0, None, 0, 0, 0, 0, 0),\n",
       " (478070, 'D028D8', 1981, 6, 27, 73.4, None, 7.9, 3, 77, 1.93, None, 0, 0, 0, 0, 0)]"
      ]
     },
     "execution_count": 28,
     "metadata": {},
     "output_type": "execute_result"
    }
   ],
   "source": [
    "%%sql \n",
    "select * from station_data \n",
    "where Month in (3,6,9,12)\n",
    "limit 0,3;"
   ]
  },
  {
   "cell_type": "markdown",
   "metadata": {},
   "source": [
    "或者这样写："
   ]
  },
  {
   "cell_type": "code",
   "execution_count": 17,
   "metadata": {
    "ExecuteTime": {
     "end_time": "2020-02-18T07:50:45.693410Z",
     "start_time": "2020-02-18T07:50:45.658014Z"
    }
   },
   "outputs": [
    {
     "name": "stdout",
     "output_type": "stream",
     "text": [
      " * sqlite:///DataBase/weather_stations.db\n",
      "Done.\n"
     ]
    },
    {
     "data": {
      "text/html": [
       "<table>\n",
       "    <tr>\n",
       "        <th>station_number</th>\n",
       "        <th>report_code</th>\n",
       "        <th>year</th>\n",
       "        <th>month</th>\n",
       "        <th>day</th>\n",
       "        <th>dew_point</th>\n",
       "        <th>station_pressure</th>\n",
       "        <th>visibility</th>\n",
       "        <th>wind_speed</th>\n",
       "        <th>temperature</th>\n",
       "        <th>precipitation</th>\n",
       "        <th>snow_depth</th>\n",
       "        <th>fog</th>\n",
       "        <th>rain</th>\n",
       "        <th>hail</th>\n",
       "        <th>thunder</th>\n",
       "        <th>tornado</th>\n",
       "    </tr>\n",
       "    <tr>\n",
       "        <td>143080</td>\n",
       "        <td>34DDA7</td>\n",
       "        <td>2002</td>\n",
       "        <td>12</td>\n",
       "        <td>21</td>\n",
       "        <td>33.8</td>\n",
       "        <td>987.4</td>\n",
       "        <td>3.4</td>\n",
       "        <td>0.2</td>\n",
       "        <td>36</td>\n",
       "        <td>0</td>\n",
       "        <td>None</td>\n",
       "        <td>1</td>\n",
       "        <td>1</td>\n",
       "        <td>1</td>\n",
       "        <td>1</td>\n",
       "        <td>1</td>\n",
       "    </tr>\n",
       "    <tr>\n",
       "        <td>821930</td>\n",
       "        <td>1F8A7B</td>\n",
       "        <td>1953</td>\n",
       "        <td>6</td>\n",
       "        <td>18</td>\n",
       "        <td>72.8</td>\n",
       "        <td>1007.1</td>\n",
       "        <td>12.4</td>\n",
       "        <td>3.6</td>\n",
       "        <td>81.3</td>\n",
       "        <td>0</td>\n",
       "        <td>None</td>\n",
       "        <td>0</td>\n",
       "        <td>0</td>\n",
       "        <td>0</td>\n",
       "        <td>0</td>\n",
       "        <td>0</td>\n",
       "    </tr>\n",
       "    <tr>\n",
       "        <td>478070</td>\n",
       "        <td>D028D8</td>\n",
       "        <td>1981</td>\n",
       "        <td>6</td>\n",
       "        <td>27</td>\n",
       "        <td>73.4</td>\n",
       "        <td>None</td>\n",
       "        <td>7.9</td>\n",
       "        <td>3</td>\n",
       "        <td>77</td>\n",
       "        <td>1.93</td>\n",
       "        <td>None</td>\n",
       "        <td>0</td>\n",
       "        <td>0</td>\n",
       "        <td>0</td>\n",
       "        <td>0</td>\n",
       "        <td>0</td>\n",
       "    </tr>\n",
       "</table>"
      ],
      "text/plain": [
       "[(143080, '34DDA7', 2002, 12, 21, 33.8, 987.4, 3.4, 0.2, 36, 0, None, 1, 1, 1, 1, 1),\n",
       " (821930, '1F8A7B', 1953, 6, 18, 72.8, 1007.1, 12.4, 3.6, 81.3, 0, None, 0, 0, 0, 0, 0),\n",
       " (478070, 'D028D8', 1981, 6, 27, 73.4, None, 7.9, 3, 77, 1.93, None, 0, 0, 0, 0, 0)]"
      ]
     },
     "execution_count": 17,
     "metadata": {},
     "output_type": "execute_result"
    }
   ],
   "source": [
    "%%sql \n",
    "select * from station_data \n",
    "where Month % 3 == 0\n",
    "limit 0,3;"
   ]
  },
  {
   "cell_type": "markdown",
   "metadata": {
    "ExecuteTime": {
     "end_time": "2020-02-17T15:54:58.506103Z",
     "start_time": "2020-02-17T15:54:58.498691Z"
    }
   },
   "source": [
    "如果你不想要 3，6，9，12 月份的数据，你可以使用 **not in**："
   ]
  },
  {
   "cell_type": "code",
   "execution_count": 31,
   "metadata": {
    "ExecuteTime": {
     "end_time": "2020-02-17T15:55:11.048697Z",
     "start_time": "2020-02-17T15:55:11.038193Z"
    }
   },
   "outputs": [
    {
     "name": "stdout",
     "output_type": "stream",
     "text": [
      " * sqlite:///DataBase/weather_stations.db\n",
      "Done.\n"
     ]
    },
    {
     "data": {
      "text/html": [
       "<table>\n",
       "    <tr>\n",
       "        <th>station_number</th>\n",
       "        <th>report_code</th>\n",
       "        <th>year</th>\n",
       "        <th>month</th>\n",
       "        <th>day</th>\n",
       "        <th>dew_point</th>\n",
       "        <th>station_pressure</th>\n",
       "        <th>visibility</th>\n",
       "        <th>wind_speed</th>\n",
       "        <th>temperature</th>\n",
       "        <th>precipitation</th>\n",
       "        <th>snow_depth</th>\n",
       "        <th>fog</th>\n",
       "        <th>rain</th>\n",
       "        <th>hail</th>\n",
       "        <th>thunder</th>\n",
       "        <th>tornado</th>\n",
       "    </tr>\n",
       "    <tr>\n",
       "        <td>766440</td>\n",
       "        <td>39537B</td>\n",
       "        <td>1998</td>\n",
       "        <td>10</td>\n",
       "        <td>1</td>\n",
       "        <td>72.7</td>\n",
       "        <td>1014.6</td>\n",
       "        <td>5.9</td>\n",
       "        <td>6.7</td>\n",
       "        <td>83.3</td>\n",
       "        <td>0</td>\n",
       "        <td>None</td>\n",
       "        <td>0</td>\n",
       "        <td>0</td>\n",
       "        <td>0</td>\n",
       "        <td>0</td>\n",
       "        <td>0</td>\n",
       "    </tr>\n",
       "    <tr>\n",
       "        <td>176010</td>\n",
       "        <td>C3C6D5</td>\n",
       "        <td>2001</td>\n",
       "        <td>5</td>\n",
       "        <td>18</td>\n",
       "        <td>55.7</td>\n",
       "        <td>None</td>\n",
       "        <td>7.3</td>\n",
       "        <td>4.3</td>\n",
       "        <td>69.1</td>\n",
       "        <td>0</td>\n",
       "        <td>None</td>\n",
       "        <td>0</td>\n",
       "        <td>0</td>\n",
       "        <td>0</td>\n",
       "        <td>0</td>\n",
       "        <td>0</td>\n",
       "    </tr>\n",
       "    <tr>\n",
       "        <td>125600</td>\n",
       "        <td>145150</td>\n",
       "        <td>2007</td>\n",
       "        <td>10</td>\n",
       "        <td>14</td>\n",
       "        <td>33</td>\n",
       "        <td>None</td>\n",
       "        <td>6.9</td>\n",
       "        <td>2.5</td>\n",
       "        <td>39.7</td>\n",
       "        <td>0</td>\n",
       "        <td>None</td>\n",
       "        <td>0</td>\n",
       "        <td>0</td>\n",
       "        <td>0</td>\n",
       "        <td>0</td>\n",
       "        <td>0</td>\n",
       "    </tr>\n",
       "</table>"
      ],
      "text/plain": [
       "[(766440, '39537B', 1998, 10, 1, 72.7, 1014.6, 5.9, 6.7, 83.3, 0, None, 0, 0, 0, 0, 0),\n",
       " (176010, 'C3C6D5', 2001, 5, 18, 55.7, None, 7.3, 4.3, 69.1, 0, None, 0, 0, 0, 0, 0),\n",
       " (125600, '145150', 2007, 10, 14, 33, None, 6.9, 2.5, 39.7, 0, None, 0, 0, 0, 0, 0)]"
      ]
     },
     "execution_count": 31,
     "metadata": {},
     "output_type": "execute_result"
    }
   ],
   "source": [
    "%%sql \n",
    "select * from station_data \n",
    "where Month not in (3,6,9,12)\n",
    "limit 0,3;"
   ]
  },
  {
   "cell_type": "markdown",
   "metadata": {},
   "source": [
    "## 1.4 Using WHERE on Text\n",
    "\n",
    "<img style=\"float:center\" src=\"https://x1a-alioss.oss-cn-shenzhen.aliyuncs.com/Screen Shot 2020-02-18 at 15.23.05.png\" width=\"520\" >\n",
    "\n",
    "<center> 图2 SQLite 内置文字函数 </center>\n",
    "\n",
    "我们已经举了几个将 **where** 用于数字字段的例子，对于文字字段，方法也是大同小异的，同样可以使用 **=, AND, OR 和 IN** 。不同的是，对于文字，需要使用单引号："
   ]
  },
  {
   "cell_type": "code",
   "execution_count": 4,
   "metadata": {
    "ExecuteTime": {
     "end_time": "2020-02-18T06:30:57.980512Z",
     "start_time": "2020-02-18T06:30:57.962600Z"
    }
   },
   "outputs": [
    {
     "name": "stdout",
     "output_type": "stream",
     "text": [
      " * sqlite:///DataBase/weather_stations.db\n",
      "Done.\n"
     ]
    },
    {
     "data": {
      "text/html": [
       "<table>\n",
       "    <tr>\n",
       "        <th>station_number</th>\n",
       "        <th>report_code</th>\n",
       "        <th>year</th>\n",
       "        <th>month</th>\n",
       "        <th>day</th>\n",
       "        <th>dew_point</th>\n",
       "        <th>station_pressure</th>\n",
       "        <th>visibility</th>\n",
       "        <th>wind_speed</th>\n",
       "        <th>temperature</th>\n",
       "        <th>precipitation</th>\n",
       "        <th>snow_depth</th>\n",
       "        <th>fog</th>\n",
       "        <th>rain</th>\n",
       "        <th>hail</th>\n",
       "        <th>thunder</th>\n",
       "        <th>tornado</th>\n",
       "    </tr>\n",
       "    <tr>\n",
       "        <td>702223</td>\n",
       "        <td>513A63</td>\n",
       "        <td>2010</td>\n",
       "        <td>1</td>\n",
       "        <td>22</td>\n",
       "        <td>-23.1</td>\n",
       "        <td>None</td>\n",
       "        <td>10</td>\n",
       "        <td>0.8</td>\n",
       "        <td>-15.6</td>\n",
       "        <td>0</td>\n",
       "        <td>None</td>\n",
       "        <td>0</td>\n",
       "        <td>0</td>\n",
       "        <td>0</td>\n",
       "        <td>0</td>\n",
       "        <td>0</td>\n",
       "    </tr>\n",
       "</table>"
      ],
      "text/plain": [
       "[(702223, '513A63', 2010, 1, 22, -23.1, None, 10, 0.8, -15.6, 0, None, 0, 0, 0, 0, 0)]"
      ]
     },
     "execution_count": 4,
     "metadata": {},
     "output_type": "execute_result"
    }
   ],
   "source": [
    "%%sql\n",
    "select * from station_data\n",
    "where report_code == '513A63';"
   ]
  },
  {
   "cell_type": "markdown",
   "metadata": {},
   "source": [
    "注意 report_code 的格式是 text（而不是number），我们需要加上单引号 '513A63' ，如果没有单引号，SQL将会误认为 513A63 是一列而不是一个值，这将会造成错误。\n",
    "\n",
    "单引号适用于所有的文字操作，包括 **IN** 操作："
   ]
  },
  {
   "cell_type": "code",
   "execution_count": 5,
   "metadata": {
    "ExecuteTime": {
     "end_time": "2020-02-18T06:34:26.655249Z",
     "start_time": "2020-02-18T06:34:26.621845Z"
    }
   },
   "outputs": [
    {
     "name": "stdout",
     "output_type": "stream",
     "text": [
      " * sqlite:///DataBase/weather_stations.db\n",
      "Done.\n"
     ]
    },
    {
     "data": {
      "text/html": [
       "<table>\n",
       "    <tr>\n",
       "        <th>station_number</th>\n",
       "        <th>report_code</th>\n",
       "        <th>year</th>\n",
       "        <th>month</th>\n",
       "        <th>day</th>\n",
       "        <th>dew_point</th>\n",
       "        <th>station_pressure</th>\n",
       "        <th>visibility</th>\n",
       "        <th>wind_speed</th>\n",
       "        <th>temperature</th>\n",
       "        <th>precipitation</th>\n",
       "        <th>snow_depth</th>\n",
       "        <th>fog</th>\n",
       "        <th>rain</th>\n",
       "        <th>hail</th>\n",
       "        <th>thunder</th>\n",
       "        <th>tornado</th>\n",
       "    </tr>\n",
       "    <tr>\n",
       "        <td>470160</td>\n",
       "        <td>EF616A</td>\n",
       "        <td>1967</td>\n",
       "        <td>7</td>\n",
       "        <td>29</td>\n",
       "        <td>65.6</td>\n",
       "        <td>None</td>\n",
       "        <td>9.2</td>\n",
       "        <td>1.2</td>\n",
       "        <td>72.4</td>\n",
       "        <td>0.04</td>\n",
       "        <td>None</td>\n",
       "        <td>0</td>\n",
       "        <td>0</td>\n",
       "        <td>0</td>\n",
       "        <td>0</td>\n",
       "        <td>0</td>\n",
       "    </tr>\n",
       "    <tr>\n",
       "        <td>821930</td>\n",
       "        <td>1F8A7B</td>\n",
       "        <td>1953</td>\n",
       "        <td>6</td>\n",
       "        <td>18</td>\n",
       "        <td>72.8</td>\n",
       "        <td>1007.1</td>\n",
       "        <td>12.4</td>\n",
       "        <td>3.6</td>\n",
       "        <td>81.3</td>\n",
       "        <td>0</td>\n",
       "        <td>None</td>\n",
       "        <td>0</td>\n",
       "        <td>0</td>\n",
       "        <td>0</td>\n",
       "        <td>0</td>\n",
       "        <td>0</td>\n",
       "    </tr>\n",
       "    <tr>\n",
       "        <td>702223</td>\n",
       "        <td>513A63</td>\n",
       "        <td>2010</td>\n",
       "        <td>1</td>\n",
       "        <td>22</td>\n",
       "        <td>-23.1</td>\n",
       "        <td>None</td>\n",
       "        <td>10</td>\n",
       "        <td>0.8</td>\n",
       "        <td>-15.6</td>\n",
       "        <td>0</td>\n",
       "        <td>None</td>\n",
       "        <td>0</td>\n",
       "        <td>0</td>\n",
       "        <td>0</td>\n",
       "        <td>0</td>\n",
       "        <td>0</td>\n",
       "    </tr>\n",
       "</table>"
      ],
      "text/plain": [
       "[(470160, 'EF616A', 1967, 7, 29, 65.6, None, 9.2, 1.2, 72.4, 0.04, None, 0, 0, 0, 0, 0),\n",
       " (821930, '1F8A7B', 1953, 6, 18, 72.8, 1007.1, 12.4, 3.6, 81.3, 0, None, 0, 0, 0, 0, 0),\n",
       " (702223, '513A63', 2010, 1, 22, -23.1, None, 10, 0.8, -15.6, 0, None, 0, 0, 0, 0, 0)]"
      ]
     },
     "execution_count": 5,
     "metadata": {},
     "output_type": "execute_result"
    }
   ],
   "source": [
    "%%sql\n",
    "select * from station_data\n",
    "where report_code in ('513A63', '1F8A7B', 'EF616A')\n",
    "limit 0,3;"
   ]
  },
  {
   "cell_type": "markdown",
   "metadata": {},
   "source": [
    "在使用 **Where** 和 **Select** 时，还有一些很有用的文字操作和函数，比如 **length()** 函数可以计算长度，来返回 report_code 不等于 6 的记录："
   ]
  },
  {
   "cell_type": "code",
   "execution_count": null,
   "metadata": {},
   "outputs": [],
   "source": [
    "%%sql\n",
    "select * from station_data\n",
    "where length(report_code) != 6;"
   ]
  },
  {
   "cell_type": "markdown",
   "metadata": {},
   "source": [
    "另一个常见的操作符为一个**通配符**加上一个 **like** 表达，**%** 为任意长度的字符、**_** 为任意单字符。如果你想要找到 report_code 中以 “A” 开头的记录，可以使用 'A%'："
   ]
  },
  {
   "cell_type": "code",
   "execution_count": 8,
   "metadata": {
    "ExecuteTime": {
     "end_time": "2020-02-18T06:52:57.634859Z",
     "start_time": "2020-02-18T06:52:57.591723Z"
    }
   },
   "outputs": [
    {
     "name": "stdout",
     "output_type": "stream",
     "text": [
      " * sqlite:///DataBase/weather_stations.db\n",
      "Done.\n"
     ]
    },
    {
     "data": {
      "text/html": [
       "<table>\n",
       "    <tr>\n",
       "        <th>station_number</th>\n",
       "        <th>report_code</th>\n",
       "        <th>year</th>\n",
       "        <th>month</th>\n",
       "        <th>day</th>\n",
       "        <th>dew_point</th>\n",
       "        <th>station_pressure</th>\n",
       "        <th>visibility</th>\n",
       "        <th>wind_speed</th>\n",
       "        <th>temperature</th>\n",
       "        <th>precipitation</th>\n",
       "        <th>snow_depth</th>\n",
       "        <th>fog</th>\n",
       "        <th>rain</th>\n",
       "        <th>hail</th>\n",
       "        <th>thunder</th>\n",
       "        <th>tornado</th>\n",
       "    </tr>\n",
       "    <tr>\n",
       "        <td>484750</td>\n",
       "        <td>A38C90</td>\n",
       "        <td>1988</td>\n",
       "        <td>6</td>\n",
       "        <td>24</td>\n",
       "        <td>72.6</td>\n",
       "        <td>None</td>\n",
       "        <td>8.7</td>\n",
       "        <td>3.1</td>\n",
       "        <td>87.5</td>\n",
       "        <td>0</td>\n",
       "        <td>None</td>\n",
       "        <td>0</td>\n",
       "        <td>0</td>\n",
       "        <td>0</td>\n",
       "        <td>0</td>\n",
       "        <td>0</td>\n",
       "    </tr>\n",
       "    <tr>\n",
       "        <td>985310</td>\n",
       "        <td>A79DEC</td>\n",
       "        <td>2007</td>\n",
       "        <td>7</td>\n",
       "        <td>31</td>\n",
       "        <td>77.6</td>\n",
       "        <td>None</td>\n",
       "        <td>11.8</td>\n",
       "        <td>3.4</td>\n",
       "        <td>82.5</td>\n",
       "        <td>0</td>\n",
       "        <td>None</td>\n",
       "        <td>0</td>\n",
       "        <td>0</td>\n",
       "        <td>0</td>\n",
       "        <td>0</td>\n",
       "        <td>0</td>\n",
       "    </tr>\n",
       "    <tr>\n",
       "        <td>724505</td>\n",
       "        <td>A49553</td>\n",
       "        <td>2005</td>\n",
       "        <td>4</td>\n",
       "        <td>28</td>\n",
       "        <td>42.7</td>\n",
       "        <td>None</td>\n",
       "        <td>6.8</td>\n",
       "        <td>11.2</td>\n",
       "        <td>55.4</td>\n",
       "        <td>0.42</td>\n",
       "        <td>None</td>\n",
       "        <td>0</td>\n",
       "        <td>0</td>\n",
       "        <td>0</td>\n",
       "        <td>0</td>\n",
       "        <td>0</td>\n",
       "    </tr>\n",
       "</table>"
      ],
      "text/plain": [
       "[(484750, 'A38C90', 1988, 6, 24, 72.6, None, 8.7, 3.1, 87.5, 0, None, 0, 0, 0, 0, 0),\n",
       " (985310, 'A79DEC', 2007, 7, 31, 77.6, None, 11.8, 3.4, 82.5, 0, None, 0, 0, 0, 0, 0),\n",
       " (724505, 'A49553', 2005, 4, 28, 42.7, None, 6.8, 11.2, 55.4, 0.42, None, 0, 0, 0, 0, 0)]"
      ]
     },
     "execution_count": 8,
     "metadata": {},
     "output_type": "execute_result"
    }
   ],
   "source": [
    "%%sql\n",
    "select * from station_data\n",
    "where report_code like 'A%'\n",
    "limit 0,3;"
   ]
  },
  {
   "cell_type": "markdown",
   "metadata": {},
   "source": [
    "如果你想要寻找以 \"B\" 开头并且第三个字母是 \"C\" 的记录，你可以使用下划线（_）来作为第二个位置："
   ]
  },
  {
   "cell_type": "code",
   "execution_count": 10,
   "metadata": {
    "ExecuteTime": {
     "end_time": "2020-02-18T07:04:28.202567Z",
     "start_time": "2020-02-18T07:04:28.191764Z"
    }
   },
   "outputs": [
    {
     "name": "stdout",
     "output_type": "stream",
     "text": [
      " * sqlite:///DataBase/weather_stations.db\n",
      "Done.\n"
     ]
    },
    {
     "data": {
      "text/html": [
       "<table>\n",
       "    <tr>\n",
       "        <th>station_number</th>\n",
       "        <th>report_code</th>\n",
       "        <th>year</th>\n",
       "        <th>month</th>\n",
       "        <th>day</th>\n",
       "        <th>dew_point</th>\n",
       "        <th>station_pressure</th>\n",
       "        <th>visibility</th>\n",
       "        <th>wind_speed</th>\n",
       "        <th>temperature</th>\n",
       "        <th>precipitation</th>\n",
       "        <th>snow_depth</th>\n",
       "        <th>fog</th>\n",
       "        <th>rain</th>\n",
       "        <th>hail</th>\n",
       "        <th>thunder</th>\n",
       "        <th>tornado</th>\n",
       "    </tr>\n",
       "    <tr>\n",
       "        <td>999999</td>\n",
       "        <td>B6C2DE</td>\n",
       "        <td>1966</td>\n",
       "        <td>2</td>\n",
       "        <td>8</td>\n",
       "        <td>38.8</td>\n",
       "        <td>992.9</td>\n",
       "        <td>15.2</td>\n",
       "        <td>5.5</td>\n",
       "        <td>52.5</td>\n",
       "        <td>0</td>\n",
       "        <td>None</td>\n",
       "        <td>0</td>\n",
       "        <td>0</td>\n",
       "        <td>0</td>\n",
       "        <td>0</td>\n",
       "        <td>0</td>\n",
       "    </tr>\n",
       "    <tr>\n",
       "        <td>60110</td>\n",
       "        <td>B8CB27</td>\n",
       "        <td>1997</td>\n",
       "        <td>1</td>\n",
       "        <td>20</td>\n",
       "        <td>41.7</td>\n",
       "        <td>1008.3</td>\n",
       "        <td>13.1</td>\n",
       "        <td>19.1</td>\n",
       "        <td>44.7</td>\n",
       "        <td>0.04</td>\n",
       "        <td>None</td>\n",
       "        <td>0</td>\n",
       "        <td>0</td>\n",
       "        <td>0</td>\n",
       "        <td>0</td>\n",
       "        <td>0</td>\n",
       "    </tr>\n",
       "    <tr>\n",
       "        <td>64080</td>\n",
       "        <td>BECB51</td>\n",
       "        <td>1982</td>\n",
       "        <td>8</td>\n",
       "        <td>8</td>\n",
       "        <td>59</td>\n",
       "        <td>None</td>\n",
       "        <td>2.5</td>\n",
       "        <td>11</td>\n",
       "        <td>65.5</td>\n",
       "        <td>0</td>\n",
       "        <td>None</td>\n",
       "        <td>0</td>\n",
       "        <td>0</td>\n",
       "        <td>0</td>\n",
       "        <td>0</td>\n",
       "        <td>0</td>\n",
       "    </tr>\n",
       "</table>"
      ],
      "text/plain": [
       "[(999999, 'B6C2DE', 1966, 2, 8, 38.8, 992.9, 15.2, 5.5, 52.5, 0, None, 0, 0, 0, 0, 0),\n",
       " (60110, 'B8CB27', 1997, 1, 20, 41.7, 1008.3, 13.1, 19.1, 44.7, 0.04, None, 0, 0, 0, 0, 0),\n",
       " (64080, 'BECB51', 1982, 8, 8, 59, None, 2.5, 11, 65.5, 0, None, 0, 0, 0, 0, 0)]"
      ]
     },
     "execution_count": 10,
     "metadata": {},
     "output_type": "execute_result"
    }
   ],
   "source": [
    "%%sql\n",
    "select * from station_data\n",
    "where report_code like 'B_C%'\n",
    "limit 0,3;"
   ]
  },
  {
   "cell_type": "markdown",
   "metadata": {},
   "source": [
    "## 1.5 Using Where on Booleans"
   ]
  },
  {
   "cell_type": "markdown",
   "metadata": {},
   "source": [
    "布尔值是 true 或 false 值。在某些数据库中，使用 1、0 来代替 true 和 false，还有一些数据库（如MySQL）允许你直接使用 true 和 false，比如："
   ]
  },
  {
   "cell_type": "code",
   "execution_count": 14,
   "metadata": {
    "ExecuteTime": {
     "end_time": "2020-02-18T07:50:07.455421Z",
     "start_time": "2020-02-18T07:50:07.431668Z"
    }
   },
   "outputs": [
    {
     "name": "stdout",
     "output_type": "stream",
     "text": [
      " * sqlite:///DataBase/weather_stations.db\n",
      "Done.\n"
     ]
    },
    {
     "data": {
      "text/html": [
       "<table>\n",
       "    <tr>\n",
       "        <th>station_number</th>\n",
       "        <th>report_code</th>\n",
       "        <th>year</th>\n",
       "        <th>month</th>\n",
       "        <th>day</th>\n",
       "        <th>dew_point</th>\n",
       "        <th>station_pressure</th>\n",
       "        <th>visibility</th>\n",
       "        <th>wind_speed</th>\n",
       "        <th>temperature</th>\n",
       "        <th>precipitation</th>\n",
       "        <th>snow_depth</th>\n",
       "        <th>fog</th>\n",
       "        <th>rain</th>\n",
       "        <th>hail</th>\n",
       "        <th>thunder</th>\n",
       "        <th>tornado</th>\n",
       "    </tr>\n",
       "    <tr>\n",
       "        <td>143080</td>\n",
       "        <td>34DDA7</td>\n",
       "        <td>2002</td>\n",
       "        <td>12</td>\n",
       "        <td>21</td>\n",
       "        <td>33.8</td>\n",
       "        <td>987.4</td>\n",
       "        <td>3.4</td>\n",
       "        <td>0.2</td>\n",
       "        <td>36</td>\n",
       "        <td>0</td>\n",
       "        <td>None</td>\n",
       "        <td>1</td>\n",
       "        <td>1</td>\n",
       "        <td>1</td>\n",
       "        <td>1</td>\n",
       "        <td>1</td>\n",
       "    </tr>\n",
       "    <tr>\n",
       "        <td>724320</td>\n",
       "        <td>207979</td>\n",
       "        <td>1988</td>\n",
       "        <td>3</td>\n",
       "        <td>4</td>\n",
       "        <td>33.1</td>\n",
       "        <td>999.4</td>\n",
       "        <td>3.1</td>\n",
       "        <td>9.3</td>\n",
       "        <td>35.1</td>\n",
       "        <td>0.23</td>\n",
       "        <td>None</td>\n",
       "        <td>1</td>\n",
       "        <td>1</td>\n",
       "        <td>1</td>\n",
       "        <td>1</td>\n",
       "        <td>1</td>\n",
       "    </tr>\n",
       "    <tr>\n",
       "        <td>743920</td>\n",
       "        <td>2ABE7D</td>\n",
       "        <td>1996</td>\n",
       "        <td>5</td>\n",
       "        <td>21</td>\n",
       "        <td>57.6</td>\n",
       "        <td>None</td>\n",
       "        <td>5.8</td>\n",
       "        <td>7.5</td>\n",
       "        <td>70</td>\n",
       "        <td>0</td>\n",
       "        <td>None</td>\n",
       "        <td>1</td>\n",
       "        <td>1</td>\n",
       "        <td>1</td>\n",
       "        <td>1</td>\n",
       "        <td>1</td>\n",
       "    </tr>\n",
       "</table>"
      ],
      "text/plain": [
       "[(143080, '34DDA7', 2002, 12, 21, 33.8, 987.4, 3.4, 0.2, 36, 0, None, 1, 1, 1, 1, 1),\n",
       " (724320, '207979', 1988, 3, 4, 33.1, 999.4, 3.1, 9.3, 35.1, 0.23, None, 1, 1, 1, 1, 1),\n",
       " (743920, '2ABE7D', 1996, 5, 21, 57.6, None, 5.8, 7.5, 70, 0, None, 1, 1, 1, 1, 1)]"
      ]
     },
     "execution_count": 14,
     "metadata": {},
     "output_type": "execute_result"
    }
   ],
   "source": [
    "%%sql\n",
    "select * from station_data\n",
    "where tornado == true and hail == true\n",
    "limit 0,3;"
   ]
  },
  {
   "cell_type": "markdown",
   "metadata": {},
   "source": [
    "> SQLite 之前好像不支持直接使用 true 和 false ，只能使用 1 和 0，但经测试现在也可以了"
   ]
  },
  {
   "cell_type": "markdown",
   "metadata": {},
   "source": [
    "在 SQLite 中也可以使用这种形式："
   ]
  },
  {
   "cell_type": "code",
   "execution_count": 19,
   "metadata": {
    "ExecuteTime": {
     "end_time": "2020-02-18T07:58:56.858185Z",
     "start_time": "2020-02-18T07:58:56.814022Z"
    }
   },
   "outputs": [
    {
     "name": "stdout",
     "output_type": "stream",
     "text": [
      " * sqlite:///DataBase/weather_stations.db\n",
      "Done.\n"
     ]
    },
    {
     "data": {
      "text/html": [
       "<table>\n",
       "    <tr>\n",
       "        <th>station_number</th>\n",
       "        <th>report_code</th>\n",
       "        <th>year</th>\n",
       "        <th>month</th>\n",
       "        <th>day</th>\n",
       "        <th>dew_point</th>\n",
       "        <th>station_pressure</th>\n",
       "        <th>visibility</th>\n",
       "        <th>wind_speed</th>\n",
       "        <th>temperature</th>\n",
       "        <th>precipitation</th>\n",
       "        <th>snow_depth</th>\n",
       "        <th>fog</th>\n",
       "        <th>rain</th>\n",
       "        <th>hail</th>\n",
       "        <th>thunder</th>\n",
       "        <th>tornado</th>\n",
       "    </tr>\n",
       "    <tr>\n",
       "        <td>143080</td>\n",
       "        <td>34DDA7</td>\n",
       "        <td>2002</td>\n",
       "        <td>12</td>\n",
       "        <td>21</td>\n",
       "        <td>33.8</td>\n",
       "        <td>987.4</td>\n",
       "        <td>3.4</td>\n",
       "        <td>0.2</td>\n",
       "        <td>36</td>\n",
       "        <td>0</td>\n",
       "        <td>None</td>\n",
       "        <td>1</td>\n",
       "        <td>1</td>\n",
       "        <td>1</td>\n",
       "        <td>1</td>\n",
       "        <td>1</td>\n",
       "    </tr>\n",
       "    <tr>\n",
       "        <td>724320</td>\n",
       "        <td>207979</td>\n",
       "        <td>1988</td>\n",
       "        <td>3</td>\n",
       "        <td>4</td>\n",
       "        <td>33.1</td>\n",
       "        <td>999.4</td>\n",
       "        <td>3.1</td>\n",
       "        <td>9.3</td>\n",
       "        <td>35.1</td>\n",
       "        <td>0.23</td>\n",
       "        <td>None</td>\n",
       "        <td>1</td>\n",
       "        <td>1</td>\n",
       "        <td>1</td>\n",
       "        <td>1</td>\n",
       "        <td>1</td>\n",
       "    </tr>\n",
       "    <tr>\n",
       "        <td>743920</td>\n",
       "        <td>2ABE7D</td>\n",
       "        <td>1996</td>\n",
       "        <td>5</td>\n",
       "        <td>21</td>\n",
       "        <td>57.6</td>\n",
       "        <td>None</td>\n",
       "        <td>5.8</td>\n",
       "        <td>7.5</td>\n",
       "        <td>70</td>\n",
       "        <td>0</td>\n",
       "        <td>None</td>\n",
       "        <td>1</td>\n",
       "        <td>1</td>\n",
       "        <td>1</td>\n",
       "        <td>1</td>\n",
       "        <td>1</td>\n",
       "    </tr>\n",
       "</table>"
      ],
      "text/plain": [
       "[(143080, '34DDA7', 2002, 12, 21, 33.8, 987.4, 3.4, 0.2, 36, 0, None, 1, 1, 1, 1, 1),\n",
       " (724320, '207979', 1988, 3, 4, 33.1, 999.4, 3.1, 9.3, 35.1, 0.23, None, 1, 1, 1, 1, 1),\n",
       " (743920, '2ABE7D', 1996, 5, 21, 57.6, None, 5.8, 7.5, 70, 0, None, 1, 1, 1, 1, 1)]"
      ]
     },
     "execution_count": 19,
     "metadata": {},
     "output_type": "execute_result"
    }
   ],
   "source": [
    "%%sql\n",
    "select * from station_data\n",
    "where tornado == 1 and hail == 1\n",
    "limit 0,3;"
   ]
  },
  {
   "cell_type": "markdown",
   "metadata": {
    "ExecuteTime": {
     "end_time": "2020-02-18T08:01:32.229206Z",
     "start_time": "2020-02-18T08:01:32.221299Z"
    }
   },
   "source": [
    "如果你正在查找为 true 的值，你甚至可以不使用 **== 1** 的表达，因为它的格式已经是布尔值了，因此你也可以这样写："
   ]
  },
  {
   "cell_type": "code",
   "execution_count": 21,
   "metadata": {
    "ExecuteTime": {
     "end_time": "2020-02-18T08:01:48.015990Z",
     "start_time": "2020-02-18T08:01:48.001029Z"
    }
   },
   "outputs": [
    {
     "name": "stdout",
     "output_type": "stream",
     "text": [
      " * sqlite:///DataBase/weather_stations.db\n",
      "Done.\n"
     ]
    },
    {
     "data": {
      "text/html": [
       "<table>\n",
       "    <tr>\n",
       "        <th>station_number</th>\n",
       "        <th>report_code</th>\n",
       "        <th>year</th>\n",
       "        <th>month</th>\n",
       "        <th>day</th>\n",
       "        <th>dew_point</th>\n",
       "        <th>station_pressure</th>\n",
       "        <th>visibility</th>\n",
       "        <th>wind_speed</th>\n",
       "        <th>temperature</th>\n",
       "        <th>precipitation</th>\n",
       "        <th>snow_depth</th>\n",
       "        <th>fog</th>\n",
       "        <th>rain</th>\n",
       "        <th>hail</th>\n",
       "        <th>thunder</th>\n",
       "        <th>tornado</th>\n",
       "    </tr>\n",
       "    <tr>\n",
       "        <td>143080</td>\n",
       "        <td>34DDA7</td>\n",
       "        <td>2002</td>\n",
       "        <td>12</td>\n",
       "        <td>21</td>\n",
       "        <td>33.8</td>\n",
       "        <td>987.4</td>\n",
       "        <td>3.4</td>\n",
       "        <td>0.2</td>\n",
       "        <td>36</td>\n",
       "        <td>0</td>\n",
       "        <td>None</td>\n",
       "        <td>1</td>\n",
       "        <td>1</td>\n",
       "        <td>1</td>\n",
       "        <td>1</td>\n",
       "        <td>1</td>\n",
       "    </tr>\n",
       "    <tr>\n",
       "        <td>724320</td>\n",
       "        <td>207979</td>\n",
       "        <td>1988</td>\n",
       "        <td>3</td>\n",
       "        <td>4</td>\n",
       "        <td>33.1</td>\n",
       "        <td>999.4</td>\n",
       "        <td>3.1</td>\n",
       "        <td>9.3</td>\n",
       "        <td>35.1</td>\n",
       "        <td>0.23</td>\n",
       "        <td>None</td>\n",
       "        <td>1</td>\n",
       "        <td>1</td>\n",
       "        <td>1</td>\n",
       "        <td>1</td>\n",
       "        <td>1</td>\n",
       "    </tr>\n",
       "    <tr>\n",
       "        <td>743920</td>\n",
       "        <td>2ABE7D</td>\n",
       "        <td>1996</td>\n",
       "        <td>5</td>\n",
       "        <td>21</td>\n",
       "        <td>57.6</td>\n",
       "        <td>None</td>\n",
       "        <td>5.8</td>\n",
       "        <td>7.5</td>\n",
       "        <td>70</td>\n",
       "        <td>0</td>\n",
       "        <td>None</td>\n",
       "        <td>1</td>\n",
       "        <td>1</td>\n",
       "        <td>1</td>\n",
       "        <td>1</td>\n",
       "        <td>1</td>\n",
       "    </tr>\n",
       "</table>"
      ],
      "text/plain": [
       "[(143080, '34DDA7', 2002, 12, 21, 33.8, 987.4, 3.4, 0.2, 36, 0, None, 1, 1, 1, 1, 1),\n",
       " (724320, '207979', 1988, 3, 4, 33.1, 999.4, 3.1, 9.3, 35.1, 0.23, None, 1, 1, 1, 1, 1),\n",
       " (743920, '2ABE7D', 1996, 5, 21, 57.6, None, 5.8, 7.5, 70, 0, None, 1, 1, 1, 1, 1)]"
      ]
     },
     "execution_count": 21,
     "metadata": {},
     "output_type": "execute_result"
    }
   ],
   "source": [
    "%%sql\n",
    "select * from station_data\n",
    "where tornado and hail\n",
    "limit 0,3;"
   ]
  },
  {
   "cell_type": "markdown",
   "metadata": {},
   "source": [
    "同样，对于 false 也有两种表达："
   ]
  },
  {
   "cell_type": "code",
   "execution_count": 25,
   "metadata": {
    "ExecuteTime": {
     "end_time": "2020-02-18T08:03:32.282465Z",
     "start_time": "2020-02-18T08:03:32.264304Z"
    }
   },
   "outputs": [
    {
     "name": "stdout",
     "output_type": "stream",
     "text": [
      " * sqlite:///DataBase/weather_stations.db\n",
      "Done.\n"
     ]
    },
    {
     "data": {
      "text/html": [
       "<table>\n",
       "    <tr>\n",
       "        <th>station_number</th>\n",
       "        <th>report_code</th>\n",
       "        <th>year</th>\n",
       "        <th>month</th>\n",
       "        <th>day</th>\n",
       "        <th>dew_point</th>\n",
       "        <th>station_pressure</th>\n",
       "        <th>visibility</th>\n",
       "        <th>wind_speed</th>\n",
       "        <th>temperature</th>\n",
       "        <th>precipitation</th>\n",
       "        <th>snow_depth</th>\n",
       "        <th>fog</th>\n",
       "        <th>rain</th>\n",
       "        <th>hail</th>\n",
       "        <th>thunder</th>\n",
       "        <th>tornado</th>\n",
       "    </tr>\n",
       "</table>"
      ],
      "text/plain": [
       "[]"
      ]
     },
     "execution_count": 25,
     "metadata": {},
     "output_type": "execute_result"
    }
   ],
   "source": [
    "%%sql\n",
    "select * from station_data\n",
    "where tornado == 0 and hail == 1;"
   ]
  },
  {
   "cell_type": "code",
   "execution_count": 24,
   "metadata": {
    "ExecuteTime": {
     "end_time": "2020-02-18T08:03:28.140088Z",
     "start_time": "2020-02-18T08:03:28.123702Z"
    }
   },
   "outputs": [
    {
     "name": "stdout",
     "output_type": "stream",
     "text": [
      " * sqlite:///DataBase/weather_stations.db\n",
      "Done.\n"
     ]
    },
    {
     "data": {
      "text/html": [
       "<table>\n",
       "    <tr>\n",
       "        <th>station_number</th>\n",
       "        <th>report_code</th>\n",
       "        <th>year</th>\n",
       "        <th>month</th>\n",
       "        <th>day</th>\n",
       "        <th>dew_point</th>\n",
       "        <th>station_pressure</th>\n",
       "        <th>visibility</th>\n",
       "        <th>wind_speed</th>\n",
       "        <th>temperature</th>\n",
       "        <th>precipitation</th>\n",
       "        <th>snow_depth</th>\n",
       "        <th>fog</th>\n",
       "        <th>rain</th>\n",
       "        <th>hail</th>\n",
       "        <th>thunder</th>\n",
       "        <th>tornado</th>\n",
       "    </tr>\n",
       "</table>"
      ],
      "text/plain": [
       "[]"
      ]
     },
     "execution_count": 24,
     "metadata": {},
     "output_type": "execute_result"
    }
   ],
   "source": [
    "%%sql\n",
    "select * from station_data\n",
    "where not tornado and hail;"
   ]
  },
  {
   "cell_type": "markdown",
   "metadata": {},
   "source": [
    "## 1.6 处理缺失值"
   ]
  },
  {
   "cell_type": "markdown",
   "metadata": {},
   "source": [
    "你可能发现了某一些列包含了缺失值（*null* values），比如 station_pressure 和 snow_depth。**Null** 无法使用 **==** 来查找，你需要使用 **IS NULL** 或 **IS NOT NULL** 来浮现缺失值。因此，为了到所有没有 snow_depth 数据的记录，你可以使用以下查询："
   ]
  },
  {
   "cell_type": "code",
   "execution_count": 26,
   "metadata": {
    "ExecuteTime": {
     "end_time": "2020-02-18T08:14:10.874907Z",
     "start_time": "2020-02-18T08:14:10.857002Z"
    }
   },
   "outputs": [
    {
     "name": "stdout",
     "output_type": "stream",
     "text": [
      " * sqlite:///DataBase/weather_stations.db\n",
      "Done.\n"
     ]
    },
    {
     "data": {
      "text/html": [
       "<table>\n",
       "    <tr>\n",
       "        <th>station_number</th>\n",
       "        <th>report_code</th>\n",
       "        <th>year</th>\n",
       "        <th>month</th>\n",
       "        <th>day</th>\n",
       "        <th>dew_point</th>\n",
       "        <th>station_pressure</th>\n",
       "        <th>visibility</th>\n",
       "        <th>wind_speed</th>\n",
       "        <th>temperature</th>\n",
       "        <th>precipitation</th>\n",
       "        <th>snow_depth</th>\n",
       "        <th>fog</th>\n",
       "        <th>rain</th>\n",
       "        <th>hail</th>\n",
       "        <th>thunder</th>\n",
       "        <th>tornado</th>\n",
       "    </tr>\n",
       "    <tr>\n",
       "        <td>143080</td>\n",
       "        <td>34DDA7</td>\n",
       "        <td>2002</td>\n",
       "        <td>12</td>\n",
       "        <td>21</td>\n",
       "        <td>33.8</td>\n",
       "        <td>987.4</td>\n",
       "        <td>3.4</td>\n",
       "        <td>0.2</td>\n",
       "        <td>36</td>\n",
       "        <td>0</td>\n",
       "        <td>None</td>\n",
       "        <td>1</td>\n",
       "        <td>1</td>\n",
       "        <td>1</td>\n",
       "        <td>1</td>\n",
       "        <td>1</td>\n",
       "    </tr>\n",
       "    <tr>\n",
       "        <td>766440</td>\n",
       "        <td>39537B</td>\n",
       "        <td>1998</td>\n",
       "        <td>10</td>\n",
       "        <td>1</td>\n",
       "        <td>72.7</td>\n",
       "        <td>1014.6</td>\n",
       "        <td>5.9</td>\n",
       "        <td>6.7</td>\n",
       "        <td>83.3</td>\n",
       "        <td>0</td>\n",
       "        <td>None</td>\n",
       "        <td>0</td>\n",
       "        <td>0</td>\n",
       "        <td>0</td>\n",
       "        <td>0</td>\n",
       "        <td>0</td>\n",
       "    </tr>\n",
       "    <tr>\n",
       "        <td>176010</td>\n",
       "        <td>C3C6D5</td>\n",
       "        <td>2001</td>\n",
       "        <td>5</td>\n",
       "        <td>18</td>\n",
       "        <td>55.7</td>\n",
       "        <td>None</td>\n",
       "        <td>7.3</td>\n",
       "        <td>4.3</td>\n",
       "        <td>69.1</td>\n",
       "        <td>0</td>\n",
       "        <td>None</td>\n",
       "        <td>0</td>\n",
       "        <td>0</td>\n",
       "        <td>0</td>\n",
       "        <td>0</td>\n",
       "        <td>0</td>\n",
       "    </tr>\n",
       "</table>"
      ],
      "text/plain": [
       "[(143080, '34DDA7', 2002, 12, 21, 33.8, 987.4, 3.4, 0.2, 36, 0, None, 1, 1, 1, 1, 1),\n",
       " (766440, '39537B', 1998, 10, 1, 72.7, 1014.6, 5.9, 6.7, 83.3, 0, None, 0, 0, 0, 0, 0),\n",
       " (176010, 'C3C6D5', 2001, 5, 18, 55.7, None, 7.3, 4.3, 69.1, 0, None, 0, 0, 0, 0, 0)]"
      ]
     },
     "execution_count": 26,
     "metadata": {},
     "output_type": "execute_result"
    }
   ],
   "source": [
    "%%sql\n",
    "select * from station_data\n",
    "where snow_depth IS NULL\n",
    "limit 0,3;"
   ]
  },
  {
   "cell_type": "markdown",
   "metadata": {
    "ExecuteTime": {
     "end_time": "2020-02-18T08:28:37.420869Z",
     "start_time": "2020-02-18T08:28:37.413255Z"
    }
   },
   "source": [
    "如果你想要将缺失值替换为一个确切的值，你可以使用 **coalesce()** 函数，如将降雨量为缺失值的数据替换为 0 ，同时筛选其中小于等于 0 的数据："
   ]
  },
  {
   "cell_type": "code",
   "execution_count": 29,
   "metadata": {
    "ExecuteTime": {
     "end_time": "2020-02-18T08:30:25.882258Z",
     "start_time": "2020-02-18T08:30:25.869949Z"
    }
   },
   "outputs": [
    {
     "name": "stdout",
     "output_type": "stream",
     "text": [
      " * sqlite:///DataBase/weather_stations.db\n",
      "Done.\n"
     ]
    },
    {
     "data": {
      "text/html": [
       "<table>\n",
       "    <tr>\n",
       "        <th>station_number</th>\n",
       "        <th>report_code</th>\n",
       "        <th>year</th>\n",
       "        <th>month</th>\n",
       "        <th>day</th>\n",
       "        <th>dew_point</th>\n",
       "        <th>station_pressure</th>\n",
       "        <th>visibility</th>\n",
       "        <th>wind_speed</th>\n",
       "        <th>temperature</th>\n",
       "        <th>precipitation</th>\n",
       "        <th>snow_depth</th>\n",
       "        <th>fog</th>\n",
       "        <th>rain</th>\n",
       "        <th>hail</th>\n",
       "        <th>thunder</th>\n",
       "        <th>tornado</th>\n",
       "    </tr>\n",
       "    <tr>\n",
       "        <td>143080</td>\n",
       "        <td>34DDA7</td>\n",
       "        <td>2002</td>\n",
       "        <td>12</td>\n",
       "        <td>21</td>\n",
       "        <td>33.8</td>\n",
       "        <td>987.4</td>\n",
       "        <td>3.4</td>\n",
       "        <td>0.2</td>\n",
       "        <td>36</td>\n",
       "        <td>0</td>\n",
       "        <td>None</td>\n",
       "        <td>1</td>\n",
       "        <td>1</td>\n",
       "        <td>1</td>\n",
       "        <td>1</td>\n",
       "        <td>1</td>\n",
       "    </tr>\n",
       "    <tr>\n",
       "        <td>766440</td>\n",
       "        <td>39537B</td>\n",
       "        <td>1998</td>\n",
       "        <td>10</td>\n",
       "        <td>1</td>\n",
       "        <td>72.7</td>\n",
       "        <td>1014.6</td>\n",
       "        <td>5.9</td>\n",
       "        <td>6.7</td>\n",
       "        <td>83.3</td>\n",
       "        <td>0</td>\n",
       "        <td>None</td>\n",
       "        <td>0</td>\n",
       "        <td>0</td>\n",
       "        <td>0</td>\n",
       "        <td>0</td>\n",
       "        <td>0</td>\n",
       "    </tr>\n",
       "    <tr>\n",
       "        <td>176010</td>\n",
       "        <td>C3C6D5</td>\n",
       "        <td>2001</td>\n",
       "        <td>5</td>\n",
       "        <td>18</td>\n",
       "        <td>55.7</td>\n",
       "        <td>None</td>\n",
       "        <td>7.3</td>\n",
       "        <td>4.3</td>\n",
       "        <td>69.1</td>\n",
       "        <td>0</td>\n",
       "        <td>None</td>\n",
       "        <td>0</td>\n",
       "        <td>0</td>\n",
       "        <td>0</td>\n",
       "        <td>0</td>\n",
       "        <td>0</td>\n",
       "    </tr>\n",
       "</table>"
      ],
      "text/plain": [
       "[(143080, '34DDA7', 2002, 12, 21, 33.8, 987.4, 3.4, 0.2, 36, 0, None, 1, 1, 1, 1, 1),\n",
       " (766440, '39537B', 1998, 10, 1, 72.7, 1014.6, 5.9, 6.7, 83.3, 0, None, 0, 0, 0, 0, 0),\n",
       " (176010, 'C3C6D5', 2001, 5, 18, 55.7, None, 7.3, 4.3, 69.1, 0, None, 0, 0, 0, 0, 0)]"
      ]
     },
     "execution_count": 29,
     "metadata": {},
     "output_type": "execute_result"
    }
   ],
   "source": [
    "%%sql\n",
    "select * from station_data\n",
    "where coalesce(precipitation, 0) <= 0.5\n",
    "limit 0,3;"
   ]
  },
  {
   "cell_type": "markdown",
   "metadata": {},
   "source": [
    "**coalesce()** 函数不仅可以用于 **where** 子句中， 还可以用于 **select** 语句中，如："
   ]
  },
  {
   "cell_type": "code",
   "execution_count": 31,
   "metadata": {
    "ExecuteTime": {
     "end_time": "2020-02-18T08:32:54.973421Z",
     "start_time": "2020-02-18T08:32:54.957952Z"
    }
   },
   "outputs": [
    {
     "name": "stdout",
     "output_type": "stream",
     "text": [
      " * sqlite:///DataBase/weather_stations.db\n",
      "Done.\n"
     ]
    },
    {
     "data": {
      "text/html": [
       "<table>\n",
       "    <tr>\n",
       "        <th>report_code</th>\n",
       "        <th>rainfall</th>\n",
       "    </tr>\n",
       "    <tr>\n",
       "        <td>34DDA7</td>\n",
       "        <td>0</td>\n",
       "    </tr>\n",
       "    <tr>\n",
       "        <td>39537B</td>\n",
       "        <td>0</td>\n",
       "    </tr>\n",
       "    <tr>\n",
       "        <td>C3C6D5</td>\n",
       "        <td>0</td>\n",
       "    </tr>\n",
       "</table>"
      ],
      "text/plain": [
       "[('34DDA7', 0), ('39537B', 0), ('C3C6D5', 0)]"
      ]
     },
     "execution_count": 31,
     "metadata": {},
     "output_type": "execute_result"
    }
   ],
   "source": [
    "%%sql\n",
    "select report_code, coalesce(precipitation, 0) as rainfall\n",
    "from station_data\n",
    "limit 0,3;"
   ]
  },
  {
   "cell_type": "markdown",
   "metadata": {},
   "source": [
    "# 参考资料\n",
    "\n",
    "[1] [Thomas Nield.Getting Started with SQL](https://github.com/X1AOX1A/SQL_Notes/blob/master/getting_started_with_sql/Getting%20Started%20with%20SQL.pdf)[M].US: O’Reilly, 2016: 29-37\n"
   ]
  }
 ],
 "metadata": {
  "kernelspec": {
   "display_name": "Python 3",
   "language": "python",
   "name": "python3"
  },
  "language_info": {
   "codemirror_mode": {
    "name": "ipython",
    "version": 3
   },
   "file_extension": ".py",
   "mimetype": "text/x-python",
   "name": "python",
   "nbconvert_exporter": "python",
   "pygments_lexer": "ipython3",
   "version": "3.7.3"
  },
  "toc": {
   "base_numbering": 1,
   "nav_menu": {},
   "number_sections": false,
   "sideBar": true,
   "skip_h1_title": false,
   "title_cell": "Table of Contents",
   "title_sidebar": "Contents",
   "toc_cell": false,
   "toc_position": {
    "height": "calc(100% - 180px)",
    "left": "10px",
    "top": "150px",
    "width": "256px"
   },
   "toc_section_display": true,
   "toc_window_display": true
  },
  "varInspector": {
   "cols": {
    "lenName": 16,
    "lenType": 16,
    "lenVar": 40
   },
   "kernels_config": {
    "python": {
     "delete_cmd_postfix": "",
     "delete_cmd_prefix": "del ",
     "library": "var_list.py",
     "varRefreshCmd": "print(var_dic_list())"
    },
    "r": {
     "delete_cmd_postfix": ") ",
     "delete_cmd_prefix": "rm(",
     "library": "var_list.r",
     "varRefreshCmd": "cat(var_dic_list()) "
    }
   },
   "types_to_exclude": [
    "module",
    "function",
    "builtin_function_or_method",
    "instance",
    "_Feature"
   ],
   "window_display": false
  }
 },
 "nbformat": 4,
 "nbformat_minor": 4
}
