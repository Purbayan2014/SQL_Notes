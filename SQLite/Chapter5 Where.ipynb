{
 "cells": [
  {
   "cell_type": "markdown",
   "metadata": {},
   "source": [
    "# 1. Where\n",
    "\n",
    "我们在上一篇中介绍了 [Select 语句](https://blog.csdn.net/weixin_45488228/article/details/104336824)，接下来我们将使用 Where 子句，对数据进行筛选。"
   ]
  },
  {
   "cell_type": "markdown",
   "metadata": {},
   "source": [
    "-  使用Jupyter Notebook 运行 SQL 语句需安装 ipytho-n-sql\n",
    "\n",
    "- %sql 以及 %%sql 为在 Notebook 中运行 SQL 语句，在 SQLite 命令行或 SQLite Stiduo 中不需要 %sql 或 %%sql\n",
    "\n",
    "载入 SQL 以及连接 SQLite："
   ]
  },
  {
   "cell_type": "code",
   "execution_count": 4,
   "metadata": {
    "ExecuteTime": {
     "end_time": "2020-02-17T15:23:13.542628Z",
     "start_time": "2020-02-17T15:23:13.526330Z"
    }
   },
   "outputs": [
    {
     "name": "stdout",
     "output_type": "stream",
     "text": [
      "The sql extension is already loaded. To reload it, use:\n",
      "  %reload_ext sql\n"
     ]
    },
    {
     "data": {
      "text/plain": [
       "'Connected: @DataBase/weather_stations.db'"
      ]
     },
     "execution_count": 4,
     "metadata": {},
     "output_type": "execute_result"
    }
   ],
   "source": [
    "%load_ext sql\n",
    "%sql sqlite:///DataBase/weather_stations.db"
   ]
  },
  {
   "cell_type": "markdown",
   "metadata": {},
   "source": [
    "## 1.1 筛选记录\n",
    "\n",
    "本文将使用 [weather_stations.db](https://github.com/X1AOX1A/SQL_Notes/blob/master/SQLite/DataBase/weather_stations.db) 数据库，其中包含了 STATION_DATA 表。\n",
    "\n",
    "首先查看 STATION_DATA 表中的数据："
   ]
  },
  {
   "cell_type": "code",
   "execution_count": 12,
   "metadata": {
    "ExecuteTime": {
     "end_time": "2020-02-17T15:27:52.502534Z",
     "start_time": "2020-02-17T15:27:52.486178Z"
    }
   },
   "outputs": [
    {
     "name": "stdout",
     "output_type": "stream",
     "text": [
      " * sqlite:///DataBase/weather_stations.db\n",
      "Done.\n"
     ]
    },
    {
     "data": {
      "text/html": [
       "<table>\n",
       "    <tr>\n",
       "        <th>station_number</th>\n",
       "        <th>report_code</th>\n",
       "        <th>year</th>\n",
       "        <th>month</th>\n",
       "        <th>day</th>\n",
       "        <th>dew_point</th>\n",
       "        <th>station_pressure</th>\n",
       "        <th>visibility</th>\n",
       "        <th>wind_speed</th>\n",
       "        <th>temperature</th>\n",
       "        <th>precipitation</th>\n",
       "        <th>snow_depth</th>\n",
       "        <th>fog</th>\n",
       "        <th>rain</th>\n",
       "        <th>hail</th>\n",
       "        <th>thunder</th>\n",
       "        <th>tornado</th>\n",
       "    </tr>\n",
       "    <tr>\n",
       "        <td>143080</td>\n",
       "        <td>34DDA7</td>\n",
       "        <td>2002</td>\n",
       "        <td>12</td>\n",
       "        <td>21</td>\n",
       "        <td>33.8</td>\n",
       "        <td>987.4</td>\n",
       "        <td>3.4</td>\n",
       "        <td>0.2</td>\n",
       "        <td>36</td>\n",
       "        <td>0</td>\n",
       "        <td>None</td>\n",
       "        <td>1</td>\n",
       "        <td>1</td>\n",
       "        <td>1</td>\n",
       "        <td>1</td>\n",
       "        <td>1</td>\n",
       "    </tr>\n",
       "    <tr>\n",
       "        <td>766440</td>\n",
       "        <td>39537B</td>\n",
       "        <td>1998</td>\n",
       "        <td>10</td>\n",
       "        <td>1</td>\n",
       "        <td>72.7</td>\n",
       "        <td>1014.6</td>\n",
       "        <td>5.9</td>\n",
       "        <td>6.7</td>\n",
       "        <td>83.3</td>\n",
       "        <td>0</td>\n",
       "        <td>None</td>\n",
       "        <td>0</td>\n",
       "        <td>0</td>\n",
       "        <td>0</td>\n",
       "        <td>0</td>\n",
       "        <td>0</td>\n",
       "    </tr>\n",
       "    <tr>\n",
       "        <td>176010</td>\n",
       "        <td>C3C6D5</td>\n",
       "        <td>2001</td>\n",
       "        <td>5</td>\n",
       "        <td>18</td>\n",
       "        <td>55.7</td>\n",
       "        <td>None</td>\n",
       "        <td>7.3</td>\n",
       "        <td>4.3</td>\n",
       "        <td>69.1</td>\n",
       "        <td>0</td>\n",
       "        <td>None</td>\n",
       "        <td>0</td>\n",
       "        <td>0</td>\n",
       "        <td>0</td>\n",
       "        <td>0</td>\n",
       "        <td>0</td>\n",
       "    </tr>\n",
       "    <tr>\n",
       "        <td>125600</td>\n",
       "        <td>145150</td>\n",
       "        <td>2007</td>\n",
       "        <td>10</td>\n",
       "        <td>14</td>\n",
       "        <td>33</td>\n",
       "        <td>None</td>\n",
       "        <td>6.9</td>\n",
       "        <td>2.5</td>\n",
       "        <td>39.7</td>\n",
       "        <td>0</td>\n",
       "        <td>None</td>\n",
       "        <td>0</td>\n",
       "        <td>0</td>\n",
       "        <td>0</td>\n",
       "        <td>0</td>\n",
       "        <td>0</td>\n",
       "    </tr>\n",
       "    <tr>\n",
       "        <td>470160</td>\n",
       "        <td>EF616A</td>\n",
       "        <td>1967</td>\n",
       "        <td>7</td>\n",
       "        <td>29</td>\n",
       "        <td>65.6</td>\n",
       "        <td>None</td>\n",
       "        <td>9.2</td>\n",
       "        <td>1.2</td>\n",
       "        <td>72.4</td>\n",
       "        <td>0.04</td>\n",
       "        <td>None</td>\n",
       "        <td>0</td>\n",
       "        <td>0</td>\n",
       "        <td>0</td>\n",
       "        <td>0</td>\n",
       "        <td>0</td>\n",
       "    </tr>\n",
       "    <tr>\n",
       "        <td>821930</td>\n",
       "        <td>1F8A7B</td>\n",
       "        <td>1953</td>\n",
       "        <td>6</td>\n",
       "        <td>18</td>\n",
       "        <td>72.8</td>\n",
       "        <td>1007.1</td>\n",
       "        <td>12.4</td>\n",
       "        <td>3.6</td>\n",
       "        <td>81.3</td>\n",
       "        <td>0</td>\n",
       "        <td>None</td>\n",
       "        <td>0</td>\n",
       "        <td>0</td>\n",
       "        <td>0</td>\n",
       "        <td>0</td>\n",
       "        <td>0</td>\n",
       "    </tr>\n",
       "    <tr>\n",
       "        <td>478070</td>\n",
       "        <td>D028D8</td>\n",
       "        <td>1981</td>\n",
       "        <td>6</td>\n",
       "        <td>27</td>\n",
       "        <td>73.4</td>\n",
       "        <td>None</td>\n",
       "        <td>7.9</td>\n",
       "        <td>3</td>\n",
       "        <td>77</td>\n",
       "        <td>1.93</td>\n",
       "        <td>None</td>\n",
       "        <td>0</td>\n",
       "        <td>0</td>\n",
       "        <td>0</td>\n",
       "        <td>0</td>\n",
       "        <td>0</td>\n",
       "    </tr>\n",
       "    <tr>\n",
       "        <td>719200</td>\n",
       "        <td>C74611</td>\n",
       "        <td>1978</td>\n",
       "        <td>2</td>\n",
       "        <td>5</td>\n",
       "        <td>-4.4</td>\n",
       "        <td>962.9</td>\n",
       "        <td>14.9</td>\n",
       "        <td>13.3</td>\n",
       "        <td>1.6</td>\n",
       "        <td>0</td>\n",
       "        <td>9.8</td>\n",
       "        <td>0</td>\n",
       "        <td>0</td>\n",
       "        <td>0</td>\n",
       "        <td>0</td>\n",
       "        <td>0</td>\n",
       "    </tr>\n",
       "    <tr>\n",
       "        <td>477460</td>\n",
       "        <td>737090</td>\n",
       "        <td>1962</td>\n",
       "        <td>8</td>\n",
       "        <td>14</td>\n",
       "        <td>72.3</td>\n",
       "        <td>1009.6</td>\n",
       "        <td>24.1</td>\n",
       "        <td>5.1</td>\n",
       "        <td>84.5</td>\n",
       "        <td>0</td>\n",
       "        <td>None</td>\n",
       "        <td>0</td>\n",
       "        <td>0</td>\n",
       "        <td>0</td>\n",
       "        <td>0</td>\n",
       "        <td>0</td>\n",
       "    </tr>\n",
       "    <tr>\n",
       "        <td>598550</td>\n",
       "        <td>C5C66E</td>\n",
       "        <td>2006</td>\n",
       "        <td>10</td>\n",
       "        <td>15</td>\n",
       "        <td>72.9</td>\n",
       "        <td>None</td>\n",
       "        <td>14.2</td>\n",
       "        <td>1.7</td>\n",
       "        <td>82</td>\n",
       "        <td>0</td>\n",
       "        <td>None</td>\n",
       "        <td>0</td>\n",
       "        <td>0</td>\n",
       "        <td>0</td>\n",
       "        <td>0</td>\n",
       "        <td>0</td>\n",
       "    </tr>\n",
       "</table>"
      ],
      "text/plain": [
       "[(143080, '34DDA7', 2002, 12, 21, 33.8, 987.4, 3.4, 0.2, 36, 0, None, 1, 1, 1, 1, 1),\n",
       " (766440, '39537B', 1998, 10, 1, 72.7, 1014.6, 5.9, 6.7, 83.3, 0, None, 0, 0, 0, 0, 0),\n",
       " (176010, 'C3C6D5', 2001, 5, 18, 55.7, None, 7.3, 4.3, 69.1, 0, None, 0, 0, 0, 0, 0),\n",
       " (125600, '145150', 2007, 10, 14, 33, None, 6.9, 2.5, 39.7, 0, None, 0, 0, 0, 0, 0),\n",
       " (470160, 'EF616A', 1967, 7, 29, 65.6, None, 9.2, 1.2, 72.4, 0.04, None, 0, 0, 0, 0, 0),\n",
       " (821930, '1F8A7B', 1953, 6, 18, 72.8, 1007.1, 12.4, 3.6, 81.3, 0, None, 0, 0, 0, 0, 0),\n",
       " (478070, 'D028D8', 1981, 6, 27, 73.4, None, 7.9, 3, 77, 1.93, None, 0, 0, 0, 0, 0),\n",
       " (719200, 'C74611', 1978, 2, 5, -4.4, 962.9, 14.9, 13.3, 1.6, 0, 9.8, 0, 0, 0, 0, 0),\n",
       " (477460, '737090', 1962, 8, 14, 72.3, 1009.6, 24.1, 5.1, 84.5, 0, None, 0, 0, 0, 0, 0),\n",
       " (598550, 'C5C66E', 2006, 10, 15, 72.9, None, 14.2, 1.7, 82, 0, None, 0, 0, 0, 0, 0)]"
      ]
     },
     "execution_count": 12,
     "metadata": {},
     "output_type": "execute_result"
    }
   ],
   "source": [
    "%sql select * from station_data limit 0,10; -- 筛选前十行"
   ]
  },
  {
   "cell_type": "markdown",
   "metadata": {},
   "source": [
    "## 1.2 使用  where 筛选数字\n",
    "\n",
    "假如我们只对 STATION_DATA 表中 2010 年的数据感兴趣，则使用 Where 子句是一个非常直接的方法。通过这个查询，你可以只返回 year 中只等于 2010 的记录："
   ]
  },
  {
   "cell_type": "code",
   "execution_count": 23,
   "metadata": {
    "ExecuteTime": {
     "end_time": "2020-02-17T15:51:41.278111Z",
     "start_time": "2020-02-17T15:51:41.266871Z"
    },
    "scrolled": false
   },
   "outputs": [
    {
     "name": "stdout",
     "output_type": "stream",
     "text": [
      " * sqlite:///DataBase/weather_stations.db\n",
      "Done.\n"
     ]
    },
    {
     "data": {
      "text/html": [
       "<table>\n",
       "    <tr>\n",
       "        <th>station_number</th>\n",
       "        <th>report_code</th>\n",
       "        <th>year</th>\n",
       "        <th>month</th>\n",
       "        <th>day</th>\n",
       "        <th>dew_point</th>\n",
       "        <th>station_pressure</th>\n",
       "        <th>visibility</th>\n",
       "        <th>wind_speed</th>\n",
       "        <th>temperature</th>\n",
       "        <th>precipitation</th>\n",
       "        <th>snow_depth</th>\n",
       "        <th>fog</th>\n",
       "        <th>rain</th>\n",
       "        <th>hail</th>\n",
       "        <th>thunder</th>\n",
       "        <th>tornado</th>\n",
       "    </tr>\n",
       "    <tr>\n",
       "        <td>719160</td>\n",
       "        <td>BAB974</td>\n",
       "        <td>2010</td>\n",
       "        <td>1</td>\n",
       "        <td>22</td>\n",
       "        <td>-22.8</td>\n",
       "        <td>1014.2</td>\n",
       "        <td>None</td>\n",
       "        <td>10.2</td>\n",
       "        <td>-18.5</td>\n",
       "        <td>0</td>\n",
       "        <td>9.4</td>\n",
       "        <td>0</td>\n",
       "        <td>0</td>\n",
       "        <td>0</td>\n",
       "        <td>0</td>\n",
       "        <td>0</td>\n",
       "    </tr>\n",
       "    <tr>\n",
       "        <td>766870</td>\n",
       "        <td>7C0938</td>\n",
       "        <td>2010</td>\n",
       "        <td>3</td>\n",
       "        <td>22</td>\n",
       "        <td>48</td>\n",
       "        <td>871.2</td>\n",
       "        <td>4.4</td>\n",
       "        <td>1.5</td>\n",
       "        <td>50.8</td>\n",
       "        <td>0.11</td>\n",
       "        <td>None</td>\n",
       "        <td>1</td>\n",
       "        <td>1</td>\n",
       "        <td>1</td>\n",
       "        <td>1</td>\n",
       "        <td>1</td>\n",
       "    </tr>\n",
       "    <tr>\n",
       "        <td>134624</td>\n",
       "        <td>11CEA1</td>\n",
       "        <td>2010</td>\n",
       "        <td>2</td>\n",
       "        <td>17</td>\n",
       "        <td>46</td>\n",
       "        <td>None</td>\n",
       "        <td>3.4</td>\n",
       "        <td>2.6</td>\n",
       "        <td>46</td>\n",
       "        <td>None</td>\n",
       "        <td>None</td>\n",
       "        <td>0</td>\n",
       "        <td>0</td>\n",
       "        <td>0</td>\n",
       "        <td>0</td>\n",
       "        <td>0</td>\n",
       "    </tr>\n",
       "</table>"
      ],
      "text/plain": [
       "[(719160, 'BAB974', 2010, 1, 22, -22.8, 1014.2, None, 10.2, -18.5, 0, 9.4, 0, 0, 0, 0, 0),\n",
       " (766870, '7C0938', 2010, 3, 22, 48, 871.2, 4.4, 1.5, 50.8, 0.11, None, 1, 1, 1, 1, 1),\n",
       " (134624, '11CEA1', 2010, 2, 17, 46, None, 3.4, 2.6, 46, None, None, 0, 0, 0, 0, 0)]"
      ]
     },
     "execution_count": 23,
     "metadata": {},
     "output_type": "execute_result"
    }
   ],
   "source": [
    "%%sql \n",
    "select * from station_data \n",
    "where year = 2010 \n",
    "limit 0,3; -- 由于数据太多，我们只展示前 3 条记录"
   ]
  },
  {
   "cell_type": "markdown",
   "metadata": {},
   "source": [
    "同样的，你也可以使用 **!<** 或者 **<>** 来筛选信息："
   ]
  },
  {
   "cell_type": "code",
   "execution_count": 24,
   "metadata": {
    "ExecuteTime": {
     "end_time": "2020-02-17T15:51:47.545502Z",
     "start_time": "2020-02-17T15:51:47.448416Z"
    }
   },
   "outputs": [
    {
     "name": "stdout",
     "output_type": "stream",
     "text": [
      " * sqlite:///DataBase/weather_stations.db\n",
      "Done.\n"
     ]
    },
    {
     "data": {
      "text/html": [
       "<table>\n",
       "    <tr>\n",
       "        <th>station_number</th>\n",
       "        <th>report_code</th>\n",
       "        <th>year</th>\n",
       "        <th>month</th>\n",
       "        <th>day</th>\n",
       "        <th>dew_point</th>\n",
       "        <th>station_pressure</th>\n",
       "        <th>visibility</th>\n",
       "        <th>wind_speed</th>\n",
       "        <th>temperature</th>\n",
       "        <th>precipitation</th>\n",
       "        <th>snow_depth</th>\n",
       "        <th>fog</th>\n",
       "        <th>rain</th>\n",
       "        <th>hail</th>\n",
       "        <th>thunder</th>\n",
       "        <th>tornado</th>\n",
       "    </tr>\n",
       "    <tr>\n",
       "        <td>143080</td>\n",
       "        <td>34DDA7</td>\n",
       "        <td>2002</td>\n",
       "        <td>12</td>\n",
       "        <td>21</td>\n",
       "        <td>33.8</td>\n",
       "        <td>987.4</td>\n",
       "        <td>3.4</td>\n",
       "        <td>0.2</td>\n",
       "        <td>36</td>\n",
       "        <td>0</td>\n",
       "        <td>None</td>\n",
       "        <td>1</td>\n",
       "        <td>1</td>\n",
       "        <td>1</td>\n",
       "        <td>1</td>\n",
       "        <td>1</td>\n",
       "    </tr>\n",
       "    <tr>\n",
       "        <td>766440</td>\n",
       "        <td>39537B</td>\n",
       "        <td>1998</td>\n",
       "        <td>10</td>\n",
       "        <td>1</td>\n",
       "        <td>72.7</td>\n",
       "        <td>1014.6</td>\n",
       "        <td>5.9</td>\n",
       "        <td>6.7</td>\n",
       "        <td>83.3</td>\n",
       "        <td>0</td>\n",
       "        <td>None</td>\n",
       "        <td>0</td>\n",
       "        <td>0</td>\n",
       "        <td>0</td>\n",
       "        <td>0</td>\n",
       "        <td>0</td>\n",
       "    </tr>\n",
       "    <tr>\n",
       "        <td>176010</td>\n",
       "        <td>C3C6D5</td>\n",
       "        <td>2001</td>\n",
       "        <td>5</td>\n",
       "        <td>18</td>\n",
       "        <td>55.7</td>\n",
       "        <td>None</td>\n",
       "        <td>7.3</td>\n",
       "        <td>4.3</td>\n",
       "        <td>69.1</td>\n",
       "        <td>0</td>\n",
       "        <td>None</td>\n",
       "        <td>0</td>\n",
       "        <td>0</td>\n",
       "        <td>0</td>\n",
       "        <td>0</td>\n",
       "        <td>0</td>\n",
       "    </tr>\n",
       "</table>"
      ],
      "text/plain": [
       "[(143080, '34DDA7', 2002, 12, 21, 33.8, 987.4, 3.4, 0.2, 36, 0, None, 1, 1, 1, 1, 1),\n",
       " (766440, '39537B', 1998, 10, 1, 72.7, 1014.6, 5.9, 6.7, 83.3, 0, None, 0, 0, 0, 0, 0),\n",
       " (176010, 'C3C6D5', 2001, 5, 18, 55.7, None, 7.3, 4.3, 69.1, 0, None, 0, 0, 0, 0, 0)]"
      ]
     },
     "execution_count": 24,
     "metadata": {},
     "output_type": "execute_result"
    }
   ],
   "source": [
    "%%sql \n",
    "select * from station_data \n",
    "where year != 2010 \n",
    "limit 0,3; -- 由于数据太多，我们只展示前 3 条记录"
   ]
  },
  {
   "cell_type": "markdown",
   "metadata": {},
   "source": [
    "我们也可以使用 **between** 条件来筛选范围："
   ]
  },
  {
   "cell_type": "code",
   "execution_count": 25,
   "metadata": {
    "ExecuteTime": {
     "end_time": "2020-02-17T15:51:54.370127Z",
     "start_time": "2020-02-17T15:51:54.329886Z"
    }
   },
   "outputs": [
    {
     "name": "stdout",
     "output_type": "stream",
     "text": [
      " * sqlite:///DataBase/weather_stations.db\n",
      "Done.\n"
     ]
    },
    {
     "data": {
      "text/html": [
       "<table>\n",
       "    <tr>\n",
       "        <th>station_number</th>\n",
       "        <th>report_code</th>\n",
       "        <th>year</th>\n",
       "        <th>month</th>\n",
       "        <th>day</th>\n",
       "        <th>dew_point</th>\n",
       "        <th>station_pressure</th>\n",
       "        <th>visibility</th>\n",
       "        <th>wind_speed</th>\n",
       "        <th>temperature</th>\n",
       "        <th>precipitation</th>\n",
       "        <th>snow_depth</th>\n",
       "        <th>fog</th>\n",
       "        <th>rain</th>\n",
       "        <th>hail</th>\n",
       "        <th>thunder</th>\n",
       "        <th>tornado</th>\n",
       "    </tr>\n",
       "    <tr>\n",
       "        <td>125600</td>\n",
       "        <td>145150</td>\n",
       "        <td>2007</td>\n",
       "        <td>10</td>\n",
       "        <td>14</td>\n",
       "        <td>33</td>\n",
       "        <td>None</td>\n",
       "        <td>6.9</td>\n",
       "        <td>2.5</td>\n",
       "        <td>39.7</td>\n",
       "        <td>0</td>\n",
       "        <td>None</td>\n",
       "        <td>0</td>\n",
       "        <td>0</td>\n",
       "        <td>0</td>\n",
       "        <td>0</td>\n",
       "        <td>0</td>\n",
       "    </tr>\n",
       "    <tr>\n",
       "        <td>598550</td>\n",
       "        <td>C5C66E</td>\n",
       "        <td>2006</td>\n",
       "        <td>10</td>\n",
       "        <td>15</td>\n",
       "        <td>72.9</td>\n",
       "        <td>None</td>\n",
       "        <td>14.2</td>\n",
       "        <td>1.7</td>\n",
       "        <td>82</td>\n",
       "        <td>0</td>\n",
       "        <td>None</td>\n",
       "        <td>0</td>\n",
       "        <td>0</td>\n",
       "        <td>0</td>\n",
       "        <td>0</td>\n",
       "        <td>0</td>\n",
       "    </tr>\n",
       "    <tr>\n",
       "        <td>941830</td>\n",
       "        <td>229317</td>\n",
       "        <td>2007</td>\n",
       "        <td>4</td>\n",
       "        <td>19</td>\n",
       "        <td>66.5</td>\n",
       "        <td>994.9</td>\n",
       "        <td>None</td>\n",
       "        <td>4</td>\n",
       "        <td>76.3</td>\n",
       "        <td>0</td>\n",
       "        <td>None</td>\n",
       "        <td>0</td>\n",
       "        <td>0</td>\n",
       "        <td>0</td>\n",
       "        <td>0</td>\n",
       "        <td>0</td>\n",
       "    </tr>\n",
       "</table>"
      ],
      "text/plain": [
       "[(125600, '145150', 2007, 10, 14, 33, None, 6.9, 2.5, 39.7, 0, None, 0, 0, 0, 0, 0),\n",
       " (598550, 'C5C66E', 2006, 10, 15, 72.9, None, 14.2, 1.7, 82, 0, None, 0, 0, 0, 0, 0),\n",
       " (941830, '229317', 2007, 4, 19, 66.5, 994.9, None, 4, 76.3, 0, None, 0, 0, 0, 0, 0)]"
      ]
     },
     "execution_count": 25,
     "metadata": {},
     "output_type": "execute_result"
    }
   ],
   "source": [
    "%%sql \n",
    "select * from station_data \n",
    "where year between 2005 and 2010\n",
    "limit 0,3; -- 由于数据太多，我们只展示前 3 条记录"
   ]
  },
  {
   "cell_type": "markdown",
   "metadata": {},
   "source": [
    "## 1.3 and, or ,in 条件\n",
    "\n",
    "一个 **between** 条件相当于表达了*大于等于和小于等于*，即 **and** 条件："
   ]
  },
  {
   "cell_type": "code",
   "execution_count": 26,
   "metadata": {
    "ExecuteTime": {
     "end_time": "2020-02-17T15:51:59.535809Z",
     "start_time": "2020-02-17T15:51:59.479226Z"
    }
   },
   "outputs": [
    {
     "name": "stdout",
     "output_type": "stream",
     "text": [
      " * sqlite:///DataBase/weather_stations.db\n",
      "Done.\n"
     ]
    },
    {
     "data": {
      "text/html": [
       "<table>\n",
       "    <tr>\n",
       "        <th>station_number</th>\n",
       "        <th>report_code</th>\n",
       "        <th>year</th>\n",
       "        <th>month</th>\n",
       "        <th>day</th>\n",
       "        <th>dew_point</th>\n",
       "        <th>station_pressure</th>\n",
       "        <th>visibility</th>\n",
       "        <th>wind_speed</th>\n",
       "        <th>temperature</th>\n",
       "        <th>precipitation</th>\n",
       "        <th>snow_depth</th>\n",
       "        <th>fog</th>\n",
       "        <th>rain</th>\n",
       "        <th>hail</th>\n",
       "        <th>thunder</th>\n",
       "        <th>tornado</th>\n",
       "    </tr>\n",
       "    <tr>\n",
       "        <td>125600</td>\n",
       "        <td>145150</td>\n",
       "        <td>2007</td>\n",
       "        <td>10</td>\n",
       "        <td>14</td>\n",
       "        <td>33</td>\n",
       "        <td>None</td>\n",
       "        <td>6.9</td>\n",
       "        <td>2.5</td>\n",
       "        <td>39.7</td>\n",
       "        <td>0</td>\n",
       "        <td>None</td>\n",
       "        <td>0</td>\n",
       "        <td>0</td>\n",
       "        <td>0</td>\n",
       "        <td>0</td>\n",
       "        <td>0</td>\n",
       "    </tr>\n",
       "    <tr>\n",
       "        <td>598550</td>\n",
       "        <td>C5C66E</td>\n",
       "        <td>2006</td>\n",
       "        <td>10</td>\n",
       "        <td>15</td>\n",
       "        <td>72.9</td>\n",
       "        <td>None</td>\n",
       "        <td>14.2</td>\n",
       "        <td>1.7</td>\n",
       "        <td>82</td>\n",
       "        <td>0</td>\n",
       "        <td>None</td>\n",
       "        <td>0</td>\n",
       "        <td>0</td>\n",
       "        <td>0</td>\n",
       "        <td>0</td>\n",
       "        <td>0</td>\n",
       "    </tr>\n",
       "    <tr>\n",
       "        <td>941830</td>\n",
       "        <td>229317</td>\n",
       "        <td>2007</td>\n",
       "        <td>4</td>\n",
       "        <td>19</td>\n",
       "        <td>66.5</td>\n",
       "        <td>994.9</td>\n",
       "        <td>None</td>\n",
       "        <td>4</td>\n",
       "        <td>76.3</td>\n",
       "        <td>0</td>\n",
       "        <td>None</td>\n",
       "        <td>0</td>\n",
       "        <td>0</td>\n",
       "        <td>0</td>\n",
       "        <td>0</td>\n",
       "        <td>0</td>\n",
       "    </tr>\n",
       "</table>"
      ],
      "text/plain": [
       "[(125600, '145150', 2007, 10, 14, 33, None, 6.9, 2.5, 39.7, 0, None, 0, 0, 0, 0, 0),\n",
       " (598550, 'C5C66E', 2006, 10, 15, 72.9, None, 14.2, 1.7, 82, 0, None, 0, 0, 0, 0, 0),\n",
       " (941830, '229317', 2007, 4, 19, 66.5, 994.9, None, 4, 76.3, 0, None, 0, 0, 0, 0, 0)]"
      ]
     },
     "execution_count": 26,
     "metadata": {},
     "output_type": "execute_result"
    }
   ],
   "source": [
    "%%sql \n",
    "select * from station_data \n",
    "where year >=2005 and year <=2010\n",
    "limit 0,3; -- 由于数据太多，我们只展示前 3 条记录"
   ]
  },
  {
   "cell_type": "markdown",
   "metadata": {},
   "source": [
    "也可以通过 **or** 条件筛选记录："
   ]
  },
  {
   "cell_type": "code",
   "execution_count": 27,
   "metadata": {
    "ExecuteTime": {
     "end_time": "2020-02-17T15:52:31.475994Z",
     "start_time": "2020-02-17T15:52:31.450108Z"
    }
   },
   "outputs": [
    {
     "name": "stdout",
     "output_type": "stream",
     "text": [
      " * sqlite:///DataBase/weather_stations.db\n",
      "Done.\n"
     ]
    },
    {
     "data": {
      "text/html": [
       "<table>\n",
       "    <tr>\n",
       "        <th>station_number</th>\n",
       "        <th>report_code</th>\n",
       "        <th>year</th>\n",
       "        <th>month</th>\n",
       "        <th>day</th>\n",
       "        <th>dew_point</th>\n",
       "        <th>station_pressure</th>\n",
       "        <th>visibility</th>\n",
       "        <th>wind_speed</th>\n",
       "        <th>temperature</th>\n",
       "        <th>precipitation</th>\n",
       "        <th>snow_depth</th>\n",
       "        <th>fog</th>\n",
       "        <th>rain</th>\n",
       "        <th>hail</th>\n",
       "        <th>thunder</th>\n",
       "        <th>tornado</th>\n",
       "    </tr>\n",
       "    <tr>\n",
       "        <td>143080</td>\n",
       "        <td>34DDA7</td>\n",
       "        <td>2002</td>\n",
       "        <td>12</td>\n",
       "        <td>21</td>\n",
       "        <td>33.8</td>\n",
       "        <td>987.4</td>\n",
       "        <td>3.4</td>\n",
       "        <td>0.2</td>\n",
       "        <td>36</td>\n",
       "        <td>0</td>\n",
       "        <td>None</td>\n",
       "        <td>1</td>\n",
       "        <td>1</td>\n",
       "        <td>1</td>\n",
       "        <td>1</td>\n",
       "        <td>1</td>\n",
       "    </tr>\n",
       "    <tr>\n",
       "        <td>821930</td>\n",
       "        <td>1F8A7B</td>\n",
       "        <td>1953</td>\n",
       "        <td>6</td>\n",
       "        <td>18</td>\n",
       "        <td>72.8</td>\n",
       "        <td>1007.1</td>\n",
       "        <td>12.4</td>\n",
       "        <td>3.6</td>\n",
       "        <td>81.3</td>\n",
       "        <td>0</td>\n",
       "        <td>None</td>\n",
       "        <td>0</td>\n",
       "        <td>0</td>\n",
       "        <td>0</td>\n",
       "        <td>0</td>\n",
       "        <td>0</td>\n",
       "    </tr>\n",
       "    <tr>\n",
       "        <td>478070</td>\n",
       "        <td>D028D8</td>\n",
       "        <td>1981</td>\n",
       "        <td>6</td>\n",
       "        <td>27</td>\n",
       "        <td>73.4</td>\n",
       "        <td>None</td>\n",
       "        <td>7.9</td>\n",
       "        <td>3</td>\n",
       "        <td>77</td>\n",
       "        <td>1.93</td>\n",
       "        <td>None</td>\n",
       "        <td>0</td>\n",
       "        <td>0</td>\n",
       "        <td>0</td>\n",
       "        <td>0</td>\n",
       "        <td>0</td>\n",
       "    </tr>\n",
       "</table>"
      ],
      "text/plain": [
       "[(143080, '34DDA7', 2002, 12, 21, 33.8, 987.4, 3.4, 0.2, 36, 0, None, 1, 1, 1, 1, 1),\n",
       " (821930, '1F8A7B', 1953, 6, 18, 72.8, 1007.1, 12.4, 3.6, 81.3, 0, None, 0, 0, 0, 0, 0),\n",
       " (478070, 'D028D8', 1981, 6, 27, 73.4, None, 7.9, 3, 77, 1.93, None, 0, 0, 0, 0, 0)]"
      ]
     },
     "execution_count": 27,
     "metadata": {},
     "output_type": "execute_result"
    }
   ],
   "source": [
    "%%sql \n",
    "select * from station_data \n",
    "where Month=3\n",
    "or Month=6\n",
    "or Month=9\n",
    "or Month=12\n",
    "limit 0,3; -- 由于数据太多，我们只展示前 3 条记录"
   ]
  },
  {
   "cell_type": "markdown",
   "metadata": {},
   "source": [
    "这看起来有点麻烦，我们可以使用 **in** 来同样筛选记录："
   ]
  },
  {
   "cell_type": "code",
   "execution_count": 28,
   "metadata": {
    "ExecuteTime": {
     "end_time": "2020-02-17T15:53:52.328521Z",
     "start_time": "2020-02-17T15:53:52.315692Z"
    }
   },
   "outputs": [
    {
     "name": "stdout",
     "output_type": "stream",
     "text": [
      " * sqlite:///DataBase/weather_stations.db\n",
      "Done.\n"
     ]
    },
    {
     "data": {
      "text/html": [
       "<table>\n",
       "    <tr>\n",
       "        <th>station_number</th>\n",
       "        <th>report_code</th>\n",
       "        <th>year</th>\n",
       "        <th>month</th>\n",
       "        <th>day</th>\n",
       "        <th>dew_point</th>\n",
       "        <th>station_pressure</th>\n",
       "        <th>visibility</th>\n",
       "        <th>wind_speed</th>\n",
       "        <th>temperature</th>\n",
       "        <th>precipitation</th>\n",
       "        <th>snow_depth</th>\n",
       "        <th>fog</th>\n",
       "        <th>rain</th>\n",
       "        <th>hail</th>\n",
       "        <th>thunder</th>\n",
       "        <th>tornado</th>\n",
       "    </tr>\n",
       "    <tr>\n",
       "        <td>143080</td>\n",
       "        <td>34DDA7</td>\n",
       "        <td>2002</td>\n",
       "        <td>12</td>\n",
       "        <td>21</td>\n",
       "        <td>33.8</td>\n",
       "        <td>987.4</td>\n",
       "        <td>3.4</td>\n",
       "        <td>0.2</td>\n",
       "        <td>36</td>\n",
       "        <td>0</td>\n",
       "        <td>None</td>\n",
       "        <td>1</td>\n",
       "        <td>1</td>\n",
       "        <td>1</td>\n",
       "        <td>1</td>\n",
       "        <td>1</td>\n",
       "    </tr>\n",
       "    <tr>\n",
       "        <td>821930</td>\n",
       "        <td>1F8A7B</td>\n",
       "        <td>1953</td>\n",
       "        <td>6</td>\n",
       "        <td>18</td>\n",
       "        <td>72.8</td>\n",
       "        <td>1007.1</td>\n",
       "        <td>12.4</td>\n",
       "        <td>3.6</td>\n",
       "        <td>81.3</td>\n",
       "        <td>0</td>\n",
       "        <td>None</td>\n",
       "        <td>0</td>\n",
       "        <td>0</td>\n",
       "        <td>0</td>\n",
       "        <td>0</td>\n",
       "        <td>0</td>\n",
       "    </tr>\n",
       "    <tr>\n",
       "        <td>478070</td>\n",
       "        <td>D028D8</td>\n",
       "        <td>1981</td>\n",
       "        <td>6</td>\n",
       "        <td>27</td>\n",
       "        <td>73.4</td>\n",
       "        <td>None</td>\n",
       "        <td>7.9</td>\n",
       "        <td>3</td>\n",
       "        <td>77</td>\n",
       "        <td>1.93</td>\n",
       "        <td>None</td>\n",
       "        <td>0</td>\n",
       "        <td>0</td>\n",
       "        <td>0</td>\n",
       "        <td>0</td>\n",
       "        <td>0</td>\n",
       "    </tr>\n",
       "</table>"
      ],
      "text/plain": [
       "[(143080, '34DDA7', 2002, 12, 21, 33.8, 987.4, 3.4, 0.2, 36, 0, None, 1, 1, 1, 1, 1),\n",
       " (821930, '1F8A7B', 1953, 6, 18, 72.8, 1007.1, 12.4, 3.6, 81.3, 0, None, 0, 0, 0, 0, 0),\n",
       " (478070, 'D028D8', 1981, 6, 27, 73.4, None, 7.9, 3, 77, 1.93, None, 0, 0, 0, 0, 0)]"
      ]
     },
     "execution_count": 28,
     "metadata": {},
     "output_type": "execute_result"
    }
   ],
   "source": [
    "%%sql \n",
    "select * from station_data \n",
    "where Month in (3,6,9,12)\n",
    "limit 0,3; -- 由于数据太多，我们只展示前 3 条记录"
   ]
  },
  {
   "cell_type": "markdown",
   "metadata": {},
   "source": [
    "或者这样写："
   ]
  },
  {
   "cell_type": "code",
   "execution_count": 32,
   "metadata": {
    "ExecuteTime": {
     "end_time": "2020-02-17T15:57:18.733313Z",
     "start_time": "2020-02-17T15:57:18.685635Z"
    }
   },
   "outputs": [
    {
     "name": "stdout",
     "output_type": "stream",
     "text": [
      " * sqlite:///DataBase/weather_stations.db\n",
      "Done.\n"
     ]
    },
    {
     "data": {
      "text/html": [
       "<table>\n",
       "    <tr>\n",
       "        <th>station_number</th>\n",
       "        <th>report_code</th>\n",
       "        <th>year</th>\n",
       "        <th>month</th>\n",
       "        <th>day</th>\n",
       "        <th>dew_point</th>\n",
       "        <th>station_pressure</th>\n",
       "        <th>visibility</th>\n",
       "        <th>wind_speed</th>\n",
       "        <th>temperature</th>\n",
       "        <th>precipitation</th>\n",
       "        <th>snow_depth</th>\n",
       "        <th>fog</th>\n",
       "        <th>rain</th>\n",
       "        <th>hail</th>\n",
       "        <th>thunder</th>\n",
       "        <th>tornado</th>\n",
       "    </tr>\n",
       "    <tr>\n",
       "        <td>143080</td>\n",
       "        <td>34DDA7</td>\n",
       "        <td>2002</td>\n",
       "        <td>12</td>\n",
       "        <td>21</td>\n",
       "        <td>33.8</td>\n",
       "        <td>987.4</td>\n",
       "        <td>3.4</td>\n",
       "        <td>0.2</td>\n",
       "        <td>36</td>\n",
       "        <td>0</td>\n",
       "        <td>None</td>\n",
       "        <td>1</td>\n",
       "        <td>1</td>\n",
       "        <td>1</td>\n",
       "        <td>1</td>\n",
       "        <td>1</td>\n",
       "    </tr>\n",
       "    <tr>\n",
       "        <td>821930</td>\n",
       "        <td>1F8A7B</td>\n",
       "        <td>1953</td>\n",
       "        <td>6</td>\n",
       "        <td>18</td>\n",
       "        <td>72.8</td>\n",
       "        <td>1007.1</td>\n",
       "        <td>12.4</td>\n",
       "        <td>3.6</td>\n",
       "        <td>81.3</td>\n",
       "        <td>0</td>\n",
       "        <td>None</td>\n",
       "        <td>0</td>\n",
       "        <td>0</td>\n",
       "        <td>0</td>\n",
       "        <td>0</td>\n",
       "        <td>0</td>\n",
       "    </tr>\n",
       "    <tr>\n",
       "        <td>478070</td>\n",
       "        <td>D028D8</td>\n",
       "        <td>1981</td>\n",
       "        <td>6</td>\n",
       "        <td>27</td>\n",
       "        <td>73.4</td>\n",
       "        <td>None</td>\n",
       "        <td>7.9</td>\n",
       "        <td>3</td>\n",
       "        <td>77</td>\n",
       "        <td>1.93</td>\n",
       "        <td>None</td>\n",
       "        <td>0</td>\n",
       "        <td>0</td>\n",
       "        <td>0</td>\n",
       "        <td>0</td>\n",
       "        <td>0</td>\n",
       "    </tr>\n",
       "</table>"
      ],
      "text/plain": [
       "[(143080, '34DDA7', 2002, 12, 21, 33.8, 987.4, 3.4, 0.2, 36, 0, None, 1, 1, 1, 1, 1),\n",
       " (821930, '1F8A7B', 1953, 6, 18, 72.8, 1007.1, 12.4, 3.6, 81.3, 0, None, 0, 0, 0, 0, 0),\n",
       " (478070, 'D028D8', 1981, 6, 27, 73.4, None, 7.9, 3, 77, 1.93, None, 0, 0, 0, 0, 0)]"
      ]
     },
     "execution_count": 32,
     "metadata": {},
     "output_type": "execute_result"
    }
   ],
   "source": [
    "%%sql \n",
    "select * from station_data \n",
    "where Month % 3 = 0\n",
    "limit 0,3; -- 由于数据太多，我们只展示前 3 条记录"
   ]
  },
  {
   "cell_type": "markdown",
   "metadata": {
    "ExecuteTime": {
     "end_time": "2020-02-17T15:54:58.506103Z",
     "start_time": "2020-02-17T15:54:58.498691Z"
    }
   },
   "source": [
    "如果你不想要 3，6，9，12 月份的数据，你可以使用 **not in**："
   ]
  },
  {
   "cell_type": "code",
   "execution_count": 31,
   "metadata": {
    "ExecuteTime": {
     "end_time": "2020-02-17T15:55:11.048697Z",
     "start_time": "2020-02-17T15:55:11.038193Z"
    }
   },
   "outputs": [
    {
     "name": "stdout",
     "output_type": "stream",
     "text": [
      " * sqlite:///DataBase/weather_stations.db\n",
      "Done.\n"
     ]
    },
    {
     "data": {
      "text/html": [
       "<table>\n",
       "    <tr>\n",
       "        <th>station_number</th>\n",
       "        <th>report_code</th>\n",
       "        <th>year</th>\n",
       "        <th>month</th>\n",
       "        <th>day</th>\n",
       "        <th>dew_point</th>\n",
       "        <th>station_pressure</th>\n",
       "        <th>visibility</th>\n",
       "        <th>wind_speed</th>\n",
       "        <th>temperature</th>\n",
       "        <th>precipitation</th>\n",
       "        <th>snow_depth</th>\n",
       "        <th>fog</th>\n",
       "        <th>rain</th>\n",
       "        <th>hail</th>\n",
       "        <th>thunder</th>\n",
       "        <th>tornado</th>\n",
       "    </tr>\n",
       "    <tr>\n",
       "        <td>766440</td>\n",
       "        <td>39537B</td>\n",
       "        <td>1998</td>\n",
       "        <td>10</td>\n",
       "        <td>1</td>\n",
       "        <td>72.7</td>\n",
       "        <td>1014.6</td>\n",
       "        <td>5.9</td>\n",
       "        <td>6.7</td>\n",
       "        <td>83.3</td>\n",
       "        <td>0</td>\n",
       "        <td>None</td>\n",
       "        <td>0</td>\n",
       "        <td>0</td>\n",
       "        <td>0</td>\n",
       "        <td>0</td>\n",
       "        <td>0</td>\n",
       "    </tr>\n",
       "    <tr>\n",
       "        <td>176010</td>\n",
       "        <td>C3C6D5</td>\n",
       "        <td>2001</td>\n",
       "        <td>5</td>\n",
       "        <td>18</td>\n",
       "        <td>55.7</td>\n",
       "        <td>None</td>\n",
       "        <td>7.3</td>\n",
       "        <td>4.3</td>\n",
       "        <td>69.1</td>\n",
       "        <td>0</td>\n",
       "        <td>None</td>\n",
       "        <td>0</td>\n",
       "        <td>0</td>\n",
       "        <td>0</td>\n",
       "        <td>0</td>\n",
       "        <td>0</td>\n",
       "    </tr>\n",
       "    <tr>\n",
       "        <td>125600</td>\n",
       "        <td>145150</td>\n",
       "        <td>2007</td>\n",
       "        <td>10</td>\n",
       "        <td>14</td>\n",
       "        <td>33</td>\n",
       "        <td>None</td>\n",
       "        <td>6.9</td>\n",
       "        <td>2.5</td>\n",
       "        <td>39.7</td>\n",
       "        <td>0</td>\n",
       "        <td>None</td>\n",
       "        <td>0</td>\n",
       "        <td>0</td>\n",
       "        <td>0</td>\n",
       "        <td>0</td>\n",
       "        <td>0</td>\n",
       "    </tr>\n",
       "</table>"
      ],
      "text/plain": [
       "[(766440, '39537B', 1998, 10, 1, 72.7, 1014.6, 5.9, 6.7, 83.3, 0, None, 0, 0, 0, 0, 0),\n",
       " (176010, 'C3C6D5', 2001, 5, 18, 55.7, None, 7.3, 4.3, 69.1, 0, None, 0, 0, 0, 0, 0),\n",
       " (125600, '145150', 2007, 10, 14, 33, None, 6.9, 2.5, 39.7, 0, None, 0, 0, 0, 0, 0)]"
      ]
     },
     "execution_count": 31,
     "metadata": {},
     "output_type": "execute_result"
    }
   ],
   "source": [
    "%%sql \n",
    "select * from station_data \n",
    "where Month not in (3,6,9,12)\n",
    "limit 0,3; -- 由于数据太多，我们只展示前 3 条记录"
   ]
  },
  {
   "cell_type": "code",
   "execution_count": null,
   "metadata": {},
   "outputs": [],
   "source": []
  }
 ],
 "metadata": {
  "kernelspec": {
   "display_name": "Python 3",
   "language": "python",
   "name": "python3"
  },
  "language_info": {
   "codemirror_mode": {
    "name": "ipython",
    "version": 3
   },
   "file_extension": ".py",
   "mimetype": "text/x-python",
   "name": "python",
   "nbconvert_exporter": "python",
   "pygments_lexer": "ipython3",
   "version": "3.7.3"
  },
  "toc": {
   "base_numbering": 1,
   "nav_menu": {},
   "number_sections": false,
   "sideBar": true,
   "skip_h1_title": false,
   "title_cell": "Table of Contents",
   "title_sidebar": "Contents",
   "toc_cell": false,
   "toc_position": {},
   "toc_section_display": true,
   "toc_window_display": true
  },
  "varInspector": {
   "cols": {
    "lenName": 16,
    "lenType": 16,
    "lenVar": 40
   },
   "kernels_config": {
    "python": {
     "delete_cmd_postfix": "",
     "delete_cmd_prefix": "del ",
     "library": "var_list.py",
     "varRefreshCmd": "print(var_dic_list())"
    },
    "r": {
     "delete_cmd_postfix": ") ",
     "delete_cmd_prefix": "rm(",
     "library": "var_list.r",
     "varRefreshCmd": "cat(var_dic_list()) "
    }
   },
   "types_to_exclude": [
    "module",
    "function",
    "builtin_function_or_method",
    "instance",
    "_Feature"
   ],
   "window_display": false
  }
 },
 "nbformat": 4,
 "nbformat_minor": 4
}
