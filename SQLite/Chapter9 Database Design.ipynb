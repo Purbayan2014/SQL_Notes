{
 "cells": [
  {
   "cell_type": "markdown",
   "metadata": {},
   "source": [
    "我们在上一篇中介绍了 [Join](https://blog.csdn.net/weixin_45488228/article/details/104687791)，接下来我们将介绍数据库设计。"
   ]
  },
  {
   "cell_type": "markdown",
   "metadata": {},
   "source": [
    "# 1. The SurgeTech Conference \n",
    "\n",
    "假如你是一个名为 SurgeTech 会议的管理人员，今天老大叫你创建一个数据库来管理参会人员（attendees），公司（companies），演讲（presentations），会议室（rooms）以及演讲者（oresentation attendance），你该怎么来设计呢？"
   ]
  },
  {
   "cell_type": "markdown",
   "metadata": {},
   "source": [
    "首先，想一下这些不同的对象，应该如何转换为结构化的数据，这看起来很麻烦，但再麻烦的问题都可以化成许许多多的小问题。"
   ]
  },
  {
   "cell_type": "markdown",
   "metadata": {},
   "source": [
    "## 1.1 Attendee\n",
    "\n",
    "参会人员指的就是那些需要来签到的人员（包含了部分的 VIPs），需要登记到每个参会人员的 ID、姓名、手机号、邮箱以及是否 VIP：\n",
    "\n",
    "<img style=\"float:center\" src=\"https://x1a-alioss.oss-cn-shenzhen.aliyuncs.com/Screen Shot 2020-03-07 at 14.20.59.png\" width=\"520\" >\n",
    "\n",
    "<center> 图1 Attendee 表 </center>"
   ]
  },
  {
   "cell_type": "markdown",
   "metadata": {},
   "source": [
    "## 1.2 Company\n",
    "\n",
    "参会的公司也需要记录，包含公司的 ID、公司名、公司简介以及联系人（联系人也应该包含在上方的参会人员）：\n",
    "\n",
    "<img style=\"float:center\" src=\"https://x1a-alioss.oss-cn-shenzhen.aliyuncs.com/Screen Shot 2020-03-07 at 14.22.58.png\" width=\"650\" >\n",
    "\n",
    "<center> 图2 Company 表</center>"
   ]
  },
  {
   "cell_type": "markdown",
   "metadata": {},
   "source": [
    "## 1.3 Presentation\n",
    "\n",
    "一些公司会在特定的时间进行演讲（包含了演讲开始时间和结束时间），因此需要记录每场演讲的公司 ID 以及会议室 ID：\n",
    "\n",
    "<img style=\"float:center\" src=\"https://x1a-alioss.oss-cn-shenzhen.aliyuncs.com/Screen Shot 2020-03-07 at 14.25.20.png\"  >\n",
    "\n",
    "<center> 图3 Presentation 表 </center>"
   ]
  },
  {
   "cell_type": "markdown",
   "metadata": {},
   "source": [
    "## 1.4 Room\n",
    "\n",
    "会议室的编号、楼层以及座位数需要记录：\n",
    "\n",
    "<img style=\"float:center\" src=\"https://x1a-alioss.oss-cn-shenzhen.aliyuncs.com/Screen Shot 2020-03-07 at 14.27.46.png\" width=\"700\" >\n",
    "\n",
    "<center> 图4 Room 表 </center>"
   ]
  },
  {
   "cell_type": "markdown",
   "metadata": {},
   "source": [
    "## 1.5 Presentation Attendance\n",
    "\n",
    "如果参会者对某个公司的演讲感兴趣，他们可以申请一张入场券。为了实现这个功能，就需要制作一张听众表，来记录入场券编号、演讲编号以及听众编号：\n",
    "\n",
    "<img style=\"float:center\" src=\"https://x1a-alioss.oss-cn-shenzhen.aliyuncs.com/Screen Shot 2020-03-07 at 14.43.06.png\" width=\"620\" >\n",
    "\n",
    "<center> 图5 Presentation Attendance 表 </center>"
   ]
  },
  {
   "cell_type": "markdown",
   "metadata": {
    "ExecuteTime": {
     "end_time": "2020-03-07T06:46:22.457346Z",
     "start_time": "2020-03-07T06:46:22.352630Z"
    }
   },
   "source": [
    "# 2. 主键与外键"
   ]
  },
  {
   "cell_type": "markdown",
   "metadata": {},
   "source": [
    "## 2.1 主键"
   ]
  },
  {
   "cell_type": "markdown",
   "metadata": {
    "ExecuteTime": {
     "end_time": "2020-03-07T07:07:30.944148Z",
     "start_time": "2020-03-07T07:07:30.890805Z"
    }
   },
   "source": [
    "对于一个表，**主键（Primary Key）** 是必不可少的。主键能够一一对应到每一行数据，通常是某一列不重复的数据（或者某几列）。比如 ATTENDEE_ID 就是在表 ATTENDEE 的主键，而 COMPANY_ID 是表 COMPANY 的主键。"
   ]
  },
  {
   "cell_type": "markdown",
   "metadata": {},
   "source": [
    "由于主键中的不允许有重复，因此也起到着确保数据完整性的约束作用。不可重复意味着在表 ATTENDEE 中不能出现两个 ATTEND_ID 为 2 的数据，否则将会导致错误。\n",
    "\n",
    "> 如果某几列数据作为一个整体充当表的主键，那么就要求这几列数据的组合不能够重复。举个例子，如果你将 REPORT_ID 和 APPROVER_ID 设为主键，那么就不能出现有相同 REPORT_ID 和 APPROVER_ID 的记录"
   ]
  },
  {
   "cell_type": "markdown",
   "metadata": {},
   "source": [
    "## 2.2 外键\n",
    "\n",
    "**主键（Primary Key）**出现在**父表（Parent Table）**中，而**外键（Foreign Key）**则出现在**子表（Child Table）**中。子表中的外键指向父表中的主键，举个例子。ATTENDEE_ID 是 ATTENDEE 表的主键，但在 PRESENTATION_ATTENDANCE 表中 ATTENDEE_ID 则是一个外键。这两个联合在一起就成为了一个**一对多**的关系，而不像主键，外键并不要求唯一性，因为它就是一对多关系中的**多**。"
   ]
  },
  {
   "cell_type": "markdown",
   "metadata": {},
   "source": [
    "主键和外键并不需要有相同的列名，如子表 PRESENTATION 中的外键 BOOKED_COMPANY_ID 指向父表 COMPANY 中的主键 COMPANY_ID\n",
    "。"
   ]
  },
  {
   "cell_type": "markdown",
   "metadata": {},
   "source": [
    "# 3. The Schema\n",
    "\n",
    "在了解了主键和外键后，我们可以将这五个表画成一个 **Database Schema**，如下图所示。一个 Database Schema 展示了所有的表、列以及以及它们的关系。所有的主键和外键都用箭头连接起来了，这些箭头展示了父表与子表之间的联系。\n",
    "\n",
    "> 在数据库中，schema（模式）是数据库的组织和结构<sup>[1]</sup>\n",
    "\n",
    "<img style=\"float:center\" src=\"https://x1a-alioss.oss-cn-shenzhen.aliyuncs.com/Screen Shot 2020-03-07 at 16.07.59.png\" width=\"520\" >\n",
    "\n",
    "<center>图6 The SurgeTech Conference Database Schema</center>"
   ]
  },
  {
   "cell_type": "markdown",
   "metadata": {},
   "source": [
    "如果你直接看这个图的话可能会有点晕，但再复杂的结构都可以分成几个简单的部分。当你用 SELECT 写查询时，最多也就用到两三个表，所以你可以先看一部分，这样会容易一点：\n",
    "\n",
    "<img style=\"float:center\" src=\"https://x1a-alioss.oss-cn-shenzhen.aliyuncs.com/Screen Shot 2020-03-07 at 16.24.15.png\" width=\"520\" >\n",
    "\n",
    "<center>图7 父表 ATTENDEE 与子表 COMPANY 的关系图 </center>"
   ]
  },
  {
   "cell_type": "markdown",
   "metadata": {},
   "source": [
    "# 4. 创建数据库\n",
    "\n",
    "- 使用Jupyter Notebook 运行 SQL 语句需安装 ipython-sql\n",
    "\n",
    "- %sql 以及 %%sql 为在 Notebook 中运行 SQL 语句，在 SQLite 命令行或 SQLite Stiduo 中不需要 %sql 或 %%sql\n",
    "\n",
    "载入 SQL 以及连接 SQLite："
   ]
  },
  {
   "cell_type": "code",
   "execution_count": 1,
   "metadata": {
    "ExecuteTime": {
     "end_time": "2020-03-07T08:58:57.296682Z",
     "start_time": "2020-03-07T08:58:56.607852Z"
    }
   },
   "outputs": [],
   "source": [
    "%load_ext sql"
   ]
  },
  {
   "cell_type": "markdown",
   "metadata": {},
   "source": [
    "我们已经设计好整个数据库的结构了，现在就可以看是创建数据库了，运行下面的代码，你就可以在你的当前路径的 DataBase 文件夹中产生一个名为 **surgetech_conference2.db** 的数据库文件："
   ]
  },
  {
   "cell_type": "code",
   "execution_count": 2,
   "metadata": {
    "ExecuteTime": {
     "end_time": "2020-03-07T08:58:58.474221Z",
     "start_time": "2020-03-07T08:58:58.433892Z"
    }
   },
   "outputs": [
    {
     "data": {
      "text/plain": [
       "'Connected: @DataBase/surgetech_conference2.db'"
      ]
     },
     "execution_count": 2,
     "metadata": {},
     "output_type": "execute_result"
    }
   ],
   "source": [
    "%sql sqlite:///DataBase/surgetech_conference2.db"
   ]
  },
  {
   "cell_type": "markdown",
   "metadata": {},
   "source": [
    "## 4.1 创建表格"
   ]
  },
  {
   "cell_type": "markdown",
   "metadata": {},
   "source": [
    "<img style=\"float:center\" src=\"https://x1a-alioss.oss-cn-shenzhen.aliyuncs.com/Screen Shot 2020-03-07 at 14.22.58.png\" width=\"650\" >\n",
    "\n",
    "<center> 图8 Company 表</center>\n",
    "\n",
    "以刚才的 Company 表为例，我们希望：\n",
    "\n",
    "- COMPANY_ID 是一个整形（INTERGER）数据，并且将其设为主键（PRIMARY KEY），同时能够自动标号（AUTOINCREMENT），即第一个 COMPANY_ID 为 1 ，第二个 COMPANY_ID 为 2，以此类推；\n",
    "- NAME 是长度不超过 30 的字符数据（VARCHAR）并且不能为缺失值（NOT NULL）；\n",
    "- DESCRIPTION 是长度不超过 60 的字符数据（VARCHAR）；\n",
    "- PRIMARY_CONTACT_ID 是一个整形（INTERGER）的数据并且不能为缺失值（NOT NULL）；"
   ]
  },
  {
   "cell_type": "code",
   "execution_count": 3,
   "metadata": {
    "ExecuteTime": {
     "end_time": "2020-03-07T08:59:02.091461Z",
     "start_time": "2020-03-07T08:59:02.055100Z"
    },
    "scrolled": true
   },
   "outputs": [
    {
     "name": "stdout",
     "output_type": "stream",
     "text": [
      " * sqlite:///DataBase/surgetech_conference2.db\n",
      "Done.\n"
     ]
    },
    {
     "data": {
      "text/plain": [
       "[]"
      ]
     },
     "execution_count": 3,
     "metadata": {},
     "output_type": "execute_result"
    }
   ],
   "source": [
    "%%sql\n",
    "CREATE TABLE COMPANY \n",
    "(\n",
    "    COMPANY_ID        INTEGER      PRIMARY KEY AUTOINCREMENT, \n",
    "    NAME              VARCHAR(30)  NOT NULL,\n",
    "    DESCRIPTION       VARCHAR(60),\n",
    "    PRIMARY_CONTACT_ID INTEGER     NOT NULL\n",
    ");"
   ]
  },
  {
   "cell_type": "markdown",
   "metadata": {},
   "source": [
    "同理，我们可以继续创建其他的表格："
   ]
  },
  {
   "cell_type": "code",
   "execution_count": 4,
   "metadata": {
    "ExecuteTime": {
     "end_time": "2020-03-07T08:59:03.587445Z",
     "start_time": "2020-03-07T08:59:03.559805Z"
    }
   },
   "outputs": [
    {
     "name": "stdout",
     "output_type": "stream",
     "text": [
      " * sqlite:///DataBase/surgetech_conference2.db\n",
      "Done.\n",
      "Done.\n",
      "Done.\n",
      "Done.\n"
     ]
    },
    {
     "data": {
      "text/plain": [
       "[]"
      ]
     },
     "execution_count": 4,
     "metadata": {},
     "output_type": "execute_result"
    }
   ],
   "source": [
    "%%sql\n",
    "CREATE TABLE ROOM \n",
    "(\n",
    "    ROOM_ID       INTEGER PRIMARY KEY AUTOINCREMENT, \n",
    "    FLOOR_NUMBER  INTEGER NOT NULL,\n",
    "    SEAT_CAPACITY INTEGER NOT NULL\n",
    ");\n",
    "\n",
    "CREATE TABLE PRESENTATION \n",
    "(\n",
    "    PRESENTATION_ID   INTEGER PRIMARY KEY AUTOINCREMENT, \n",
    "    BOOKED_COMPANY_ID INTEGER NOT NULL,\n",
    "    BOOKED_ROOM_ID    INTEGER NOT NULL,\n",
    "    START_TIME        TIME,\n",
    "    END_TIME          TIME\n",
    ");\n",
    "\n",
    "CREATE TABLE ATTENDEE \n",
    "(\n",
    "    ATTENDEE_ID   INTEGER PRIMARY KEY AUTOINCREMENT, \n",
    "    FIRST_NAME    VARCHAR (30) NOT NULL, \n",
    "    LAST_NAME     VARCHAR (30)  NOT NULL,\n",
    "    PHONE         INTEGER,\n",
    "    EMAIL         VARCHAR (30),\n",
    "    VIP BOOLEAN   DEFAULT (0) -- 默认值为0\n",
    "    );\n",
    "    \n",
    "CREATE TABLE PRESENTATION_ATTENDANCE \n",
    "(\n",
    "    TICKET_ID       INTEGER PRIMARY KEY AUTOINCREMENT, \n",
    "    PRESENTATION_ID INTEGER,\n",
    "    ATTENDEE_ID     INTEGER\n",
    ");"
   ]
  },
  {
   "cell_type": "markdown",
   "metadata": {},
   "source": [
    "你可以查看下是否创建成功："
   ]
  },
  {
   "cell_type": "code",
   "execution_count": 5,
   "metadata": {
    "ExecuteTime": {
     "end_time": "2020-03-07T08:59:04.905940Z",
     "start_time": "2020-03-07T08:59:04.877671Z"
    }
   },
   "outputs": [
    {
     "name": "stdout",
     "output_type": "stream",
     "text": [
      " * sqlite:///DataBase/surgetech_conference2.db\n",
      "Done.\n"
     ]
    },
    {
     "data": {
      "text/html": [
       "<table>\n",
       "    <tr>\n",
       "        <th>type</th>\n",
       "        <th>name</th>\n",
       "        <th>tbl_name</th>\n",
       "        <th>rootpage</th>\n",
       "        <th>sql</th>\n",
       "    </tr>\n",
       "    <tr>\n",
       "        <td>table</td>\n",
       "        <td>COMPANY</td>\n",
       "        <td>COMPANY</td>\n",
       "        <td>2</td>\n",
       "        <td>CREATE TABLE COMPANY (<br>    COMPANY_ID        INTEGER      PRIMARY KEY AUTOINCREMENT, <br>    NAME              VARCHAR(30)  NOT NULL,<br>    DESCRIPTION       VARCHAR(60),<br>    PRIMARY_CONTACT_ID INTEGER     NOT NULL<br>)</td>\n",
       "    </tr>\n",
       "    <tr>\n",
       "        <td>table</td>\n",
       "        <td>sqlite_sequence</td>\n",
       "        <td>sqlite_sequence</td>\n",
       "        <td>3</td>\n",
       "        <td>CREATE TABLE sqlite_sequence(name,seq)</td>\n",
       "    </tr>\n",
       "    <tr>\n",
       "        <td>table</td>\n",
       "        <td>ROOM</td>\n",
       "        <td>ROOM</td>\n",
       "        <td>4</td>\n",
       "        <td>CREATE TABLE ROOM (<br>    ROOM_ID       INTEGER PRIMARY KEY AUTOINCREMENT, <br>    FLOOR_NUMBER  INTEGER NOT NULL,<br>    SEAT_CAPACITY INTEGER NOT NULL<br>)</td>\n",
       "    </tr>\n",
       "    <tr>\n",
       "        <td>table</td>\n",
       "        <td>PRESENTATION</td>\n",
       "        <td>PRESENTATION</td>\n",
       "        <td>5</td>\n",
       "        <td>CREATE TABLE PRESENTATION (<br>    PRESENTATION_ID   INTEGER PRIMARY KEY AUTOINCREMENT, <br>    BOOKED_COMPANY_ID INTEGER NOT NULL,<br>    BOOKED_ROOM_ID    INTEGER NOT NULL,<br>    START_TIME        TIME,<br>    END_TIME          TIME<br>)</td>\n",
       "    </tr>\n",
       "    <tr>\n",
       "        <td>table</td>\n",
       "        <td>ATTENDEE</td>\n",
       "        <td>ATTENDEE</td>\n",
       "        <td>6</td>\n",
       "        <td>CREATE TABLE ATTENDEE (<br>    ATTENDEE_ID   INTEGER PRIMARY KEY AUTOINCREMENT, <br>    FIRST_NAME    VARCHAR (30) NOT NULL, <br>    LAST_NAME     VARCHAR(30)  NOT NULL,<br>    PHONE         INTEGER,<br>    EMAIL         VARCHAR (30),<br>    VIP BOOLEAN   DEFAULT (0)<br>    )</td>\n",
       "    </tr>\n",
       "    <tr>\n",
       "        <td>table</td>\n",
       "        <td>PRESENTATION_ATTENDANCE</td>\n",
       "        <td>PRESENTATION_ATTENDANCE</td>\n",
       "        <td>7</td>\n",
       "        <td>CREATE TABLE PRESENTATION_ATTENDANCE (<br>    TICKET_ID       INTEGER PRIMARY KEY AUTOINCREMENT, <br>    PRESENTATION_ID INTEGER,<br>    ATTENDEE_ID     INTEGER<br>)</td>\n",
       "    </tr>\n",
       "</table>"
      ],
      "text/plain": [
       "[('table', 'COMPANY', 'COMPANY', 2, 'CREATE TABLE COMPANY (\\n    COMPANY_ID        INTEGER      PRIMARY KEY AUTOINCREMENT, \\n    NAME              VARCHAR(30)  NOT NULL,\\n    DESCRIPTION       VARCHAR(60),\\n    PRIMARY_CONTACT_ID INTEGER     NOT NULL\\n)'),\n",
       " ('table', 'sqlite_sequence', 'sqlite_sequence', 3, 'CREATE TABLE sqlite_sequence(name,seq)'),\n",
       " ('table', 'ROOM', 'ROOM', 4, 'CREATE TABLE ROOM (\\n    ROOM_ID       INTEGER PRIMARY KEY AUTOINCREMENT, \\n    FLOOR_NUMBER  INTEGER NOT NULL,\\n    SEAT_CAPACITY INTEGER NOT NULL\\n)'),\n",
       " ('table', 'PRESENTATION', 'PRESENTATION', 5, 'CREATE TABLE PRESENTATION (\\n    PRESENTATION_ID   INTEGER PRIMARY KEY AUTOINCREMENT, \\n    BOOKED_COMPANY_ID INTEGER NOT NULL,\\n    BOOKED_ROOM_ID    INTEGER NOT NULL,\\n    START_TIME        TIME,\\n    END_TIME          TIME\\n)'),\n",
       " ('table', 'ATTENDEE', 'ATTENDEE', 6, 'CREATE TABLE ATTENDEE (\\n    ATTENDEE_ID   INTEGER PRIMARY KEY AUTOINCREMENT, \\n    FIRST_NAME    VARCHAR (30) NOT NULL, \\n    LAST_NAME     VARCHAR(30)  NOT NULL,\\n    PHONE         INTEGER,\\n    EMAIL         VARCHAR (30),\\n    VIP BOOLEAN   DEFAULT (0)\\n    )'),\n",
       " ('table', 'PRESENTATION_ATTENDANCE', 'PRESENTATION_ATTENDANCE', 7, 'CREATE TABLE PRESENTATION_ATTENDANCE (\\n    TICKET_ID       INTEGER PRIMARY KEY AUTOINCREMENT, \\n    PRESENTATION_ID INTEGER,\\n    ATTENDEE_ID     INTEGER\\n)')]"
      ]
     },
     "execution_count": 5,
     "metadata": {},
     "output_type": "execute_result"
    }
   ],
   "source": [
    "%%sql\n",
    "select * from sqlite_master where type = \"table\";"
   ]
  },
  {
   "cell_type": "markdown",
   "metadata": {},
   "source": [
    "# 参考资料\n",
    "\n",
    "[1] 我是康小小.数据库中的Schema是什么？[EB/OL].https://blog.csdn.net/u010429286/article/details/79022484, 2018-01-10.\n",
    "    \n",
    "[2] [Thomas Nield.Getting Started with SQL](https://github.com/X1AOX1A/SQL_Notes/blob/master/getting_started_with_sql/Getting%20Started%20with%20SQL.pdf)[M].US: O’Reilly, 2016: 67-89"
   ]
  },
  {
   "cell_type": "markdown",
   "metadata": {},
   "source": [
    "**相关文章：**\n",
    "\n",
    "[SQL | 目录](https://blog.csdn.net/weixin_45488228/article/details/104436708)\n",
    "\n",
    "[SQLite | Select](https://blog.csdn.net/weixin_45488228/article/details/104336824)\n",
    "\n",
    "[SQLite | Where](https://blog.csdn.net/weixin_45488228/article/details/104377915)\n",
    "\n",
    "[SQLite | Group by and Order by](https://blog.csdn.net/weixin_45488228/article/details/104436653)\n",
    "\n",
    "[SQLite | CASE Statements](https://blog.csdn.net/weixin_45488228/article/details/104480537)\n",
    "\n",
    "[SQLite | Join](https://blog.csdn.net/weixin_45488228/article/details/104687791)\n",
    "\n",
    "[SQLite | SQLite 与 Pandas 比较篇之一](https://blog.csdn.net/weixin_45488228/article/details/104450751)"
   ]
  }
 ],
 "metadata": {
  "kernelspec": {
   "display_name": "Python 3",
   "language": "python",
   "name": "python3"
  },
  "language_info": {
   "codemirror_mode": {
    "name": "ipython",
    "version": 3
   },
   "file_extension": ".py",
   "mimetype": "text/x-python",
   "name": "python",
   "nbconvert_exporter": "python",
   "pygments_lexer": "ipython3",
   "version": "3.7.3"
  },
  "toc": {
   "base_numbering": 1,
   "nav_menu": {},
   "number_sections": false,
   "sideBar": true,
   "skip_h1_title": false,
   "title_cell": "Table of Contents",
   "title_sidebar": "Contents",
   "toc_cell": false,
   "toc_position": {
    "height": "calc(100% - 180px)",
    "left": "10px",
    "top": "150px",
    "width": "222.60870361328125px"
   },
   "toc_section_display": true,
   "toc_window_display": true
  },
  "varInspector": {
   "cols": {
    "lenName": 16,
    "lenType": 16,
    "lenVar": 40
   },
   "kernels_config": {
    "python": {
     "delete_cmd_postfix": "",
     "delete_cmd_prefix": "del ",
     "library": "var_list.py",
     "varRefreshCmd": "print(var_dic_list())"
    },
    "r": {
     "delete_cmd_postfix": ") ",
     "delete_cmd_prefix": "rm(",
     "library": "var_list.r",
     "varRefreshCmd": "cat(var_dic_list()) "
    }
   },
   "types_to_exclude": [
    "module",
    "function",
    "builtin_function_or_method",
    "instance",
    "_Feature"
   ],
   "window_display": false
  }
 },
 "nbformat": 4,
 "nbformat_minor": 4
}
