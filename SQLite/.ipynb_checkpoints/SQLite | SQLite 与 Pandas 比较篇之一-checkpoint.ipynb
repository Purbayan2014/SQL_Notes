{
 "cells": [
  {
   "cell_type": "markdown",
   "metadata": {},
   "source": [
    "**相关文章：**\n",
    "\n",
    "[SQL | 目录](https://blog.csdn.net/weixin_45488228/article/details/104436708)\n",
    "\n",
    "[SQLite | Select](https://blog.csdn.net/weixin_45488228/article/details/104336824)\n",
    "\n",
    "[SQLite | Where](https://blog.csdn.net/weixin_45488228/article/details/104377915)\n",
    "\n",
    "[SQLite | Group by and Order by](https://blog.csdn.net/weixin_45488228/article/details/104436653)"
   ]
  },
  {
   "cell_type": "markdown",
   "metadata": {},
   "source": [
    "# 1. SQLite 与 Pandas 异同点比较\n",
    "\n",
    "## 1.1 数据导入"
   ]
  },
  {
   "cell_type": "markdown",
   "metadata": {},
   "source": [
    "### 1.1.1 SQLIte"
   ]
  },
  {
   "cell_type": "markdown",
   "metadata": {},
   "source": [
    "SQLite 需要首先导入数据库文件并使用 select 语句选取记录："
   ]
  },
  {
   "cell_type": "markdown",
   "metadata": {},
   "source": [
    "- 使用Jupyter Notebook 运行 SQL 语句需安装 ipython-sql\n",
    "\n",
    "- %sql 以及 %%sql 为在 Notebook 中运行 SQL 语句，在 SQLite 命令行或 SQLite Stiduo 中不需要 %sql 或 %%sql"
   ]
  },
  {
   "cell_type": "code",
   "execution_count": 1,
   "metadata": {
    "ExecuteTime": {
     "end_time": "2020-02-22T02:52:58.320984Z",
     "start_time": "2020-02-22T02:52:57.523277Z"
    }
   },
   "outputs": [
    {
     "data": {
      "text/plain": [
       "'Connected: @DataBase/weather_stations.db'"
      ]
     },
     "execution_count": 1,
     "metadata": {},
     "output_type": "execute_result"
    }
   ],
   "source": [
    "%load_ext sql\n",
    "%sql sqlite:///DataBase/weather_stations.db"
   ]
  },
  {
   "cell_type": "code",
   "execution_count": 2,
   "metadata": {
    "ExecuteTime": {
     "end_time": "2020-02-22T02:53:44.910497Z",
     "start_time": "2020-02-22T02:53:44.897769Z"
    }
   },
   "outputs": [
    {
     "name": "stdout",
     "output_type": "stream",
     "text": [
      " * sqlite:///DataBase/weather_stations.db\n",
      "Done.\n"
     ]
    },
    {
     "data": {
      "text/html": [
       "<table>\n",
       "    <tr>\n",
       "        <th>station_number</th>\n",
       "        <th>report_code</th>\n",
       "        <th>year</th>\n",
       "        <th>month</th>\n",
       "        <th>day</th>\n",
       "        <th>dew_point</th>\n",
       "        <th>station_pressure</th>\n",
       "        <th>visibility</th>\n",
       "        <th>wind_speed</th>\n",
       "        <th>temperature</th>\n",
       "        <th>precipitation</th>\n",
       "        <th>snow_depth</th>\n",
       "        <th>fog</th>\n",
       "        <th>rain</th>\n",
       "        <th>hail</th>\n",
       "        <th>thunder</th>\n",
       "        <th>tornado</th>\n",
       "    </tr>\n",
       "    <tr>\n",
       "        <td>143080</td>\n",
       "        <td>34DDA7</td>\n",
       "        <td>2002</td>\n",
       "        <td>12</td>\n",
       "        <td>21</td>\n",
       "        <td>33.8</td>\n",
       "        <td>987.4</td>\n",
       "        <td>3.4</td>\n",
       "        <td>0.2</td>\n",
       "        <td>36</td>\n",
       "        <td>0</td>\n",
       "        <td>None</td>\n",
       "        <td>1</td>\n",
       "        <td>1</td>\n",
       "        <td>1</td>\n",
       "        <td>1</td>\n",
       "        <td>1</td>\n",
       "    </tr>\n",
       "    <tr>\n",
       "        <td>766440</td>\n",
       "        <td>39537B</td>\n",
       "        <td>1998</td>\n",
       "        <td>10</td>\n",
       "        <td>1</td>\n",
       "        <td>72.7</td>\n",
       "        <td>1014.6</td>\n",
       "        <td>5.9</td>\n",
       "        <td>6.7</td>\n",
       "        <td>83.3</td>\n",
       "        <td>0</td>\n",
       "        <td>None</td>\n",
       "        <td>0</td>\n",
       "        <td>0</td>\n",
       "        <td>0</td>\n",
       "        <td>0</td>\n",
       "        <td>0</td>\n",
       "    </tr>\n",
       "    <tr>\n",
       "        <td>176010</td>\n",
       "        <td>C3C6D5</td>\n",
       "        <td>2001</td>\n",
       "        <td>5</td>\n",
       "        <td>18</td>\n",
       "        <td>55.7</td>\n",
       "        <td>None</td>\n",
       "        <td>7.3</td>\n",
       "        <td>4.3</td>\n",
       "        <td>69.1</td>\n",
       "        <td>0</td>\n",
       "        <td>None</td>\n",
       "        <td>0</td>\n",
       "        <td>0</td>\n",
       "        <td>0</td>\n",
       "        <td>0</td>\n",
       "        <td>0</td>\n",
       "    </tr>\n",
       "</table>"
      ],
      "text/plain": [
       "[(143080, '34DDA7', 2002, 12, 21, 33.8, 987.4, 3.4, 0.2, 36, 0, None, 1, 1, 1, 1, 1),\n",
       " (766440, '39537B', 1998, 10, 1, 72.7, 1014.6, 5.9, 6.7, 83.3, 0, None, 0, 0, 0, 0, 0),\n",
       " (176010, 'C3C6D5', 2001, 5, 18, 55.7, None, 7.3, 4.3, 69.1, 0, None, 0, 0, 0, 0, 0)]"
      ]
     },
     "execution_count": 2,
     "metadata": {},
     "output_type": "execute_result"
    }
   ],
   "source": [
    "%%sql\n",
    "select * from station_data\n",
    "limit 0,3"
   ]
  },
  {
   "cell_type": "markdown",
   "metadata": {},
   "source": [
    "### 1.1.2 Pandas\n",
    "\n",
    "在 Python 中我们可以利用 sqlite3 模块来读取数据库并转换为 Pandas 的 DataFrame 格式："
   ]
  },
  {
   "cell_type": "code",
   "execution_count": 24,
   "metadata": {
    "ExecuteTime": {
     "end_time": "2020-02-22T03:07:30.927031Z",
     "start_time": "2020-02-22T03:07:30.647032Z"
    }
   },
   "outputs": [],
   "source": [
    "import sqlite3\n",
    "import pandas as pd\n",
    "con = sqlite3.connect('./DataBase/weather_stations.db')\n",
    "cursor = con.execute('select * from station_data')\n",
    "rows = cursor.fetchall()\n",
    "df = pd.DataFrame(rows, columns=[x[0] for x in cursor.description])"
   ]
  },
  {
   "cell_type": "code",
   "execution_count": 25,
   "metadata": {
    "ExecuteTime": {
     "end_time": "2020-02-22T03:07:32.199026Z",
     "start_time": "2020-02-22T03:07:32.169601Z"
    }
   },
   "outputs": [
    {
     "data": {
      "text/html": [
       "<div>\n",
       "<style scoped>\n",
       "    .dataframe tbody tr th:only-of-type {\n",
       "        vertical-align: middle;\n",
       "    }\n",
       "\n",
       "    .dataframe tbody tr th {\n",
       "        vertical-align: top;\n",
       "    }\n",
       "\n",
       "    .dataframe thead th {\n",
       "        text-align: right;\n",
       "    }\n",
       "</style>\n",
       "<table border=\"1\" class=\"dataframe\">\n",
       "  <thead>\n",
       "    <tr style=\"text-align: right;\">\n",
       "      <th></th>\n",
       "      <th>station_number</th>\n",
       "      <th>report_code</th>\n",
       "      <th>year</th>\n",
       "      <th>month</th>\n",
       "      <th>day</th>\n",
       "      <th>dew_point</th>\n",
       "      <th>station_pressure</th>\n",
       "      <th>visibility</th>\n",
       "      <th>wind_speed</th>\n",
       "      <th>temperature</th>\n",
       "      <th>precipitation</th>\n",
       "      <th>snow_depth</th>\n",
       "      <th>fog</th>\n",
       "      <th>rain</th>\n",
       "      <th>hail</th>\n",
       "      <th>thunder</th>\n",
       "      <th>tornado</th>\n",
       "    </tr>\n",
       "  </thead>\n",
       "  <tbody>\n",
       "    <tr>\n",
       "      <th>0</th>\n",
       "      <td>143080</td>\n",
       "      <td>34DDA7</td>\n",
       "      <td>2002</td>\n",
       "      <td>12</td>\n",
       "      <td>21</td>\n",
       "      <td>33.8</td>\n",
       "      <td>987.4</td>\n",
       "      <td>3.4</td>\n",
       "      <td>0.2</td>\n",
       "      <td>36.0</td>\n",
       "      <td>0.0</td>\n",
       "      <td>NaN</td>\n",
       "      <td>1</td>\n",
       "      <td>1</td>\n",
       "      <td>1</td>\n",
       "      <td>1</td>\n",
       "      <td>1</td>\n",
       "    </tr>\n",
       "    <tr>\n",
       "      <th>1</th>\n",
       "      <td>766440</td>\n",
       "      <td>39537B</td>\n",
       "      <td>1998</td>\n",
       "      <td>10</td>\n",
       "      <td>1</td>\n",
       "      <td>72.7</td>\n",
       "      <td>1014.6</td>\n",
       "      <td>5.9</td>\n",
       "      <td>6.7</td>\n",
       "      <td>83.3</td>\n",
       "      <td>0.0</td>\n",
       "      <td>NaN</td>\n",
       "      <td>0</td>\n",
       "      <td>0</td>\n",
       "      <td>0</td>\n",
       "      <td>0</td>\n",
       "      <td>0</td>\n",
       "    </tr>\n",
       "    <tr>\n",
       "      <th>2</th>\n",
       "      <td>176010</td>\n",
       "      <td>C3C6D5</td>\n",
       "      <td>2001</td>\n",
       "      <td>5</td>\n",
       "      <td>18</td>\n",
       "      <td>55.7</td>\n",
       "      <td>NaN</td>\n",
       "      <td>7.3</td>\n",
       "      <td>4.3</td>\n",
       "      <td>69.1</td>\n",
       "      <td>0.0</td>\n",
       "      <td>NaN</td>\n",
       "      <td>0</td>\n",
       "      <td>0</td>\n",
       "      <td>0</td>\n",
       "      <td>0</td>\n",
       "      <td>0</td>\n",
       "    </tr>\n",
       "  </tbody>\n",
       "</table>\n",
       "</div>"
      ],
      "text/plain": [
       "   station_number report_code  year  month  day  dew_point  station_pressure  \\\n",
       "0          143080      34DDA7  2002     12   21       33.8             987.4   \n",
       "1          766440      39537B  1998     10    1       72.7            1014.6   \n",
       "2          176010      C3C6D5  2001      5   18       55.7               NaN   \n",
       "\n",
       "   visibility  wind_speed  temperature  precipitation  snow_depth  fog  rain  \\\n",
       "0         3.4         0.2         36.0            0.0         NaN    1     1   \n",
       "1         5.9         6.7         83.3            0.0         NaN    0     0   \n",
       "2         7.3         4.3         69.1            0.0         NaN    0     0   \n",
       "\n",
       "   hail  thunder  tornado  \n",
       "0     1        1        1  \n",
       "1     0        0        0  \n",
       "2     0        0        0  "
      ]
     },
     "execution_count": 25,
     "metadata": {},
     "output_type": "execute_result"
    }
   ],
   "source": [
    "df.head(3)"
   ]
  },
  {
   "cell_type": "markdown",
   "metadata": {},
   "source": [
    "## 1.2 选取数据\n",
    "\n",
    "### 1.2.1 SQLite\n",
    "在 SQLite 中，我们需要通过 select 语句来筛选数据，并可以使用 alias、内置函数和文字拼接等对数据进行处理："
   ]
  },
  {
   "cell_type": "code",
   "execution_count": 28,
   "metadata": {
    "ExecuteTime": {
     "end_time": "2020-02-22T03:16:17.307060Z",
     "start_time": "2020-02-22T03:16:17.295718Z"
    }
   },
   "outputs": [
    {
     "name": "stdout",
     "output_type": "stream",
     "text": [
      " * sqlite:///DataBase/weather_stations.db\n",
      "Done.\n"
     ]
    },
    {
     "data": {
      "text/html": [
       "<table>\n",
       "    <tr>\n",
       "        <th>number</th>\n",
       "        <th>Fahrenheit</th>\n",
       "    </tr>\n",
       "    <tr>\n",
       "        <td>143080_34DDA7</td>\n",
       "        <td>96.0</td>\n",
       "    </tr>\n",
       "    <tr>\n",
       "        <td>766440_39537B</td>\n",
       "        <td>181.94</td>\n",
       "    </tr>\n",
       "    <tr>\n",
       "        <td>176010_C3C6D5</td>\n",
       "        <td>156.38</td>\n",
       "    </tr>\n",
       "</table>"
      ],
      "text/plain": [
       "[('143080_34DDA7', 96.0), ('766440_39537B', 181.94), ('176010_C3C6D5', 156.38)]"
      ]
     },
     "execution_count": 28,
     "metadata": {},
     "output_type": "execute_result"
    }
   ],
   "source": [
    "%%sql\n",
    "select\n",
    "station_number ||'_'|| report_code as number, -- 将两个拼接\n",
    "round(temperature*9/5+32, 2) as Fahrenheit -- 将摄氏度转换为华氏度\n",
    "from station_data\n",
    "limit 0,3"
   ]
  },
  {
   "cell_type": "markdown",
   "metadata": {
    "ExecuteTime": {
     "end_time": "2020-02-22T03:47:59.203130Z",
     "start_time": "2020-02-22T03:47:59.196594Z"
    }
   },
   "source": [
    "### 1.2.2 Pandas\n",
    "\n",
    "Pandas 中似乎没有直接作用于字符的拼接函数，因此需要多一步转换的过程才能得到与 SQL 中 concat 相同的效果："
   ]
  },
  {
   "cell_type": "code",
   "execution_count": 114,
   "metadata": {
    "ExecuteTime": {
     "end_time": "2020-02-22T12:49:20.004479Z",
     "start_time": "2020-02-22T12:49:19.948176Z"
    }
   },
   "outputs": [
    {
     "data": {
      "text/html": [
       "<div>\n",
       "<style scoped>\n",
       "    .dataframe tbody tr th:only-of-type {\n",
       "        vertical-align: middle;\n",
       "    }\n",
       "\n",
       "    .dataframe tbody tr th {\n",
       "        vertical-align: top;\n",
       "    }\n",
       "\n",
       "    .dataframe thead th {\n",
       "        text-align: right;\n",
       "    }\n",
       "</style>\n",
       "<table border=\"1\" class=\"dataframe\">\n",
       "  <thead>\n",
       "    <tr style=\"text-align: right;\">\n",
       "      <th></th>\n",
       "      <th>number</th>\n",
       "      <th>Fahrenheit</th>\n",
       "    </tr>\n",
       "  </thead>\n",
       "  <tbody>\n",
       "    <tr>\n",
       "      <th>0</th>\n",
       "      <td>143080_34DDA7</td>\n",
       "      <td>96.80</td>\n",
       "    </tr>\n",
       "    <tr>\n",
       "      <th>1</th>\n",
       "      <td>766440_39537B</td>\n",
       "      <td>181.94</td>\n",
       "    </tr>\n",
       "    <tr>\n",
       "      <th>2</th>\n",
       "      <td>176010_C3C6D5</td>\n",
       "      <td>156.38</td>\n",
       "    </tr>\n",
       "  </tbody>\n",
       "</table>\n",
       "</div>"
      ],
      "text/plain": [
       "          number  Fahrenheit\n",
       "0  143080_34DDA7       96.80\n",
       "1  766440_39537B      181.94\n",
       "2  176010_C3C6D5      156.38"
      ]
     },
     "execution_count": 114,
     "metadata": {},
     "output_type": "execute_result"
    }
   ],
   "source": [
    "pd.concat( [pd.Series([str(num)+'_'+code for (num,code) in \n",
    "                       zip(list(df['station_number']), \n",
    "                           list(df['report_code']))], name='number'), \n",
    "            pd.Series(round(df['temperature']*9/5+32, 2), name='Fahrenheit')],\n",
    "          axis=1).head(3)"
   ]
  },
  {
   "cell_type": "markdown",
   "metadata": {},
   "source": [
    "## 1.3 筛选数据"
   ]
  },
  {
   "cell_type": "markdown",
   "metadata": {},
   "source": [
    "### 1.3.1 SQLite\n",
    "\n",
    "SQLite 中使用 where 对数据进行筛选，如筛选 2005 年至 2010 年的数据："
   ]
  },
  {
   "cell_type": "code",
   "execution_count": 93,
   "metadata": {
    "ExecuteTime": {
     "end_time": "2020-02-22T12:35:57.128155Z",
     "start_time": "2020-02-22T12:35:57.094723Z"
    },
    "scrolled": true
   },
   "outputs": [
    {
     "name": "stdout",
     "output_type": "stream",
     "text": [
      " * sqlite:///DataBase/weather_stations.db\n",
      "Done.\n"
     ]
    },
    {
     "data": {
      "text/html": [
       "<table>\n",
       "    <tr>\n",
       "        <th>station_number</th>\n",
       "        <th>report_code</th>\n",
       "        <th>year</th>\n",
       "        <th>month</th>\n",
       "        <th>day</th>\n",
       "        <th>dew_point</th>\n",
       "        <th>station_pressure</th>\n",
       "        <th>visibility</th>\n",
       "        <th>wind_speed</th>\n",
       "        <th>temperature</th>\n",
       "        <th>precipitation</th>\n",
       "        <th>snow_depth</th>\n",
       "        <th>fog</th>\n",
       "        <th>rain</th>\n",
       "        <th>hail</th>\n",
       "        <th>thunder</th>\n",
       "        <th>tornado</th>\n",
       "    </tr>\n",
       "    <tr>\n",
       "        <td>125600</td>\n",
       "        <td>145150</td>\n",
       "        <td>2007</td>\n",
       "        <td>10</td>\n",
       "        <td>14</td>\n",
       "        <td>33</td>\n",
       "        <td>None</td>\n",
       "        <td>6.9</td>\n",
       "        <td>2.5</td>\n",
       "        <td>39.7</td>\n",
       "        <td>0</td>\n",
       "        <td>None</td>\n",
       "        <td>0</td>\n",
       "        <td>0</td>\n",
       "        <td>0</td>\n",
       "        <td>0</td>\n",
       "        <td>0</td>\n",
       "    </tr>\n",
       "    <tr>\n",
       "        <td>598550</td>\n",
       "        <td>C5C66E</td>\n",
       "        <td>2006</td>\n",
       "        <td>10</td>\n",
       "        <td>15</td>\n",
       "        <td>72.9</td>\n",
       "        <td>None</td>\n",
       "        <td>14.2</td>\n",
       "        <td>1.7</td>\n",
       "        <td>82</td>\n",
       "        <td>0</td>\n",
       "        <td>None</td>\n",
       "        <td>0</td>\n",
       "        <td>0</td>\n",
       "        <td>0</td>\n",
       "        <td>0</td>\n",
       "        <td>0</td>\n",
       "    </tr>\n",
       "    <tr>\n",
       "        <td>941830</td>\n",
       "        <td>229317</td>\n",
       "        <td>2007</td>\n",
       "        <td>4</td>\n",
       "        <td>19</td>\n",
       "        <td>66.5</td>\n",
       "        <td>994.9</td>\n",
       "        <td>None</td>\n",
       "        <td>4</td>\n",
       "        <td>76.3</td>\n",
       "        <td>0</td>\n",
       "        <td>None</td>\n",
       "        <td>0</td>\n",
       "        <td>0</td>\n",
       "        <td>0</td>\n",
       "        <td>0</td>\n",
       "        <td>0</td>\n",
       "    </tr>\n",
       "</table>"
      ],
      "text/plain": [
       "[(125600, '145150', 2007, 10, 14, 33, None, 6.9, 2.5, 39.7, 0, None, 0, 0, 0, 0, 0),\n",
       " (598550, 'C5C66E', 2006, 10, 15, 72.9, None, 14.2, 1.7, 82, 0, None, 0, 0, 0, 0, 0),\n",
       " (941830, '229317', 2007, 4, 19, 66.5, 994.9, None, 4, 76.3, 0, None, 0, 0, 0, 0, 0)]"
      ]
     },
     "execution_count": 93,
     "metadata": {},
     "output_type": "execute_result"
    }
   ],
   "source": [
    "%%sql\n",
    "select * from station_data\n",
    "where year>=2005 and year<=2010\n",
    "limit 0,3"
   ]
  },
  {
   "cell_type": "markdown",
   "metadata": {},
   "source": [
    "筛选月份为 3、6、9、12 的数据："
   ]
  },
  {
   "cell_type": "code",
   "execution_count": 115,
   "metadata": {
    "ExecuteTime": {
     "end_time": "2020-02-22T12:51:49.145330Z",
     "start_time": "2020-02-22T12:51:49.132633Z"
    }
   },
   "outputs": [
    {
     "name": "stdout",
     "output_type": "stream",
     "text": [
      " * sqlite:///DataBase/weather_stations.db\n",
      "Done.\n"
     ]
    },
    {
     "data": {
      "text/html": [
       "<table>\n",
       "    <tr>\n",
       "        <th>station_number</th>\n",
       "        <th>report_code</th>\n",
       "        <th>year</th>\n",
       "        <th>month</th>\n",
       "        <th>day</th>\n",
       "        <th>dew_point</th>\n",
       "        <th>station_pressure</th>\n",
       "        <th>visibility</th>\n",
       "        <th>wind_speed</th>\n",
       "        <th>temperature</th>\n",
       "        <th>precipitation</th>\n",
       "        <th>snow_depth</th>\n",
       "        <th>fog</th>\n",
       "        <th>rain</th>\n",
       "        <th>hail</th>\n",
       "        <th>thunder</th>\n",
       "        <th>tornado</th>\n",
       "    </tr>\n",
       "    <tr>\n",
       "        <td>143080</td>\n",
       "        <td>34DDA7</td>\n",
       "        <td>2002</td>\n",
       "        <td>12</td>\n",
       "        <td>21</td>\n",
       "        <td>33.8</td>\n",
       "        <td>987.4</td>\n",
       "        <td>3.4</td>\n",
       "        <td>0.2</td>\n",
       "        <td>36</td>\n",
       "        <td>0</td>\n",
       "        <td>None</td>\n",
       "        <td>1</td>\n",
       "        <td>1</td>\n",
       "        <td>1</td>\n",
       "        <td>1</td>\n",
       "        <td>1</td>\n",
       "    </tr>\n",
       "    <tr>\n",
       "        <td>821930</td>\n",
       "        <td>1F8A7B</td>\n",
       "        <td>1953</td>\n",
       "        <td>6</td>\n",
       "        <td>18</td>\n",
       "        <td>72.8</td>\n",
       "        <td>1007.1</td>\n",
       "        <td>12.4</td>\n",
       "        <td>3.6</td>\n",
       "        <td>81.3</td>\n",
       "        <td>0</td>\n",
       "        <td>None</td>\n",
       "        <td>0</td>\n",
       "        <td>0</td>\n",
       "        <td>0</td>\n",
       "        <td>0</td>\n",
       "        <td>0</td>\n",
       "    </tr>\n",
       "    <tr>\n",
       "        <td>478070</td>\n",
       "        <td>D028D8</td>\n",
       "        <td>1981</td>\n",
       "        <td>6</td>\n",
       "        <td>27</td>\n",
       "        <td>73.4</td>\n",
       "        <td>None</td>\n",
       "        <td>7.9</td>\n",
       "        <td>3</td>\n",
       "        <td>77</td>\n",
       "        <td>1.93</td>\n",
       "        <td>None</td>\n",
       "        <td>0</td>\n",
       "        <td>0</td>\n",
       "        <td>0</td>\n",
       "        <td>0</td>\n",
       "        <td>0</td>\n",
       "    </tr>\n",
       "</table>"
      ],
      "text/plain": [
       "[(143080, '34DDA7', 2002, 12, 21, 33.8, 987.4, 3.4, 0.2, 36, 0, None, 1, 1, 1, 1, 1),\n",
       " (821930, '1F8A7B', 1953, 6, 18, 72.8, 1007.1, 12.4, 3.6, 81.3, 0, None, 0, 0, 0, 0, 0),\n",
       " (478070, 'D028D8', 1981, 6, 27, 73.4, None, 7.9, 3, 77, 1.93, None, 0, 0, 0, 0, 0)]"
      ]
     },
     "execution_count": 115,
     "metadata": {},
     "output_type": "execute_result"
    }
   ],
   "source": [
    "%%sql \n",
    "select * from station_data \n",
    "where Month in (3,6,9,12)\n",
    "limit 0,3;"
   ]
  },
  {
   "cell_type": "markdown",
   "metadata": {},
   "source": [
    "### 1.3.2 Pandas\n",
    "\n",
    "筛选 2005 年至 2010 年的数据："
   ]
  },
  {
   "cell_type": "code",
   "execution_count": 96,
   "metadata": {
    "ExecuteTime": {
     "end_time": "2020-02-22T12:38:11.939140Z",
     "start_time": "2020-02-22T12:38:11.894899Z"
    },
    "scrolled": true
   },
   "outputs": [
    {
     "data": {
      "text/html": [
       "<div>\n",
       "<style scoped>\n",
       "    .dataframe tbody tr th:only-of-type {\n",
       "        vertical-align: middle;\n",
       "    }\n",
       "\n",
       "    .dataframe tbody tr th {\n",
       "        vertical-align: top;\n",
       "    }\n",
       "\n",
       "    .dataframe thead th {\n",
       "        text-align: right;\n",
       "    }\n",
       "</style>\n",
       "<table border=\"1\" class=\"dataframe\">\n",
       "  <thead>\n",
       "    <tr style=\"text-align: right;\">\n",
       "      <th></th>\n",
       "      <th>station_number</th>\n",
       "      <th>report_code</th>\n",
       "      <th>year</th>\n",
       "      <th>month</th>\n",
       "      <th>day</th>\n",
       "      <th>dew_point</th>\n",
       "      <th>station_pressure</th>\n",
       "      <th>visibility</th>\n",
       "      <th>wind_speed</th>\n",
       "      <th>temperature</th>\n",
       "      <th>precipitation</th>\n",
       "      <th>snow_depth</th>\n",
       "      <th>fog</th>\n",
       "      <th>rain</th>\n",
       "      <th>hail</th>\n",
       "      <th>thunder</th>\n",
       "      <th>tornado</th>\n",
       "    </tr>\n",
       "  </thead>\n",
       "  <tbody>\n",
       "    <tr>\n",
       "      <th>3</th>\n",
       "      <td>125600</td>\n",
       "      <td>145150</td>\n",
       "      <td>2007</td>\n",
       "      <td>10</td>\n",
       "      <td>14</td>\n",
       "      <td>33.0</td>\n",
       "      <td>NaN</td>\n",
       "      <td>6.9</td>\n",
       "      <td>2.5</td>\n",
       "      <td>39.7</td>\n",
       "      <td>0.0</td>\n",
       "      <td>NaN</td>\n",
       "      <td>0</td>\n",
       "      <td>0</td>\n",
       "      <td>0</td>\n",
       "      <td>0</td>\n",
       "      <td>0</td>\n",
       "    </tr>\n",
       "    <tr>\n",
       "      <th>9</th>\n",
       "      <td>598550</td>\n",
       "      <td>C5C66E</td>\n",
       "      <td>2006</td>\n",
       "      <td>10</td>\n",
       "      <td>15</td>\n",
       "      <td>72.9</td>\n",
       "      <td>NaN</td>\n",
       "      <td>14.2</td>\n",
       "      <td>1.7</td>\n",
       "      <td>82.0</td>\n",
       "      <td>0.0</td>\n",
       "      <td>NaN</td>\n",
       "      <td>0</td>\n",
       "      <td>0</td>\n",
       "      <td>0</td>\n",
       "      <td>0</td>\n",
       "      <td>0</td>\n",
       "    </tr>\n",
       "    <tr>\n",
       "      <th>18</th>\n",
       "      <td>941830</td>\n",
       "      <td>229317</td>\n",
       "      <td>2007</td>\n",
       "      <td>4</td>\n",
       "      <td>19</td>\n",
       "      <td>66.5</td>\n",
       "      <td>994.9</td>\n",
       "      <td>NaN</td>\n",
       "      <td>4.0</td>\n",
       "      <td>76.3</td>\n",
       "      <td>0.0</td>\n",
       "      <td>NaN</td>\n",
       "      <td>0</td>\n",
       "      <td>0</td>\n",
       "      <td>0</td>\n",
       "      <td>0</td>\n",
       "      <td>0</td>\n",
       "    </tr>\n",
       "  </tbody>\n",
       "</table>\n",
       "</div>"
      ],
      "text/plain": [
       "    station_number report_code  year  month  day  dew_point  station_pressure  \\\n",
       "3           125600      145150  2007     10   14       33.0               NaN   \n",
       "9           598550      C5C66E  2006     10   15       72.9               NaN   \n",
       "18          941830      229317  2007      4   19       66.5             994.9   \n",
       "\n",
       "    visibility  wind_speed  temperature  precipitation  snow_depth  fog  rain  \\\n",
       "3          6.9         2.5         39.7            0.0         NaN    0     0   \n",
       "9         14.2         1.7         82.0            0.0         NaN    0     0   \n",
       "18         NaN         4.0         76.3            0.0         NaN    0     0   \n",
       "\n",
       "    hail  thunder  tornado  \n",
       "3      0        0        0  \n",
       "9      0        0        0  \n",
       "18     0        0        0  "
      ]
     },
     "execution_count": 96,
     "metadata": {},
     "output_type": "execute_result"
    }
   ],
   "source": [
    "df[(df['year']>=2005) & (df['year']<=2010)].head(3)"
   ]
  },
  {
   "cell_type": "markdown",
   "metadata": {},
   "source": [
    "筛选月份为 3、6、9、12 的数据："
   ]
  },
  {
   "cell_type": "code",
   "execution_count": 111,
   "metadata": {
    "ExecuteTime": {
     "end_time": "2020-02-22T12:45:20.297978Z",
     "start_time": "2020-02-22T12:45:20.191889Z"
    }
   },
   "outputs": [
    {
     "data": {
      "text/html": [
       "<div>\n",
       "<style scoped>\n",
       "    .dataframe tbody tr th:only-of-type {\n",
       "        vertical-align: middle;\n",
       "    }\n",
       "\n",
       "    .dataframe tbody tr th {\n",
       "        vertical-align: top;\n",
       "    }\n",
       "\n",
       "    .dataframe thead th {\n",
       "        text-align: right;\n",
       "    }\n",
       "</style>\n",
       "<table border=\"1\" class=\"dataframe\">\n",
       "  <thead>\n",
       "    <tr style=\"text-align: right;\">\n",
       "      <th></th>\n",
       "      <th>station_number</th>\n",
       "      <th>report_code</th>\n",
       "      <th>year</th>\n",
       "      <th>month</th>\n",
       "      <th>day</th>\n",
       "      <th>dew_point</th>\n",
       "      <th>station_pressure</th>\n",
       "      <th>visibility</th>\n",
       "      <th>wind_speed</th>\n",
       "      <th>temperature</th>\n",
       "      <th>precipitation</th>\n",
       "      <th>snow_depth</th>\n",
       "      <th>fog</th>\n",
       "      <th>rain</th>\n",
       "      <th>hail</th>\n",
       "      <th>thunder</th>\n",
       "      <th>tornado</th>\n",
       "    </tr>\n",
       "  </thead>\n",
       "  <tbody>\n",
       "    <tr>\n",
       "      <th>0</th>\n",
       "      <td>143080</td>\n",
       "      <td>34DDA7</td>\n",
       "      <td>2002</td>\n",
       "      <td>12</td>\n",
       "      <td>21</td>\n",
       "      <td>33.8</td>\n",
       "      <td>987.4</td>\n",
       "      <td>3.4</td>\n",
       "      <td>0.2</td>\n",
       "      <td>36.0</td>\n",
       "      <td>0.00</td>\n",
       "      <td>NaN</td>\n",
       "      <td>1</td>\n",
       "      <td>1</td>\n",
       "      <td>1</td>\n",
       "      <td>1</td>\n",
       "      <td>1</td>\n",
       "    </tr>\n",
       "    <tr>\n",
       "      <th>5</th>\n",
       "      <td>821930</td>\n",
       "      <td>1F8A7B</td>\n",
       "      <td>1953</td>\n",
       "      <td>6</td>\n",
       "      <td>18</td>\n",
       "      <td>72.8</td>\n",
       "      <td>1007.1</td>\n",
       "      <td>12.4</td>\n",
       "      <td>3.6</td>\n",
       "      <td>81.3</td>\n",
       "      <td>0.00</td>\n",
       "      <td>NaN</td>\n",
       "      <td>0</td>\n",
       "      <td>0</td>\n",
       "      <td>0</td>\n",
       "      <td>0</td>\n",
       "      <td>0</td>\n",
       "    </tr>\n",
       "    <tr>\n",
       "      <th>6</th>\n",
       "      <td>478070</td>\n",
       "      <td>D028D8</td>\n",
       "      <td>1981</td>\n",
       "      <td>6</td>\n",
       "      <td>27</td>\n",
       "      <td>73.4</td>\n",
       "      <td>NaN</td>\n",
       "      <td>7.9</td>\n",
       "      <td>3.0</td>\n",
       "      <td>77.0</td>\n",
       "      <td>1.93</td>\n",
       "      <td>NaN</td>\n",
       "      <td>0</td>\n",
       "      <td>0</td>\n",
       "      <td>0</td>\n",
       "      <td>0</td>\n",
       "      <td>0</td>\n",
       "    </tr>\n",
       "  </tbody>\n",
       "</table>\n",
       "</div>"
      ],
      "text/plain": [
       "   station_number report_code  year  month  day  dew_point  station_pressure  \\\n",
       "0          143080      34DDA7  2002     12   21       33.8             987.4   \n",
       "5          821930      1F8A7B  1953      6   18       72.8            1007.1   \n",
       "6          478070      D028D8  1981      6   27       73.4               NaN   \n",
       "\n",
       "   visibility  wind_speed  temperature  precipitation  snow_depth  fog  rain  \\\n",
       "0         3.4         0.2         36.0           0.00         NaN    1     1   \n",
       "5        12.4         3.6         81.3           0.00         NaN    0     0   \n",
       "6         7.9         3.0         77.0           1.93         NaN    0     0   \n",
       "\n",
       "   hail  thunder  tornado  \n",
       "0     1        1        1  \n",
       "5     0        0        0  \n",
       "6     0        0        0  "
      ]
     },
     "execution_count": 111,
     "metadata": {},
     "output_type": "execute_result"
    }
   ],
   "source": [
    "df[ [ [data in [3,6,9,12]] for data in df['month'].values ] ].head(3)"
   ]
  },
  {
   "cell_type": "markdown",
   "metadata": {},
   "source": [
    "## 1.4 数据聚合与分组\n",
    "\n",
    "### 1.4.1 SQLite\n",
    "\n",
    "在 SQLite 中，我们使用 group by 和内置聚合函数实现聚合分组操作，如统计每个月龙卷风的记录次数："
   ]
  },
  {
   "cell_type": "code",
   "execution_count": 118,
   "metadata": {
    "ExecuteTime": {
     "end_time": "2020-02-22T12:56:39.088258Z",
     "start_time": "2020-02-22T12:56:39.067086Z"
    }
   },
   "outputs": [
    {
     "name": "stdout",
     "output_type": "stream",
     "text": [
      " * sqlite:///DataBase/weather_stations.db\n",
      "Done.\n"
     ]
    },
    {
     "data": {
      "text/html": [
       "<table>\n",
       "    <tr>\n",
       "        <th>year</th>\n",
       "        <th>month</th>\n",
       "        <th>record_count</th>\n",
       "    </tr>\n",
       "    <tr>\n",
       "        <td>1937</td>\n",
       "        <td>7</td>\n",
       "        <td>3</td>\n",
       "    </tr>\n",
       "    <tr>\n",
       "        <td>1941</td>\n",
       "        <td>8</td>\n",
       "        <td>3</td>\n",
       "    </tr>\n",
       "    <tr>\n",
       "        <td>1942</td>\n",
       "        <td>10</td>\n",
       "        <td>3</td>\n",
       "    </tr>\n",
       "    <tr>\n",
       "        <td>1943</td>\n",
       "        <td>1</td>\n",
       "        <td>3</td>\n",
       "    </tr>\n",
       "    <tr>\n",
       "        <td>1943</td>\n",
       "        <td>4</td>\n",
       "        <td>3</td>\n",
       "    </tr>\n",
       "</table>"
      ],
      "text/plain": [
       "[(1937, 7, 3), (1941, 8, 3), (1942, 10, 3), (1943, 1, 3), (1943, 4, 3)]"
      ]
     },
     "execution_count": 118,
     "metadata": {},
     "output_type": "execute_result"
    }
   ],
   "source": [
    "%%sql\n",
    "select year, month,\n",
    "count(*) as record_count\n",
    "from station_data\n",
    "where tornado == 1\n",
    "group by year, month\n",
    "order by year, month\n",
    "limit 0,5;"
   ]
  },
  {
   "cell_type": "markdown",
   "metadata": {},
   "source": [
    "### 1.4.2 Pandas\n",
    "\n",
    "同样在 Pandas 中，也有 groupby 函数实现分组操作："
   ]
  },
  {
   "cell_type": "code",
   "execution_count": 125,
   "metadata": {
    "ExecuteTime": {
     "end_time": "2020-02-22T13:04:52.571559Z",
     "start_time": "2020-02-22T13:04:52.546770Z"
    }
   },
   "outputs": [
    {
     "data": {
      "text/plain": [
       "year  month\n",
       "1937  7        3\n",
       "1941  8        3\n",
       "1942  10       3\n",
       "1943  1        3\n",
       "      4        3\n",
       "Name: tornado, dtype: int64"
      ]
     },
     "execution_count": 125,
     "metadata": {},
     "output_type": "execute_result"
    }
   ],
   "source": [
    "df[df['tornado']==1].groupby(['year','month'])['tornado'].count().head(5)"
   ]
  },
  {
   "cell_type": "markdown",
   "metadata": {},
   "source": [
    "# 2. 总结\n",
    "\n",
    "从数据导入、选取、筛选、聚合与分组可以看出， **SQLite** 具有结构化的特点，\n",
    "容易操作且易上手，代码一目了然。反观 **Pandas** ，则继承了 Pythonic 的特点。\n",
    "虽然部分功能需要自己写循环，但由于**列表推倒式**的存在，使得这代码依然可以保持短小精悍。\n",
    "总体而言，**SQLite** 的功能实现更加方便快捷，而 **Pandas** 则拥有更高的自由度，\n",
    "但需要对 Python 比较熟悉，两者各有千秋！"
   ]
  }
 ],
 "metadata": {
  "kernelspec": {
   "display_name": "Python 3",
   "language": "python",
   "name": "python3"
  },
  "language_info": {
   "codemirror_mode": {
    "name": "ipython",
    "version": 3
   },
   "file_extension": ".py",
   "mimetype": "text/x-python",
   "name": "python",
   "nbconvert_exporter": "python",
   "pygments_lexer": "ipython3",
   "version": "3.7.3"
  },
  "toc": {
   "base_numbering": 1,
   "nav_menu": {},
   "number_sections": false,
   "sideBar": true,
   "skip_h1_title": false,
   "title_cell": "Table of Contents",
   "title_sidebar": "Contents",
   "toc_cell": false,
   "toc_position": {
    "height": "calc(100% - 180px)",
    "left": "10px",
    "top": "150px",
    "width": "222.60870361328125px"
   },
   "toc_section_display": true,
   "toc_window_display": true
  },
  "varInspector": {
   "cols": {
    "lenName": 16,
    "lenType": 16,
    "lenVar": 40
   },
   "kernels_config": {
    "python": {
     "delete_cmd_postfix": "",
     "delete_cmd_prefix": "del ",
     "library": "var_list.py",
     "varRefreshCmd": "print(var_dic_list())"
    },
    "r": {
     "delete_cmd_postfix": ") ",
     "delete_cmd_prefix": "rm(",
     "library": "var_list.r",
     "varRefreshCmd": "cat(var_dic_list()) "
    }
   },
   "types_to_exclude": [
    "module",
    "function",
    "builtin_function_or_method",
    "instance",
    "_Feature"
   ],
   "window_display": false
  }
 },
 "nbformat": 4,
 "nbformat_minor": 4
}
