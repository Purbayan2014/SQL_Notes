{
 "cells": [
  {
   "cell_type": "markdown",
   "metadata": {},
   "source": [
    "# 1. Group by and Order by\n",
    "\n",
    "我们在上一篇中介绍了 [Where 子句](https://blog.csdn.net/weixin_45488228/article/details/104377915)，接下来我们将使用 Group by 和 Order by 子句，对数据进行聚合和排序。\n",
    "\n",
    "- 使用Jupyter Notebook 运行 SQL 语句需安装 ipython-sql\n",
    "\n",
    "- %sql 以及 %%sql 为在 Notebook 中运行 SQL 语句，在 SQLite 命令行或 SQLite Stiduo 中不需要 %sql 或 %%sql\n",
    "\n",
    "载入 SQL 以及连接 SQLite："
   ]
  },
  {
   "cell_type": "code",
   "execution_count": 1,
   "metadata": {
    "ExecuteTime": {
     "end_time": "2020-02-21T07:49:28.011251Z",
     "start_time": "2020-02-21T07:49:27.361519Z"
    }
   },
   "outputs": [
    {
     "data": {
      "text/plain": [
       "'Connected: @DataBase/weather_stations.db'"
      ]
     },
     "execution_count": 1,
     "metadata": {},
     "output_type": "execute_result"
    }
   ],
   "source": [
    "%load_ext sql\n",
    "%sql sqlite:///DataBase/weather_stations.db"
   ]
  },
  {
   "cell_type": "markdown",
   "metadata": {},
   "source": [
    "本文将使用 [weather_stations.db](https://github.com/X1AOX1A/SQL_Notes/blob/master/SQLite/DataBase/weather_stations.db) 数据库，其中包含了 STATION_DATA 表。\n",
    "\n",
    "首先查看 STATION_DATA 表中的数据："
   ]
  },
  {
   "cell_type": "code",
   "execution_count": 3,
   "metadata": {
    "ExecuteTime": {
     "end_time": "2020-02-20T08:01:28.381699Z",
     "start_time": "2020-02-20T08:01:28.173175Z"
    }
   },
   "outputs": [
    {
     "name": "stdout",
     "output_type": "stream",
     "text": [
      " * sqlite:///DataBase/weather_stations.db\n",
      "Done.\n"
     ]
    },
    {
     "data": {
      "text/html": [
       "<table>\n",
       "    <tr>\n",
       "        <th>station_number</th>\n",
       "        <th>report_code</th>\n",
       "        <th>year</th>\n",
       "        <th>month</th>\n",
       "        <th>day</th>\n",
       "        <th>dew_point</th>\n",
       "        <th>station_pressure</th>\n",
       "        <th>visibility</th>\n",
       "        <th>wind_speed</th>\n",
       "        <th>temperature</th>\n",
       "        <th>precipitation</th>\n",
       "        <th>snow_depth</th>\n",
       "        <th>fog</th>\n",
       "        <th>rain</th>\n",
       "        <th>hail</th>\n",
       "        <th>thunder</th>\n",
       "        <th>tornado</th>\n",
       "    </tr>\n",
       "    <tr>\n",
       "        <td>143080</td>\n",
       "        <td>34DDA7</td>\n",
       "        <td>2002</td>\n",
       "        <td>12</td>\n",
       "        <td>21</td>\n",
       "        <td>33.8</td>\n",
       "        <td>987.4</td>\n",
       "        <td>3.4</td>\n",
       "        <td>0.2</td>\n",
       "        <td>36</td>\n",
       "        <td>0</td>\n",
       "        <td>None</td>\n",
       "        <td>1</td>\n",
       "        <td>1</td>\n",
       "        <td>1</td>\n",
       "        <td>1</td>\n",
       "        <td>1</td>\n",
       "    </tr>\n",
       "    <tr>\n",
       "        <td>766440</td>\n",
       "        <td>39537B</td>\n",
       "        <td>1998</td>\n",
       "        <td>10</td>\n",
       "        <td>1</td>\n",
       "        <td>72.7</td>\n",
       "        <td>1014.6</td>\n",
       "        <td>5.9</td>\n",
       "        <td>6.7</td>\n",
       "        <td>83.3</td>\n",
       "        <td>0</td>\n",
       "        <td>None</td>\n",
       "        <td>0</td>\n",
       "        <td>0</td>\n",
       "        <td>0</td>\n",
       "        <td>0</td>\n",
       "        <td>0</td>\n",
       "    </tr>\n",
       "    <tr>\n",
       "        <td>176010</td>\n",
       "        <td>C3C6D5</td>\n",
       "        <td>2001</td>\n",
       "        <td>5</td>\n",
       "        <td>18</td>\n",
       "        <td>55.7</td>\n",
       "        <td>None</td>\n",
       "        <td>7.3</td>\n",
       "        <td>4.3</td>\n",
       "        <td>69.1</td>\n",
       "        <td>0</td>\n",
       "        <td>None</td>\n",
       "        <td>0</td>\n",
       "        <td>0</td>\n",
       "        <td>0</td>\n",
       "        <td>0</td>\n",
       "        <td>0</td>\n",
       "    </tr>\n",
       "    <tr>\n",
       "        <td>125600</td>\n",
       "        <td>145150</td>\n",
       "        <td>2007</td>\n",
       "        <td>10</td>\n",
       "        <td>14</td>\n",
       "        <td>33</td>\n",
       "        <td>None</td>\n",
       "        <td>6.9</td>\n",
       "        <td>2.5</td>\n",
       "        <td>39.7</td>\n",
       "        <td>0</td>\n",
       "        <td>None</td>\n",
       "        <td>0</td>\n",
       "        <td>0</td>\n",
       "        <td>0</td>\n",
       "        <td>0</td>\n",
       "        <td>0</td>\n",
       "    </tr>\n",
       "    <tr>\n",
       "        <td>470160</td>\n",
       "        <td>EF616A</td>\n",
       "        <td>1967</td>\n",
       "        <td>7</td>\n",
       "        <td>29</td>\n",
       "        <td>65.6</td>\n",
       "        <td>None</td>\n",
       "        <td>9.2</td>\n",
       "        <td>1.2</td>\n",
       "        <td>72.4</td>\n",
       "        <td>0.04</td>\n",
       "        <td>None</td>\n",
       "        <td>0</td>\n",
       "        <td>0</td>\n",
       "        <td>0</td>\n",
       "        <td>0</td>\n",
       "        <td>0</td>\n",
       "    </tr>\n",
       "</table>"
      ],
      "text/plain": [
       "[(143080, '34DDA7', 2002, 12, 21, 33.8, 987.4, 3.4, 0.2, 36, 0, None, 1, 1, 1, 1, 1),\n",
       " (766440, '39537B', 1998, 10, 1, 72.7, 1014.6, 5.9, 6.7, 83.3, 0, None, 0, 0, 0, 0, 0),\n",
       " (176010, 'C3C6D5', 2001, 5, 18, 55.7, None, 7.3, 4.3, 69.1, 0, None, 0, 0, 0, 0, 0),\n",
       " (125600, '145150', 2007, 10, 14, 33, None, 6.9, 2.5, 39.7, 0, None, 0, 0, 0, 0, 0),\n",
       " (470160, 'EF616A', 1967, 7, 29, 65.6, None, 9.2, 1.2, 72.4, 0.04, None, 0, 0, 0, 0, 0)]"
      ]
     },
     "execution_count": 3,
     "metadata": {},
     "output_type": "execute_result"
    }
   ],
   "source": [
    "%sql select * from station_data limit 0,5; -- 筛选前五行"
   ]
  },
  {
   "cell_type": "markdown",
   "metadata": {},
   "source": [
    "## 1.1 Group Records\n",
    "\n",
    "首先从最简单的聚合方法开始：计数："
   ]
  },
  {
   "cell_type": "code",
   "execution_count": 4,
   "metadata": {
    "ExecuteTime": {
     "end_time": "2020-02-20T08:04:49.279216Z",
     "start_time": "2020-02-20T08:04:49.150210Z"
    }
   },
   "outputs": [
    {
     "name": "stdout",
     "output_type": "stream",
     "text": [
      " * sqlite:///DataBase/weather_stations.db\n",
      "Done.\n"
     ]
    },
    {
     "data": {
      "text/html": [
       "<table>\n",
       "    <tr>\n",
       "        <th>record_cound</th>\n",
       "    </tr>\n",
       "    <tr>\n",
       "        <td>28000</td>\n",
       "    </tr>\n",
       "</table>"
      ],
      "text/plain": [
       "[(28000,)]"
      ]
     },
     "execution_count": 4,
     "metadata": {},
     "output_type": "execute_result"
    }
   ],
   "source": [
    "%%sql\n",
    "select count(*) as record_cound from station_data;"
   ]
  },
  {
   "cell_type": "markdown",
   "metadata": {},
   "source": [
    "**count(*)** 意味着计算记录的长度，你也可以和其他 SQL 操作符结合起来使用，比如 **where**，我们可以这样计算 tornado 出现的次数："
   ]
  },
  {
   "cell_type": "code",
   "execution_count": 6,
   "metadata": {
    "ExecuteTime": {
     "end_time": "2020-02-20T08:08:10.977608Z",
     "start_time": "2020-02-20T08:08:10.815142Z"
    }
   },
   "outputs": [
    {
     "name": "stdout",
     "output_type": "stream",
     "text": [
      " * sqlite:///DataBase/weather_stations.db\n",
      "Done.\n"
     ]
    },
    {
     "data": {
      "text/html": [
       "<table>\n",
       "    <tr>\n",
       "        <th>record_count</th>\n",
       "    </tr>\n",
       "    <tr>\n",
       "        <td>3000</td>\n",
       "    </tr>\n",
       "</table>"
      ],
      "text/plain": [
       "[(3000,)]"
      ]
     },
     "execution_count": 6,
     "metadata": {},
     "output_type": "execute_result"
    }
   ],
   "source": [
    "%%sql\n",
    "select count(*) as record_count from station_data\n",
    "where tornado == 1;"
   ]
  },
  {
   "cell_type": "markdown",
   "metadata": {},
   "source": [
    "我们找到了 3000 条包含 tornado 的记录，但如果我们想要按年计数呢？我们可以这样写："
   ]
  },
  {
   "cell_type": "code",
   "execution_count": 11,
   "metadata": {
    "ExecuteTime": {
     "end_time": "2020-02-20T08:16:11.778602Z",
     "start_time": "2020-02-20T08:16:11.726287Z"
    }
   },
   "outputs": [
    {
     "name": "stdout",
     "output_type": "stream",
     "text": [
      " * sqlite:///DataBase/weather_stations.db\n",
      "Done.\n"
     ]
    },
    {
     "data": {
      "text/html": [
       "<table>\n",
       "    <tr>\n",
       "        <th>year</th>\n",
       "        <th>record_count</th>\n",
       "    </tr>\n",
       "    <tr>\n",
       "        <td>1937</td>\n",
       "        <td>3</td>\n",
       "    </tr>\n",
       "    <tr>\n",
       "        <td>1941</td>\n",
       "        <td>3</td>\n",
       "    </tr>\n",
       "    <tr>\n",
       "        <td>1942</td>\n",
       "        <td>3</td>\n",
       "    </tr>\n",
       "</table>"
      ],
      "text/plain": [
       "[(1937, 3), (1941, 3), (1942, 3)]"
      ]
     },
     "execution_count": 11,
     "metadata": {},
     "output_type": "execute_result"
    }
   ],
   "source": [
    "%%sql\n",
    "select year, \n",
    "count(*) as record_count \n",
    "from station_data\n",
    "where tornado == 1\n",
    "group by year\n",
    "limit 0,3; -- 只展示前三条"
   ]
  },
  {
   "cell_type": "markdown",
   "metadata": {},
   "source": [
    "我们现在可以看到每年的计数，让我们拆分下这个查询来看看怎么执行的：\n",
    "\n",
    "```  SQL\n",
    "select year,              -- 1. 首先，我们选择了 year（select year）\n",
    "count(*) as record_count  -- 2. 然后我们用 **count(\\*)** 对筛选的记录进行了计数\n",
    "from station_data\n",
    "where tornado == 1        -- 3. 我们筛选了 tornado 为 true 的数据\n",
    "group by year             -- 4. 最后，按年进行分类\n",
    "```\n",
    "\n",
    "我们也可以在多个 field 上进行聚合："
   ]
  },
  {
   "cell_type": "code",
   "execution_count": 15,
   "metadata": {
    "ExecuteTime": {
     "end_time": "2020-02-20T15:32:31.448196Z",
     "start_time": "2020-02-20T15:32:31.428866Z"
    }
   },
   "outputs": [
    {
     "name": "stdout",
     "output_type": "stream",
     "text": [
      " * sqlite:///DataBase/weather_stations.db\n",
      "Done.\n"
     ]
    },
    {
     "data": {
      "text/html": [
       "<table>\n",
       "    <tr>\n",
       "        <th>year</th>\n",
       "        <th>month</th>\n",
       "        <th>record_count</th>\n",
       "    </tr>\n",
       "    <tr>\n",
       "        <td>1937</td>\n",
       "        <td>7</td>\n",
       "        <td>3</td>\n",
       "    </tr>\n",
       "    <tr>\n",
       "        <td>1941</td>\n",
       "        <td>8</td>\n",
       "        <td>3</td>\n",
       "    </tr>\n",
       "    <tr>\n",
       "        <td>1942</td>\n",
       "        <td>10</td>\n",
       "        <td>3</td>\n",
       "    </tr>\n",
       "</table>"
      ],
      "text/plain": [
       "[(1937, 7, 3), (1941, 8, 3), (1942, 10, 3)]"
      ]
     },
     "execution_count": 15,
     "metadata": {},
     "output_type": "execute_result"
    }
   ],
   "source": [
    "%%sql\n",
    "select year, month,\n",
    "count(*) as record_count\n",
    "from station_data\n",
    "where tornado == 1\n",
    "group by year, month\n",
    "limit 0,3;"
   ]
  },
  {
   "cell_type": "markdown",
   "metadata": {},
   "source": [
    "此外，在使用 ***group by* 时，我们可以也用 **序数位置**（ordinal positions）："
   ]
  },
  {
   "cell_type": "code",
   "execution_count": 16,
   "metadata": {
    "ExecuteTime": {
     "end_time": "2020-02-20T15:35:32.600240Z",
     "start_time": "2020-02-20T15:35:32.579740Z"
    }
   },
   "outputs": [
    {
     "name": "stdout",
     "output_type": "stream",
     "text": [
      " * sqlite:///DataBase/weather_stations.db\n",
      "Done.\n"
     ]
    },
    {
     "data": {
      "text/html": [
       "<table>\n",
       "    <tr>\n",
       "        <th>year</th>\n",
       "        <th>month</th>\n",
       "        <th>record_count</th>\n",
       "    </tr>\n",
       "    <tr>\n",
       "        <td>1937</td>\n",
       "        <td>7</td>\n",
       "        <td>3</td>\n",
       "    </tr>\n",
       "    <tr>\n",
       "        <td>1941</td>\n",
       "        <td>8</td>\n",
       "        <td>3</td>\n",
       "    </tr>\n",
       "    <tr>\n",
       "        <td>1942</td>\n",
       "        <td>10</td>\n",
       "        <td>3</td>\n",
       "    </tr>\n",
       "    <tr>\n",
       "        <td>1943</td>\n",
       "        <td>1</td>\n",
       "        <td>3</td>\n",
       "    </tr>\n",
       "    <tr>\n",
       "        <td>1943</td>\n",
       "        <td>4</td>\n",
       "        <td>3</td>\n",
       "    </tr>\n",
       "</table>"
      ],
      "text/plain": [
       "[(1937, 7, 3), (1941, 8, 3), (1942, 10, 3), (1943, 1, 3), (1943, 4, 3)]"
      ]
     },
     "execution_count": 16,
     "metadata": {},
     "output_type": "execute_result"
    }
   ],
   "source": [
    "%%sql\n",
    "select year, month,\n",
    "count(*) as record_count\n",
    "from station_data\n",
    "where tornado == 1\n",
    "group by 1, 2 -- ordinal positions\n",
    "limit 0,5;"
   ]
  },
  {
   "cell_type": "markdown",
   "metadata": {},
   "source": [
    "> 不是所有的平台都支持 ordinal positions，例如 Oracle 和 SQL Server，就只能写全称"
   ]
  },
  {
   "cell_type": "markdown",
   "metadata": {},
   "source": [
    "## 1.2 Ordering Records\n",
    "\n",
    "需要注意到，我们通过 group 得到的数据中 month 并不是按自然月份排序的，所以字哦好就是同时使用 **oreder by** 操作符来进行排序，如果你想要先按年份排序，再按月份排序，你只需要添加："
   ]
  },
  {
   "cell_type": "code",
   "execution_count": 18,
   "metadata": {
    "ExecuteTime": {
     "end_time": "2020-02-20T15:38:31.352685Z",
     "start_time": "2020-02-20T15:38:31.332467Z"
    }
   },
   "outputs": [
    {
     "name": "stdout",
     "output_type": "stream",
     "text": [
      " * sqlite:///DataBase/weather_stations.db\n",
      "Done.\n"
     ]
    },
    {
     "data": {
      "text/html": [
       "<table>\n",
       "    <tr>\n",
       "        <th>year</th>\n",
       "        <th>month</th>\n",
       "        <th>record_count</th>\n",
       "    </tr>\n",
       "    <tr>\n",
       "        <td>1937</td>\n",
       "        <td>7</td>\n",
       "        <td>3</td>\n",
       "    </tr>\n",
       "    <tr>\n",
       "        <td>1941</td>\n",
       "        <td>8</td>\n",
       "        <td>3</td>\n",
       "    </tr>\n",
       "    <tr>\n",
       "        <td>1942</td>\n",
       "        <td>10</td>\n",
       "        <td>3</td>\n",
       "    </tr>\n",
       "    <tr>\n",
       "        <td>1943</td>\n",
       "        <td>1</td>\n",
       "        <td>3</td>\n",
       "    </tr>\n",
       "    <tr>\n",
       "        <td>1943</td>\n",
       "        <td>4</td>\n",
       "        <td>3</td>\n",
       "    </tr>\n",
       "</table>"
      ],
      "text/plain": [
       "[(1937, 7, 3), (1941, 8, 3), (1942, 10, 3), (1943, 1, 3), (1943, 4, 3)]"
      ]
     },
     "execution_count": 18,
     "metadata": {},
     "output_type": "execute_result"
    }
   ],
   "source": [
    "%%sql\n",
    "select year, month,\n",
    "count(*) as record_count\n",
    "from station_data\n",
    "where tornado == 1\n",
    "group by 1, 2 -- ordinal positions\n",
    "order by 1, 2 -- order by 同样支持 ordinal positions\n",
    "limit 0,5;"
   ]
  },
  {
   "cell_type": "markdown",
   "metadata": {},
   "source": [
    "order by 默认是按升序（ASC）排列的，然而你可能更对近期的数据感兴趣，你可以通过添加 **DESC** 来指定排序方式："
   ]
  },
  {
   "cell_type": "code",
   "execution_count": 19,
   "metadata": {
    "ExecuteTime": {
     "end_time": "2020-02-20T15:40:52.134646Z",
     "start_time": "2020-02-20T15:40:52.114200Z"
    }
   },
   "outputs": [
    {
     "name": "stdout",
     "output_type": "stream",
     "text": [
      " * sqlite:///DataBase/weather_stations.db\n",
      "Done.\n"
     ]
    },
    {
     "data": {
      "text/html": [
       "<table>\n",
       "    <tr>\n",
       "        <th>year</th>\n",
       "        <th>month</th>\n",
       "        <th>record_count</th>\n",
       "    </tr>\n",
       "    <tr>\n",
       "        <td>2010</td>\n",
       "        <td>3</td>\n",
       "        <td>6</td>\n",
       "    </tr>\n",
       "    <tr>\n",
       "        <td>2009</td>\n",
       "        <td>1</td>\n",
       "        <td>3</td>\n",
       "    </tr>\n",
       "    <tr>\n",
       "        <td>2009</td>\n",
       "        <td>2</td>\n",
       "        <td>3</td>\n",
       "    </tr>\n",
       "    <tr>\n",
       "        <td>2009</td>\n",
       "        <td>4</td>\n",
       "        <td>2</td>\n",
       "    </tr>\n",
       "    <tr>\n",
       "        <td>2009</td>\n",
       "        <td>5</td>\n",
       "        <td>6</td>\n",
       "    </tr>\n",
       "</table>"
      ],
      "text/plain": [
       "[(2010, 3, 6), (2009, 1, 3), (2009, 2, 3), (2009, 4, 2), (2009, 5, 6)]"
      ]
     },
     "execution_count": 19,
     "metadata": {},
     "output_type": "execute_result"
    }
   ],
   "source": [
    "%%sql\n",
    "select year, month,\n",
    "count(*) as record_count\n",
    "from station_data\n",
    "where tornado == 1\n",
    "group by year, month\n",
    "order by year DESC, month\n",
    "limit 0,5;"
   ]
  },
  {
   "cell_type": "markdown",
   "metadata": {},
   "source": [
    "## 1.3 Aggregate Functions\n",
    "\n",
    "我们已经使用 **count(\\*)** 来对记录进行计数了，但人有其他的一些**聚合函数**（AggregateyFunctions），\n",
    "如 **sum()**、**min()**、**max()** 和 **avg()**。我们可以在特定的列上使用聚合函数来进行计算。\n",
    "\n",
    "<img style=\"float:center\" src=\"https://x1a-alioss.oss-cn-shenzhen.aliyuncs.com/Screen Shot 2020-02-20 at 23.54.51.png\" width=\"520\" >\n",
    "\n",
    "<center> 图1 SQLite 内置聚合函数 </center>\n",
    "\n",
    "但首先让我们来看看  **count()** 的另一种使用方式， **count()** 可以用于除了计数以外的其他用途。如果你不使用 \\* ，\n",
    "而是指定某一列，那么它将会计算所有非缺失值（non-null）的个数。举个例子，我们可以计算 snow_depth 中非缺失值的个数："
   ]
  },
  {
   "cell_type": "code",
   "execution_count": 2,
   "metadata": {
    "ExecuteTime": {
     "end_time": "2020-02-21T07:49:38.731183Z",
     "start_time": "2020-02-21T07:49:38.649989Z"
    }
   },
   "outputs": [
    {
     "name": "stdout",
     "output_type": "stream",
     "text": [
      " * sqlite:///DataBase/weather_stations.db\n",
      "Done.\n"
     ]
    },
    {
     "data": {
      "text/html": [
       "<table>\n",
       "    <tr>\n",
       "        <th>recorded_snow_depth_count</th>\n",
       "    </tr>\n",
       "    <tr>\n",
       "        <td>1552</td>\n",
       "    </tr>\n",
       "</table>"
      ],
      "text/plain": [
       "[(1552,)]"
      ]
     },
     "execution_count": 2,
     "metadata": {},
     "output_type": "execute_result"
    }
   ],
   "source": [
    "%%sql\n",
    "select count(snow_depth) as recorded_snow_depth_count\n",
    "from station_data"
   ]
  },
  {
   "cell_type": "markdown",
   "metadata": {},
   "source": [
    "让我们进一步看看聚合函数，如果你想要看看你从 2000 年开始每个月的平均温度，你可以先筛选 2000 年的记录，\n",
    "然后按月份聚合，最后计算平均温度："
   ]
  },
  {
   "cell_type": "code",
   "execution_count": 5,
   "metadata": {
    "ExecuteTime": {
     "end_time": "2020-02-21T08:42:20.564177Z",
     "start_time": "2020-02-21T08:42:20.536342Z"
    },
    "scrolled": true
   },
   "outputs": [
    {
     "name": "stdout",
     "output_type": "stream",
     "text": [
      " * sqlite:///DataBase/weather_stations.db\n",
      "Done.\n"
     ]
    },
    {
     "data": {
      "text/html": [
       "<table>\n",
       "    <tr>\n",
       "        <th>month</th>\n",
       "        <th>avg_temp</th>\n",
       "    </tr>\n",
       "    <tr>\n",
       "        <td>1</td>\n",
       "        <td>41.55585443037976</td>\n",
       "    </tr>\n",
       "    <tr>\n",
       "        <td>2</td>\n",
       "        <td>38.98063127690104</td>\n",
       "    </tr>\n",
       "    <tr>\n",
       "        <td>3</td>\n",
       "        <td>48.975062656641576</td>\n",
       "    </tr>\n",
       "</table>"
      ],
      "text/plain": [
       "[(1, 41.55585443037976), (2, 38.98063127690104), (3, 48.975062656641576)]"
      ]
     },
     "execution_count": 5,
     "metadata": {},
     "output_type": "execute_result"
    }
   ],
   "source": [
    "%%sql\n",
    "select month, avg(temperature) as avg_temp\n",
    "from station_data\n",
    "where year >= 2000\n",
    "group by month\n",
    "limit 0,3;"
   ]
  },
  {
   "cell_type": "markdown",
   "metadata": {},
   "source": [
    "**sum()** 是另一个常见的聚合操作符，为了得到 2000 年至今每年的下雪深度，你可以这样查询："
   ]
  },
  {
   "cell_type": "code",
   "execution_count": 7,
   "metadata": {
    "ExecuteTime": {
     "end_time": "2020-02-21T14:08:08.116661Z",
     "start_time": "2020-02-21T14:08:08.090332Z"
    }
   },
   "outputs": [
    {
     "name": "stdout",
     "output_type": "stream",
     "text": [
      " * sqlite:///DataBase/weather_stations.db\n",
      "Done.\n"
     ]
    },
    {
     "data": {
      "text/html": [
       "<table>\n",
       "    <tr>\n",
       "        <th>year</th>\n",
       "        <th>total_snow</th>\n",
       "    </tr>\n",
       "    <tr>\n",
       "        <td>2000</td>\n",
       "        <td>685.8999999999999</td>\n",
       "    </tr>\n",
       "    <tr>\n",
       "        <td>2001</td>\n",
       "        <td>391.90000000000003</td>\n",
       "    </tr>\n",
       "    <tr>\n",
       "        <td>2002</td>\n",
       "        <td>437.69999999999993</td>\n",
       "    </tr>\n",
       "</table>"
      ],
      "text/plain": [
       "[(2000, 685.8999999999999),\n",
       " (2001, 391.90000000000003),\n",
       " (2002, 437.69999999999993)]"
      ]
     },
     "execution_count": 7,
     "metadata": {},
     "output_type": "execute_result"
    }
   ],
   "source": [
    "%%sql\n",
    "select year, sum(snow_depth) as total_snow\n",
    "from station_data\n",
    "where year >= 2000\n",
    "group by year\n",
    "limit 0,3;"
   ]
  },
  {
   "cell_type": "markdown",
   "metadata": {},
   "source": [
    "你可以在一次查询中多次使用聚合操作，我们将 2000 年以来的下雪总量、下雨总量和最大降雨量分别统计出来，并保留两位小数："
   ]
  },
  {
   "cell_type": "code",
   "execution_count": 11,
   "metadata": {
    "ExecuteTime": {
     "end_time": "2020-02-21T14:13:13.326069Z",
     "start_time": "2020-02-21T14:13:13.304745Z"
    }
   },
   "outputs": [
    {
     "name": "stdout",
     "output_type": "stream",
     "text": [
      " * sqlite:///DataBase/weather_stations.db\n",
      "Done.\n"
     ]
    },
    {
     "data": {
      "text/html": [
       "<table>\n",
       "    <tr>\n",
       "        <th>year</th>\n",
       "        <th>total_snow</th>\n",
       "        <th>total_precipitation</th>\n",
       "        <th>max_precipitation</th>\n",
       "    </tr>\n",
       "    <tr>\n",
       "        <td>2000</td>\n",
       "        <td>685.9</td>\n",
       "        <td>27.57</td>\n",
       "        <td>0.87</td>\n",
       "    </tr>\n",
       "    <tr>\n",
       "        <td>2001</td>\n",
       "        <td>391.9</td>\n",
       "        <td>38.15</td>\n",
       "        <td>2.95</td>\n",
       "    </tr>\n",
       "    <tr>\n",
       "        <td>2002</td>\n",
       "        <td>437.7</td>\n",
       "        <td>43.06</td>\n",
       "        <td>5.0</td>\n",
       "    </tr>\n",
       "</table>"
      ],
      "text/plain": [
       "[(2000, 685.9, 27.57, 0.87),\n",
       " (2001, 391.9, 38.15, 2.95),\n",
       " (2002, 437.7, 43.06, 5.0)]"
      ]
     },
     "execution_count": 11,
     "metadata": {},
     "output_type": "execute_result"
    }
   ],
   "source": [
    "%%sql\n",
    "select year,\n",
    "round(sum(snow_depth), 2) as total_snow,\n",
    "round(sum(precipitation), 2) as total_precipitation,\n",
    "round(max(precipitation), 2) as max_precipitation\n",
    "from station_data\n",
    "where year >= 2000\n",
    "group by year\n",
    "limit 0,3;"
   ]
  },
  {
   "cell_type": "markdown",
   "metadata": {},
   "source": [
    "## 1.4 The Having  Statement"
   ]
  },
  {
   "cell_type": "markdown",
   "metadata": {},
   "source": [
    "假设你想要基于一个聚合值来筛选记录，你的第一反应应该是使用 **where** 子句。确实， **where** 子句可以\n",
    "用来筛选记录，但是却无法用于聚合值上。举个例子，如果你想使用 **where** 子句筛选出总下雨量大于 30 的记录，\n",
    "就会出现以下错误："
   ]
  },
  {
   "cell_type": "code",
   "execution_count": 12,
   "metadata": {
    "ExecuteTime": {
     "end_time": "2020-02-21T14:20:26.714673Z",
     "start_time": "2020-02-21T14:20:26.705450Z"
    }
   },
   "outputs": [
    {
     "name": "stdout",
     "output_type": "stream",
     "text": [
      " * sqlite:///DataBase/weather_stations.db\n",
      "(sqlite3.OperationalError) misuse of aggregate: sum()\n",
      "[SQL: select year, sum(precipitation) as total_precipitation\n",
      "from station_data\n",
      "where total_precipitation > 30\n",
      "group by year\n",
      "limit 0,3;]\n",
      "(Background on this error at: http://sqlalche.me/e/e3q8)\n"
     ]
    }
   ],
   "source": [
    "%%sql\n",
    "select year, sum(precipitation) as total_precipitation\n",
    "from station_data\n",
    "where total_precipitation > 30\n",
    "group by year\n",
    "limit 0,3;"
   ]
  },
  {
   "cell_type": "markdown",
   "metadata": {},
   "source": [
    "为什么不起作用呢？首先我们来看下聚合的原理，首先程序一行一行的扫描，找出那些在 **where 子句**\n",
    "上成立的数据，然后再进行聚合。然而在聚合前并没有 **total_precipitation** 这一列数据，因此出错。\n",
    "\n",
    "当你想在聚合值上执行 **where** 这个方法时，只能使用 **having** 这个关键词："
   ]
  },
  {
   "cell_type": "code",
   "execution_count": 15,
   "metadata": {
    "ExecuteTime": {
     "end_time": "2020-02-21T14:32:47.348749Z",
     "start_time": "2020-02-21T14:32:47.320823Z"
    }
   },
   "outputs": [
    {
     "name": "stdout",
     "output_type": "stream",
     "text": [
      " * sqlite:///DataBase/weather_stations.db\n",
      "Done.\n"
     ]
    },
    {
     "data": {
      "text/html": [
       "<table>\n",
       "    <tr>\n",
       "        <th>year</th>\n",
       "        <th>total_precipitation</th>\n",
       "    </tr>\n",
       "    <tr>\n",
       "        <td>1973</td>\n",
       "        <td>35.07999999999996</td>\n",
       "    </tr>\n",
       "    <tr>\n",
       "        <td>1974</td>\n",
       "        <td>42.209999999999994</td>\n",
       "    </tr>\n",
       "    <tr>\n",
       "        <td>1975</td>\n",
       "        <td>48.25999999999997</td>\n",
       "    </tr>\n",
       "</table>"
      ],
      "text/plain": [
       "[(1973, 35.07999999999996),\n",
       " (1974, 42.209999999999994),\n",
       " (1975, 48.25999999999997)]"
      ]
     },
     "execution_count": 15,
     "metadata": {},
     "output_type": "execute_result"
    }
   ],
   "source": [
    "%%sql\n",
    "select year,\n",
    "sum(precipitation) as total_precipitation\n",
    "from station_data\n",
    "group by year\n",
    "having total_precipitation > 30\n",
    "limit 0,3"
   ]
  },
  {
   "cell_type": "markdown",
   "metadata": {},
   "source": [
    "**having** 相当于聚合版的 **where**，但并不是所有平台都支持在 aliases 上使用 **having** ，\n",
    "如 Oracle（group by 也不行），这意味着当你使用 having 时需要再输入一次聚合函数，像这样："
   ]
  },
  {
   "cell_type": "code",
   "execution_count": 16,
   "metadata": {
    "ExecuteTime": {
     "end_time": "2020-02-21T14:37:27.608135Z",
     "start_time": "2020-02-21T14:37:27.563753Z"
    }
   },
   "outputs": [
    {
     "name": "stdout",
     "output_type": "stream",
     "text": [
      " * sqlite:///DataBase/weather_stations.db\n",
      "Done.\n"
     ]
    },
    {
     "data": {
      "text/html": [
       "<table>\n",
       "    <tr>\n",
       "        <th>year</th>\n",
       "        <th>total_preicipitation</th>\n",
       "    </tr>\n",
       "    <tr>\n",
       "        <td>1973</td>\n",
       "        <td>35.07999999999996</td>\n",
       "    </tr>\n",
       "    <tr>\n",
       "        <td>1974</td>\n",
       "        <td>42.209999999999994</td>\n",
       "    </tr>\n",
       "    <tr>\n",
       "        <td>1975</td>\n",
       "        <td>48.25999999999997</td>\n",
       "    </tr>\n",
       "</table>"
      ],
      "text/plain": [
       "[(1973, 35.07999999999996),\n",
       " (1974, 42.209999999999994),\n",
       " (1975, 48.25999999999997)]"
      ]
     },
     "execution_count": 16,
     "metadata": {},
     "output_type": "execute_result"
    }
   ],
   "source": [
    "%%sql\n",
    "select year,\n",
    "sum(precipitation) as total_preicipitation\n",
    "from station_data\n",
    "group by year\n",
    "having sum(precipitation) > 30\n",
    "limit 0,3"
   ]
  },
  {
   "cell_type": "markdown",
   "metadata": {},
   "source": [
    "## 1.5 Getting Distinct Records"
   ]
  },
  {
   "cell_type": "code",
   "execution_count": null,
   "metadata": {},
   "outputs": [],
   "source": [
    "当我们使用 **select from** 时，记录中可能会包含重复值，如果你只想要返回**唯一值（distinct records）**，\n",
    "你可以使用 **select distinct from**，比如我们的 station_data，表中 station_number 一列包含\n",
    "了 28000 个值，但你通过 **select distinct from** 后会发现其中是 6368 个值不断重复出现组成的"
   ]
  },
  {
   "cell_type": "code",
   "execution_count": 33,
   "metadata": {
    "ExecuteTime": {
     "end_time": "2020-02-21T14:50:31.104420Z",
     "start_time": "2020-02-21T14:50:31.084494Z"
    }
   },
   "outputs": [
    {
     "name": "stdout",
     "output_type": "stream",
     "text": [
      " * sqlite:///DataBase/weather_stations.db\n",
      "Done.\n"
     ]
    },
    {
     "data": {
      "text/html": [
       "<table>\n",
       "    <tr>\n",
       "        <th>duplicate_num</th>\n",
       "    </tr>\n",
       "    <tr>\n",
       "        <td>28000</td>\n",
       "    </tr>\n",
       "</table>"
      ],
      "text/plain": [
       "[(28000,)]"
      ]
     },
     "execution_count": 33,
     "metadata": {},
     "output_type": "execute_result"
    }
   ],
   "source": [
    "%%sql\n",
    "select count(station_number) as duplicate_num\n",
    "from station_data;"
   ]
  },
  {
   "cell_type": "code",
   "execution_count": 32,
   "metadata": {
    "ExecuteTime": {
     "end_time": "2020-02-21T14:50:27.917871Z",
     "start_time": "2020-02-21T14:50:27.825288Z"
    }
   },
   "outputs": [
    {
     "name": "stdout",
     "output_type": "stream",
     "text": [
      " * sqlite:///DataBase/weather_stations.db\n",
      "Done.\n"
     ]
    },
    {
     "data": {
      "text/html": [
       "<table>\n",
       "    <tr>\n",
       "        <th>distinct_num</th>\n",
       "    </tr>\n",
       "    <tr>\n",
       "        <td>6368</td>\n",
       "    </tr>\n",
       "</table>"
      ],
      "text/plain": [
       "[(6368,)]"
      ]
     },
     "execution_count": 32,
     "metadata": {},
     "output_type": "execute_result"
    }
   ],
   "source": [
    "%%sql\n",
    "select count(distinct station_number) as distinct_num\n",
    "from station_data;"
   ]
  },
  {
   "cell_type": "markdown",
   "metadata": {},
   "source": [
    "## 参考资料\n",
    "\n",
    "[1] [Thomas Nield.Getting Started with SQL](https://github.com/X1AOX1A/SQL_Notes/blob/master/getting_started_with_sql/Getting%20Started%20with%20SQL.pdf)[M].US: O’Reilly, 2016: 29-37\n",
    "\n"
   ]
  }
 ],
 "metadata": {
  "kernelspec": {
   "display_name": "Python 3",
   "language": "python",
   "name": "python3"
  },
  "language_info": {
   "codemirror_mode": {
    "name": "ipython",
    "version": 3
   },
   "file_extension": ".py",
   "mimetype": "text/x-python",
   "name": "python",
   "nbconvert_exporter": "python",
   "pygments_lexer": "ipython3",
   "version": "3.7.3"
  },
  "toc": {
   "base_numbering": 1,
   "nav_menu": {},
   "number_sections": false,
   "sideBar": true,
   "skip_h1_title": false,
   "title_cell": "Table of Contents",
   "title_sidebar": "Contents",
   "toc_cell": false,
   "toc_position": {
    "height": "calc(100% - 180px)",
    "left": "10px",
    "top": "150px",
    "width": "222.60870361328125px"
   },
   "toc_section_display": true,
   "toc_window_display": true
  },
  "varInspector": {
   "cols": {
    "lenName": 16,
    "lenType": 16,
    "lenVar": 40
   },
   "kernels_config": {
    "python": {
     "delete_cmd_postfix": "",
     "delete_cmd_prefix": "del ",
     "library": "var_list.py",
     "varRefreshCmd": "print(var_dic_list())"
    },
    "r": {
     "delete_cmd_postfix": ") ",
     "delete_cmd_prefix": "rm(",
     "library": "var_list.r",
     "varRefreshCmd": "cat(var_dic_list()) "
    }
   },
   "types_to_exclude": [
    "module",
    "function",
    "builtin_function_or_method",
    "instance",
    "_Feature"
   ],
   "window_display": false
  }
 },
 "nbformat": 4,
 "nbformat_minor": 4
}
