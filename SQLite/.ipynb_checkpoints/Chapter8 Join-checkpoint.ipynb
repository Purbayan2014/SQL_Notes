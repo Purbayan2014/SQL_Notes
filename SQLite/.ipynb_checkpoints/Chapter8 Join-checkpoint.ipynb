{
 "cells": [
  {
   "cell_type": "markdown",
   "metadata": {},
   "source": [
    "# 1. Join"
   ]
  },
  {
   "cell_type": "markdown",
   "metadata": {},
   "source": [
    "我们在上一篇中介绍了 [Case 语句](https://blog.csdn.net/weixin_45488228/article/details/104480537)\n",
    "，接下来我们将使用 join ，对表格进行合并。\n",
    "\n",
    "- 使用Jupyter Notebook 运行 SQL 语句需安装 ipython-sql\n",
    "\n",
    "- %sql 以及 %%sql 为在 Notebook 中运行 SQL 语句，在 SQLite 命令行或 SQLite Stiduo 中不需要 %sql 或 %%sql\n",
    "\n",
    "载入 SQL 以及连接 SQLite："
   ]
  },
  {
   "cell_type": "code",
   "execution_count": 2,
   "metadata": {
    "ExecuteTime": {
     "end_time": "2020-03-05T14:44:18.989398Z",
     "start_time": "2020-03-05T14:44:18.122432Z"
    }
   },
   "outputs": [
    {
     "data": {
      "text/plain": [
       "'Connected: @DataBase/rexon_metals.db'"
      ]
     },
     "execution_count": 2,
     "metadata": {},
     "output_type": "execute_result"
    }
   ],
   "source": [
    "%load_ext sql\n",
    "%sql sqlite:///DataBase/rexon_metals.db"
   ]
  },
  {
   "cell_type": "markdown",
   "metadata": {},
   "source": [
    "本文将使用 [rexon_metals.db](https://github.com/X1AOX1A/SQL_Notes/blob/master/SQLite/DataBase/rexon_metals.db) 数据库，其中包含了 CUSTOMER、CUSTOMER_ORDER 和 PRODUCT 三张表。"
   ]
  },
  {
   "cell_type": "markdown",
   "metadata": {},
   "source": [
    "## 1.1 表联合"
   ]
  },
  {
   "cell_type": "markdown",
   "metadata": {
    "ExecuteTime": {
     "end_time": "2020-03-05T06:51:07.017139Z",
     "start_time": "2020-03-05T06:51:06.989249Z"
    }
   },
   "source": [
    "Joining 是 SQL 内置的一个子句，但却和其他的子句不同。当我们讨论一个关系数据库时，\n",
    "里面通常有着几张表，表与表之间通过某一列数据相联系。举个例子，在这样 CUSTOMER_ORDER \n",
    "表中，有这 CUSTOMER_ID 这一列："
   ]
  },
  {
   "cell_type": "code",
   "execution_count": 3,
   "metadata": {
    "ExecuteTime": {
     "end_time": "2020-03-05T06:51:32.664572Z",
     "start_time": "2020-03-05T06:51:32.643167Z"
    }
   },
   "outputs": [
    {
     "name": "stdout",
     "output_type": "stream",
     "text": [
      " * sqlite:///DataBase/rexon_metals.db\n",
      "Done.\n"
     ]
    },
    {
     "data": {
      "text/html": [
       "<table>\n",
       "    <tr>\n",
       "        <th>ORDER_ID</th>\n",
       "        <th>ORDER_DATE</th>\n",
       "        <th>SHIP_DATE</th>\n",
       "        <th>CUSTOMER_ID</th>\n",
       "        <th>PRODUCT_ID</th>\n",
       "        <th>ORDER_QTY</th>\n",
       "        <th>SHIPPED</th>\n",
       "    </tr>\n",
       "    <tr>\n",
       "        <td>1</td>\n",
       "        <td>2015-05-15</td>\n",
       "        <td>2015-05-18</td>\n",
       "        <td>1</td>\n",
       "        <td>1</td>\n",
       "        <td>450</td>\n",
       "        <td>false</td>\n",
       "    </tr>\n",
       "    <tr>\n",
       "        <td>2</td>\n",
       "        <td>2015-05-18</td>\n",
       "        <td>2015-05-21</td>\n",
       "        <td>3</td>\n",
       "        <td>2</td>\n",
       "        <td>600</td>\n",
       "        <td>false</td>\n",
       "    </tr>\n",
       "    <tr>\n",
       "        <td>3</td>\n",
       "        <td>2015-05-20</td>\n",
       "        <td>2015-05-23</td>\n",
       "        <td>3</td>\n",
       "        <td>5</td>\n",
       "        <td>300</td>\n",
       "        <td>false</td>\n",
       "    </tr>\n",
       "    <tr>\n",
       "        <td>4</td>\n",
       "        <td>2015-05-18</td>\n",
       "        <td>2015-05-22</td>\n",
       "        <td>5</td>\n",
       "        <td>4</td>\n",
       "        <td>375</td>\n",
       "        <td>false</td>\n",
       "    </tr>\n",
       "    <tr>\n",
       "        <td>5</td>\n",
       "        <td>2015-05-17</td>\n",
       "        <td>2015-05-20</td>\n",
       "        <td>3</td>\n",
       "        <td>2</td>\n",
       "        <td>500</td>\n",
       "        <td>false</td>\n",
       "    </tr>\n",
       "</table>"
      ],
      "text/plain": [
       "[(1, '2015-05-15', '2015-05-18', 1, 1, 450, 'false'),\n",
       " (2, '2015-05-18', '2015-05-21', 3, 2, 600, 'false'),\n",
       " (3, '2015-05-20', '2015-05-23', 3, 5, 300, 'false'),\n",
       " (4, '2015-05-18', '2015-05-22', 5, 4, 375, 'false'),\n",
       " (5, '2015-05-17', '2015-05-20', 3, 2, 500, 'false')]"
      ]
     },
     "execution_count": 3,
     "metadata": {},
     "output_type": "execute_result"
    }
   ],
   "source": [
    "%%sql\n",
    "select * from customer_order\n",
    "limit 0,5;"
   ]
  },
  {
   "cell_type": "markdown",
   "metadata": {},
   "source": [
    "这一列是我们和 CUSTOMER 表联系起来的**键（key）**，因此你也能猜出，在\n",
    "CUSTOMER 表中，也有 CUSTOMER_ID 这一列数据："
   ]
  },
  {
   "cell_type": "code",
   "execution_count": 4,
   "metadata": {
    "ExecuteTime": {
     "end_time": "2020-03-05T06:53:39.230449Z",
     "start_time": "2020-03-05T06:53:39.208912Z"
    }
   },
   "outputs": [
    {
     "name": "stdout",
     "output_type": "stream",
     "text": [
      " * sqlite:///DataBase/rexon_metals.db\n",
      "Done.\n"
     ]
    },
    {
     "data": {
      "text/html": [
       "<table>\n",
       "    <tr>\n",
       "        <th>CUSTOMER_ID</th>\n",
       "        <th>NAME</th>\n",
       "        <th>REGION</th>\n",
       "        <th>STREET_ADDRESS</th>\n",
       "        <th>CITY</th>\n",
       "        <th>STATE</th>\n",
       "        <th>ZIP</th>\n",
       "    </tr>\n",
       "    <tr>\n",
       "        <td>1</td>\n",
       "        <td>LITE Industrial</td>\n",
       "        <td>Southwest</td>\n",
       "        <td>729 Ravine Way</td>\n",
       "        <td>Irving</td>\n",
       "        <td>TX</td>\n",
       "        <td>75014</td>\n",
       "    </tr>\n",
       "    <tr>\n",
       "        <td>2</td>\n",
       "        <td>Rex Tooling Inc</td>\n",
       "        <td>Southwest</td>\n",
       "        <td>6129 Collie Blvd</td>\n",
       "        <td>Dallas</td>\n",
       "        <td>TX</td>\n",
       "        <td>75201</td>\n",
       "    </tr>\n",
       "    <tr>\n",
       "        <td>3</td>\n",
       "        <td>Re-Barre Construction</td>\n",
       "        <td>Southwest</td>\n",
       "        <td>9043 Windy Dr</td>\n",
       "        <td>Irving</td>\n",
       "        <td>TX</td>\n",
       "        <td>75032</td>\n",
       "    </tr>\n",
       "    <tr>\n",
       "        <td>4</td>\n",
       "        <td>Prairie Construction</td>\n",
       "        <td>Southwest</td>\n",
       "        <td>264 Long Rd</td>\n",
       "        <td>Moore</td>\n",
       "        <td>OK</td>\n",
       "        <td>62104</td>\n",
       "    </tr>\n",
       "    <tr>\n",
       "        <td>5</td>\n",
       "        <td>Marsh Lane Metal Works</td>\n",
       "        <td>Southeast</td>\n",
       "        <td>9143 Marsh Ln</td>\n",
       "        <td>Avondale</td>\n",
       "        <td>LA</td>\n",
       "        <td>79782</td>\n",
       "    </tr>\n",
       "</table>"
      ],
      "text/plain": [
       "[(1, 'LITE Industrial', 'Southwest', '729 Ravine Way', 'Irving', 'TX', 75014),\n",
       " (2, 'Rex Tooling Inc', 'Southwest', '6129 Collie Blvd', 'Dallas', 'TX', 75201),\n",
       " (3, 'Re-Barre Construction', 'Southwest', '9043 Windy Dr', 'Irving', 'TX', 75032),\n",
       " (4, 'Prairie Construction', 'Southwest', '264 Long Rd', 'Moore', 'OK', 62104),\n",
       " (5, 'Marsh Lane Metal Works', 'Southeast', '9143 Marsh Ln', 'Avondale', 'LA', 79782)]"
      ]
     },
     "execution_count": 4,
     "metadata": {},
     "output_type": "execute_result"
    }
   ],
   "source": [
    "%%sql\n",
    "select * from customer\n",
    "limit 0,5;"
   ]
  },
  {
   "cell_type": "markdown",
   "metadata": {
    "ExecuteTime": {
     "end_time": "2020-03-05T07:12:14.773579Z",
     "start_time": "2020-03-05T07:12:14.754589Z"
    }
   },
   "source": [
    "我们可以按顺序从这一个表中读取客户的信息，这与 Excel 中的 VLOOKUP 非常相似。\n",
    "\n",
    "下面是 CUSTOMER_ORDER 表与 CUSTOMER 表之间关系的示意图，我们可以说 CUSTOMER 表是 CUSTOMER_ORDER 表的父表，因为 CUSTOMER_ORDER 表依赖于 CUSOMER 表中的信息，因此它是一个子表。相反的，CUSTOMER 不可能是 CUSTOMER_ORDER 的子表，因为它没有什么信息是依赖于\n",
    " CUSTOMER_ORDER 表的。\n",
    "    \n",
    "<img style=\"float:center\" src=\"https://x1a-alioss.oss-cn-shenzhen.aliyuncs.com/Screen Shot 2020-03-05 at 15.11.55.png\" width=\"520\" >\n",
    "\n",
    "<center> 图1 表 CUSTOMER 与表 CUSTOMER_ORDER 关系图 </center>"
   ]
  },
  {
   "cell_type": "markdown",
   "metadata": {},
   "source": [
    "箭头显示了 CUSTOMER 表同过 CUSTOMER_ID 这一列数据与 CUSTOMER_ORDER 表联系。\n",
    "\n",
    "我们也可以从另一个方面来考虑两个表之间的关系，那就是对于两个表相同的列，子表中的数据通常是重复的，而父表中的数据通常是唯一的。还是以这两张表为例，在下面这张图中你可以看到\n",
    "**一对多**的关系：一位 CUSTOMER_ID 为 3 的 *Re-Barre Construction* 的客户对应着三张订单。\n",
    "\n",
    "<img style=\"float:center\" src=\"https://x1a-alioss.oss-cn-shenzhen.aliyuncs.com/Screen Shot 2020-03-05 at 15.21.43.png\" width=\"520\" >\n",
    "\n",
    "<center> 图2 表 CUSTOMER 与表 CUSTOMER_ORDER 关系图2 </center>"
   ]
  },
  {
   "cell_type": "markdown",
   "metadata": {},
   "source": [
    "一对多是最常见的数据关系，因为这符合大多数商业需要，如一个客户对应着多张订单。最不常见的关系就是一对一和多对多的关系。"
   ]
  },
  {
   "cell_type": "markdown",
   "metadata": {},
   "source": [
    "## 1.2 内联合"
   ]
  },
  {
   "cell_type": "markdown",
   "metadata": {},
   "source": [
    "理解了表的关系，我们来考虑下将两张表联合到一起，这样我们可以在同一张表内即看到 CUSTOMER 的数据，又看到 CUSTOMER_ORDER 的数据。\n",
    "\n",
    "**INNER JOIN** 让你能够将两张表联合到一起，但如果我们要联合表，就需要定义一个或多个两张表都有的列作为键。如果我们要查询 CUSTOMER_ORDER 并用 CUSTOMER 表来补充客户的信息，我们可以将共同的 CUSTOMER_ID 作为键："
   ]
  },
  {
   "cell_type": "code",
   "execution_count": 9,
   "metadata": {
    "ExecuteTime": {
     "end_time": "2020-03-05T08:58:47.203008Z",
     "start_time": "2020-03-05T08:58:47.189934Z"
    }
   },
   "outputs": [
    {
     "name": "stdout",
     "output_type": "stream",
     "text": [
      " * sqlite:///DataBase/rexon_metals.db\n",
      "Done.\n"
     ]
    },
    {
     "data": {
      "text/html": [
       "<table>\n",
       "    <tr>\n",
       "        <th>ORDER_ID</th>\n",
       "        <th>CUSTOMER_ID</th>\n",
       "        <th>ORDER_DATE</th>\n",
       "        <th>SHIP_DATE</th>\n",
       "        <th>NAME</th>\n",
       "        <th>STREET_ADDRESS</th>\n",
       "        <th>CITY</th>\n",
       "        <th>STATE</th>\n",
       "        <th>ZIP</th>\n",
       "        <th>PRODUCT_ID</th>\n",
       "        <th>ORDER_QTY</th>\n",
       "    </tr>\n",
       "    <tr>\n",
       "        <td>1</td>\n",
       "        <td>1</td>\n",
       "        <td>2015-05-15</td>\n",
       "        <td>2015-05-18</td>\n",
       "        <td>LITE Industrial</td>\n",
       "        <td>729 Ravine Way</td>\n",
       "        <td>Irving</td>\n",
       "        <td>TX</td>\n",
       "        <td>75014</td>\n",
       "        <td>1</td>\n",
       "        <td>450</td>\n",
       "    </tr>\n",
       "    <tr>\n",
       "        <td>2</td>\n",
       "        <td>3</td>\n",
       "        <td>2015-05-18</td>\n",
       "        <td>2015-05-21</td>\n",
       "        <td>Re-Barre Construction</td>\n",
       "        <td>9043 Windy Dr</td>\n",
       "        <td>Irving</td>\n",
       "        <td>TX</td>\n",
       "        <td>75032</td>\n",
       "        <td>2</td>\n",
       "        <td>600</td>\n",
       "    </tr>\n",
       "    <tr>\n",
       "        <td>3</td>\n",
       "        <td>3</td>\n",
       "        <td>2015-05-20</td>\n",
       "        <td>2015-05-23</td>\n",
       "        <td>Re-Barre Construction</td>\n",
       "        <td>9043 Windy Dr</td>\n",
       "        <td>Irving</td>\n",
       "        <td>TX</td>\n",
       "        <td>75032</td>\n",
       "        <td>5</td>\n",
       "        <td>300</td>\n",
       "    </tr>\n",
       "    <tr>\n",
       "        <td>4</td>\n",
       "        <td>5</td>\n",
       "        <td>2015-05-18</td>\n",
       "        <td>2015-05-22</td>\n",
       "        <td>Marsh Lane Metal Works</td>\n",
       "        <td>9143 Marsh Ln</td>\n",
       "        <td>Avondale</td>\n",
       "        <td>LA</td>\n",
       "        <td>79782</td>\n",
       "        <td>4</td>\n",
       "        <td>375</td>\n",
       "    </tr>\n",
       "    <tr>\n",
       "        <td>5</td>\n",
       "        <td>3</td>\n",
       "        <td>2015-05-17</td>\n",
       "        <td>2015-05-20</td>\n",
       "        <td>Re-Barre Construction</td>\n",
       "        <td>9043 Windy Dr</td>\n",
       "        <td>Irving</td>\n",
       "        <td>TX</td>\n",
       "        <td>75032</td>\n",
       "        <td>2</td>\n",
       "        <td>500</td>\n",
       "    </tr>\n",
       "</table>"
      ],
      "text/plain": [
       "[(1, 1, '2015-05-15', '2015-05-18', 'LITE Industrial', '729 Ravine Way', 'Irving', 'TX', 75014, 1, 450),\n",
       " (2, 3, '2015-05-18', '2015-05-21', 'Re-Barre Construction', '9043 Windy Dr', 'Irving', 'TX', 75032, 2, 600),\n",
       " (3, 3, '2015-05-20', '2015-05-23', 'Re-Barre Construction', '9043 Windy Dr', 'Irving', 'TX', 75032, 5, 300),\n",
       " (4, 5, '2015-05-18', '2015-05-22', 'Marsh Lane Metal Works', '9143 Marsh Ln', 'Avondale', 'LA', 79782, 4, 375),\n",
       " (5, 3, '2015-05-17', '2015-05-20', 'Re-Barre Construction', '9043 Windy Dr', 'Irving', 'TX', 75032, 2, 500)]"
      ]
     },
     "execution_count": 9,
     "metadata": {},
     "output_type": "execute_result"
    }
   ],
   "source": [
    "%%sql\n",
    "SELECT \n",
    "order_id,              -- CUSTOMER_ORDER\n",
    "customer.customer_id,  -- CUSTOMER\n",
    "order_date,            -- CUSTOMER_ORDER\n",
    "ship_date,             -- CUSTOMER_ORDER\n",
    "name,                  -- CUSTOMER\n",
    "street_address,        -- CUSTOMER\n",
    "city,                  -- CUSTOMER\n",
    "state,                 -- CUSTOMER\n",
    "zip,                   -- CUSTOMER\n",
    "product_id,            -- CUSTOMER_ORDER\n",
    "order_qty              -- CUSTOMER_ORDER\n",
    "\n",
    "FROM customer INNER JOIN customer_order\n",
    "ON customer.customer_id = customer_order.customer_id\n",
    "LIMIT 0,5"
   ]
  },
  {
   "cell_type": "markdown",
   "metadata": {},
   "source": [
    "你可能注意到了我们可以同时从 CUSTOMER 和 CUSTOMER_ORDER 两张表中提取列，并将它们合并。\n",
    "\n",
    "让我们看看刚才的查询是怎么完成的，首先我们从两张表中提取出我们想要的数据：\n",
    "\n",
    "``` SQL\n",
    "SELECT \n",
    "order_id,              -- CUSTOMER_ORDER\n",
    "customer.customer_id,  -- CUSTOMER\n",
    "order_date,            -- CUSTOMER_ORDER\n",
    "ship_date,             -- CUSTOMER_ORDER\n",
    "name,                  -- CUSTOMER\n",
    "street_address,        -- CUSTOMER\n",
    "city,                  -- CUSTOMER\n",
    "state,                 -- CUSTOMER\n",
    "zip,                   -- CUSTOMER\n",
    "product_id,            -- CUSTOMER_ORDER\n",
    "order_qty              -- CUSTOMER_ORDER\n",
    "```\n",
    "\n",
    "这样我们可以在每一个订单中看见客户的地址信息。同时也要注意到：由于两张表都具有 ORDER_ID ，所以需要指定使用某一章表的数据。在这个例子中，我们选择了 COSTOMER 表中的 CUSTOMER_ID 数据：\n",
    "\n",
    "``` SQL\n",
    "customer.customer_id\n",
    "```"
   ]
  },
  {
   "cell_type": "markdown",
   "metadata": {},
   "source": [
    "最后我们用 **select ... inner join ...** 语句临时将两张表合并为一张表。指定了**从 CUSTOMER 表中提取数据并加入到 CUSTOMER_ORDER 表中**，而它们共同的列就是 CUSTOMER_ID：\n",
    "\n",
    "``` SQL\n",
    "FROM customer INNER JOIN customer_order\n",
    "ON customer.customer_id = customer_order.customer_id\n",
    "```"
   ]
  },
  {
   "cell_type": "markdown",
   "metadata": {},
   "source": [
    "正因为我们是将根据 CUSTOMER_ORDER  上的 CUSTOMER_ID 添加 CUSTOMER 的信息，因此并不是CUSTOMER 上所有的信息都会出现在 CUSTOMER_ORDER 上，以下图为例，当我们合并两张表时，合并的结果中只出现了三个顾客的名字，而由于 CUSTOMER_ORDER 中并没有 *Rex Tooling Inc* 和 *Prairie Construction*，因此合并表中也就不会出现这两家公司了。\n",
    "\n",
    "<img style=\"float:center\" src=\"https://x1a-alioss.oss-cn-shenzhen.aliyuncs.com/Screen Shot 2020-03-05 at 21.22.47.png\" width=\"520\" >\n",
    "\n",
    "<center> 图3 inner join 示意图 </center>"
   ]
  },
  {
   "cell_type": "markdown",
   "metadata": {},
   "source": [
    "## 1.3 左联合"
   ]
  },
  {
   "cell_type": "markdown",
   "metadata": {},
   "source": [
    "考虑下我们刚才说到的问题，在内联合中，*Rex Tooling Inc* 和 *Prairie Construction* 两家公司由于没有订单而没有呈现在最后的合并结果中。但如果我就是想要在合并结果中保留它们呢（尽管没有数据）？\n",
    "\n",
    "如果你对我们刚才所介绍 inner join 能接受的话，那么 left 或 out join 也就依葫芦画瓢了。你可以将前面代码中的 inner 换成 left ，你会发现左表（CUSTOMER）中所有信息都被保留下来了："
   ]
  },
  {
   "cell_type": "code",
   "execution_count": 3,
   "metadata": {
    "ExecuteTime": {
     "end_time": "2020-03-05T13:37:27.633702Z",
     "start_time": "2020-03-05T13:37:27.614922Z"
    }
   },
   "outputs": [
    {
     "name": "stdout",
     "output_type": "stream",
     "text": [
      " * sqlite:///DataBase/rexon_metals.db\n",
      "Done.\n"
     ]
    },
    {
     "data": {
      "text/html": [
       "<table>\n",
       "    <tr>\n",
       "        <th>ORDER_ID</th>\n",
       "        <th>CUSTOMER_ID</th>\n",
       "        <th>ORDER_DATE</th>\n",
       "        <th>SHIP_DATE</th>\n",
       "        <th>NAME</th>\n",
       "        <th>STREET_ADDRESS</th>\n",
       "        <th>CITY</th>\n",
       "        <th>STATE</th>\n",
       "        <th>ZIP</th>\n",
       "        <th>PRODUCT_ID</th>\n",
       "        <th>ORDER_QTY</th>\n",
       "    </tr>\n",
       "    <tr>\n",
       "        <td>1</td>\n",
       "        <td>1</td>\n",
       "        <td>2015-05-15</td>\n",
       "        <td>2015-05-18</td>\n",
       "        <td>LITE Industrial</td>\n",
       "        <td>729 Ravine Way</td>\n",
       "        <td>Irving</td>\n",
       "        <td>TX</td>\n",
       "        <td>75014</td>\n",
       "        <td>1</td>\n",
       "        <td>450</td>\n",
       "    </tr>\n",
       "    <tr>\n",
       "        <td>None</td>\n",
       "        <td>2</td>\n",
       "        <td>None</td>\n",
       "        <td>None</td>\n",
       "        <td>Rex Tooling Inc</td>\n",
       "        <td>6129 Collie Blvd</td>\n",
       "        <td>Dallas</td>\n",
       "        <td>TX</td>\n",
       "        <td>75201</td>\n",
       "        <td>None</td>\n",
       "        <td>None</td>\n",
       "    </tr>\n",
       "    <tr>\n",
       "        <td>5</td>\n",
       "        <td>3</td>\n",
       "        <td>2015-05-17</td>\n",
       "        <td>2015-05-20</td>\n",
       "        <td>Re-Barre Construction</td>\n",
       "        <td>9043 Windy Dr</td>\n",
       "        <td>Irving</td>\n",
       "        <td>TX</td>\n",
       "        <td>75032</td>\n",
       "        <td>2</td>\n",
       "        <td>500</td>\n",
       "    </tr>\n",
       "    <tr>\n",
       "        <td>2</td>\n",
       "        <td>3</td>\n",
       "        <td>2015-05-18</td>\n",
       "        <td>2015-05-21</td>\n",
       "        <td>Re-Barre Construction</td>\n",
       "        <td>9043 Windy Dr</td>\n",
       "        <td>Irving</td>\n",
       "        <td>TX</td>\n",
       "        <td>75032</td>\n",
       "        <td>2</td>\n",
       "        <td>600</td>\n",
       "    </tr>\n",
       "    <tr>\n",
       "        <td>3</td>\n",
       "        <td>3</td>\n",
       "        <td>2015-05-20</td>\n",
       "        <td>2015-05-23</td>\n",
       "        <td>Re-Barre Construction</td>\n",
       "        <td>9043 Windy Dr</td>\n",
       "        <td>Irving</td>\n",
       "        <td>TX</td>\n",
       "        <td>75032</td>\n",
       "        <td>5</td>\n",
       "        <td>300</td>\n",
       "    </tr>\n",
       "</table>"
      ],
      "text/plain": [
       "[(1, 1, '2015-05-15', '2015-05-18', 'LITE Industrial', '729 Ravine Way', 'Irving', 'TX', 75014, 1, 450),\n",
       " (None, 2, None, None, 'Rex Tooling Inc', '6129 Collie Blvd', 'Dallas', 'TX', 75201, None, None),\n",
       " (5, 3, '2015-05-17', '2015-05-20', 'Re-Barre Construction', '9043 Windy Dr', 'Irving', 'TX', 75032, 2, 500),\n",
       " (2, 3, '2015-05-18', '2015-05-21', 'Re-Barre Construction', '9043 Windy Dr', 'Irving', 'TX', 75032, 2, 600),\n",
       " (3, 3, '2015-05-20', '2015-05-23', 'Re-Barre Construction', '9043 Windy Dr', 'Irving', 'TX', 75032, 5, 300)]"
      ]
     },
     "execution_count": 3,
     "metadata": {},
     "output_type": "execute_result"
    }
   ],
   "source": [
    "%%sql\n",
    "SELECT \n",
    "order_id,              -- CUSTOMER_ORDER\n",
    "customer.customer_id,  -- CUSTOMER\n",
    "order_date,            -- CUSTOMER_ORDER\n",
    "ship_date,             -- CUSTOMER_ORDER\n",
    "name,                  -- CUSTOMER\n",
    "street_address,        -- CUSTOMER\n",
    "city,                  -- CUSTOMER\n",
    "state,                 -- CUSTOMER\n",
    "zip,                   -- CUSTOMER\n",
    "product_id,            -- CUSTOMER_ORDER\n",
    "order_qty              -- CUSTOMER_ORDER\n",
    "\n",
    "FROM customer LEFT JOIN customer_order\n",
    "ON customer.customer_id = customer_order.customer_id\n",
    "LIMIT 0,5"
   ]
  },
  {
   "cell_type": "markdown",
   "metadata": {
    "ExecuteTime": {
     "end_time": "2020-03-05T13:42:58.836256Z",
     "start_time": "2020-03-05T13:42:58.827626Z"
    }
   },
   "source": [
    "可以看到虽然 *Rex Tooling Inc* 并没有订单数据，但会以缺失值的显示出现在结果中，如下图过程所示：\n",
    "\n",
    "<img style=\"float:center\" src=\"https://x1a-alioss.oss-cn-shenzhen.aliyuncs.com/Screen Shot 2020-03-05 at 21.41.44.png\" width=\"520\" >\n",
    "\n",
    "<center>图4 left join 示意图\n",
    "</center>"
   ]
  },
  {
   "cell_type": "markdown",
   "metadata": {},
   "source": [
    "left join 也经常被用于检查是否有 “孤儿（orphaned）”数据，即子数据无父数据，或相反的父数据无子数据。如用于查找是否有客户没有订单的或订单丢失客户的："
   ]
  },
  {
   "cell_type": "code",
   "execution_count": 11,
   "metadata": {
    "ExecuteTime": {
     "end_time": "2020-03-05T13:52:52.418525Z",
     "start_time": "2020-03-05T13:52:52.387617Z"
    }
   },
   "outputs": [
    {
     "name": "stdout",
     "output_type": "stream",
     "text": [
      " * sqlite:///DataBase/rexon_metals.db\n",
      "Done.\n"
     ]
    },
    {
     "data": {
      "text/html": [
       "<table>\n",
       "    <tr>\n",
       "        <th>CUSTOMER_ID</th>\n",
       "        <th>customer_name</th>\n",
       "    </tr>\n",
       "    <tr>\n",
       "        <td>2</td>\n",
       "        <td>Rex Tooling Inc</td>\n",
       "    </tr>\n",
       "    <tr>\n",
       "        <td>4</td>\n",
       "        <td>Prairie Construction</td>\n",
       "    </tr>\n",
       "</table>"
      ],
      "text/plain": [
       "[(2, 'Rex Tooling Inc'), (4, 'Prairie Construction')]"
      ]
     },
     "execution_count": 11,
     "metadata": {},
     "output_type": "execute_result"
    }
   ],
   "source": [
    "%%sql\n",
    "SELECT\n",
    "customer.customer_id,\n",
    "name AS customer_name\n",
    "\n",
    "FROM customer LEFT JOIN customer_order\n",
    "ON customer.customer_id == customer_order.customer_id\n",
    "\n",
    "WHERE order_id IS null"
   ]
  },
  {
   "cell_type": "markdown",
   "metadata": {},
   "source": [
    "## 1.4 其他联合类型\n",
    "\n",
    "\n",
    "我们已经介绍了内联合于左联合，SQL 中还包含了其他联合方法，如 right join、out join 等方法。\n",
    "\n",
    "<img style=\"float:center\" src=\"https://x1a-alioss.oss-cn-shenzhen.aliyuncs.com/sql-join.png\" width=\"520\" >\n",
    "\n",
    "<center> 图5 SQL 表联合方法 </center>"
   ]
  },
  {
   "cell_type": "markdown",
   "metadata": {
    "ExecuteTime": {
     "end_time": "2020-03-05T14:16:37.506296Z",
     "start_time": "2020-03-05T14:16:37.484709Z"
    }
   },
   "source": [
    "right join 与 left join 几乎相同，不过是换了个方向：将右表的所有数据都包含了进来。然而 right join 很少使用，而且你也得避免使用它。要习惯于将保留所有数据的表作为左表！\n",
    "\n",
    "> SQLite 并不支持 right join 和 outer join，但大多数的数据库都支持"
   ]
  },
  {
   "cell_type": "markdown",
   "metadata": {},
   "source": [
    "## 1.5 多表联合\n",
    "\n",
    "由于表与表之间存在着关系，因此关系数据库可以变得异常的复杂。一张子表可能存在着多张父表，同时是其他表的子表（贵圈也挺乱的hhhh），所以它们之间是如何协作的呢？"
   ]
  },
  {
   "cell_type": "code",
   "execution_count": 3,
   "metadata": {
    "ExecuteTime": {
     "end_time": "2020-03-05T14:48:37.598369Z",
     "start_time": "2020-03-05T14:48:37.577512Z"
    }
   },
   "outputs": [
    {
     "name": "stdout",
     "output_type": "stream",
     "text": [
      " * sqlite:///DataBase/rexon_metals.db\n",
      "Done.\n"
     ]
    },
    {
     "data": {
      "text/html": [
       "<table>\n",
       "    <tr>\n",
       "        <th>PRODUCT_ID</th>\n",
       "        <th>DESCRIPTION</th>\n",
       "        <th>PRICE</th>\n",
       "    </tr>\n",
       "    <tr>\n",
       "        <td>1</td>\n",
       "        <td>Copper</td>\n",
       "        <td>7.51</td>\n",
       "    </tr>\n",
       "    <tr>\n",
       "        <td>2</td>\n",
       "        <td>Aluminum</td>\n",
       "        <td>2.58</td>\n",
       "    </tr>\n",
       "    <tr>\n",
       "        <td>3</td>\n",
       "        <td>Silver</td>\n",
       "        <td>15</td>\n",
       "    </tr>\n",
       "    <tr>\n",
       "        <td>4</td>\n",
       "        <td>Steel</td>\n",
       "        <td>12.31</td>\n",
       "    </tr>\n",
       "    <tr>\n",
       "        <td>5</td>\n",
       "        <td>Bronze</td>\n",
       "        <td>4</td>\n",
       "    </tr>\n",
       "</table>"
      ],
      "text/plain": [
       "[(1, 'Copper', 7.51),\n",
       " (2, 'Aluminum', 2.58),\n",
       " (3, 'Silver', 15),\n",
       " (4, 'Steel', 12.31),\n",
       " (5, 'Bronze', 4)]"
      ]
     },
     "execution_count": 3,
     "metadata": {},
     "output_type": "execute_result"
    }
   ],
   "source": [
    "%%sql\n",
    "select * from product\n",
    "limit 0,5"
   ]
  },
  {
   "cell_type": "markdown",
   "metadata": {
    "ExecuteTime": {
     "end_time": "2020-03-05T14:44:08.422875Z",
     "start_time": "2020-03-05T14:44:08.366107Z"
    }
   },
   "source": [
    "我们已经探索了 CUSTOMER 和 CUSTOMER_ID 两张表了，但在这个数据库中还有一张 PRODUCT 表我们没用到。在 CUSTOMER_ORDER 和 PRODUCT 两张表中都存在着 PRODUCT_ID 这一列数据，因此我们不仅可以为 CUSTOMER_ORDER 表添加顾客信息，还能添加产品信息。\n",
    "\n",
    "<img style=\"float:center\" src=\"https://x1a-alioss.oss-cn-shenzhen.aliyuncs.com/Screen Shot 2020-03-05 at 22.43.23.png\" width=\"520\" >\n",
    "\n",
    "<center>图6 多表联合 </center>"
   ]
  },
  {
   "cell_type": "markdown",
   "metadata": {},
   "source": [
    "我们可以利用这两个关系将顾客信息和产品信息同时添加到订单中："
   ]
  },
  {
   "cell_type": "code",
   "execution_count": 21,
   "metadata": {
    "ExecuteTime": {
     "end_time": "2020-03-05T15:45:40.132158Z",
     "start_time": "2020-03-05T15:45:40.115391Z"
    },
    "scrolled": false
   },
   "outputs": [
    {
     "name": "stdout",
     "output_type": "stream",
     "text": [
      " * sqlite:///DataBase/rexon_metals.db\n",
      "Done.\n"
     ]
    },
    {
     "data": {
      "text/html": [
       "<table>\n",
       "    <tr>\n",
       "        <th>ORDER_ID</th>\n",
       "        <th>CUSTOMER_ID</th>\n",
       "        <th>customer_name</th>\n",
       "        <th>STREET_ADDRESS</th>\n",
       "        <th>CITY</th>\n",
       "        <th>STATE</th>\n",
       "        <th>ZIP</th>\n",
       "        <th>ORDER_DATE</th>\n",
       "        <th>PRODUCT_ID</th>\n",
       "        <th>DESCRIPTION</th>\n",
       "        <th>ORDER_QTY</th>\n",
       "        <th>revenue</th>\n",
       "    </tr>\n",
       "    <tr>\n",
       "        <td>1</td>\n",
       "        <td>1</td>\n",
       "        <td>LITE Industrial</td>\n",
       "        <td>729 Ravine Way</td>\n",
       "        <td>Irving</td>\n",
       "        <td>TX</td>\n",
       "        <td>75014</td>\n",
       "        <td>2015-05-15</td>\n",
       "        <td>1</td>\n",
       "        <td>Copper</td>\n",
       "        <td>450</td>\n",
       "        <td>3379.5</td>\n",
       "    </tr>\n",
       "    <tr>\n",
       "        <td>None</td>\n",
       "        <td>2</td>\n",
       "        <td>Rex Tooling Inc</td>\n",
       "        <td>6129 Collie Blvd</td>\n",
       "        <td>Dallas</td>\n",
       "        <td>TX</td>\n",
       "        <td>75201</td>\n",
       "        <td>None</td>\n",
       "        <td>None</td>\n",
       "        <td>None</td>\n",
       "        <td>None</td>\n",
       "        <td>None</td>\n",
       "    </tr>\n",
       "    <tr>\n",
       "        <td>5</td>\n",
       "        <td>3</td>\n",
       "        <td>Re-Barre Construction</td>\n",
       "        <td>9043 Windy Dr</td>\n",
       "        <td>Irving</td>\n",
       "        <td>TX</td>\n",
       "        <td>75032</td>\n",
       "        <td>2015-05-17</td>\n",
       "        <td>2</td>\n",
       "        <td>Aluminum</td>\n",
       "        <td>500</td>\n",
       "        <td>1290.0</td>\n",
       "    </tr>\n",
       "    <tr>\n",
       "        <td>2</td>\n",
       "        <td>3</td>\n",
       "        <td>Re-Barre Construction</td>\n",
       "        <td>9043 Windy Dr</td>\n",
       "        <td>Irving</td>\n",
       "        <td>TX</td>\n",
       "        <td>75032</td>\n",
       "        <td>2015-05-18</td>\n",
       "        <td>2</td>\n",
       "        <td>Aluminum</td>\n",
       "        <td>600</td>\n",
       "        <td>1548.0</td>\n",
       "    </tr>\n",
       "    <tr>\n",
       "        <td>3</td>\n",
       "        <td>3</td>\n",
       "        <td>Re-Barre Construction</td>\n",
       "        <td>9043 Windy Dr</td>\n",
       "        <td>Irving</td>\n",
       "        <td>TX</td>\n",
       "        <td>75032</td>\n",
       "        <td>2015-05-20</td>\n",
       "        <td>5</td>\n",
       "        <td>Bronze</td>\n",
       "        <td>300</td>\n",
       "        <td>1200</td>\n",
       "    </tr>\n",
       "</table>"
      ],
      "text/plain": [
       "[(1, 1, 'LITE Industrial', '729 Ravine Way', 'Irving', 'TX', 75014, '2015-05-15', 1, 'Copper', 450, 3379.5),\n",
       " (None, 2, 'Rex Tooling Inc', '6129 Collie Blvd', 'Dallas', 'TX', 75201, None, None, None, None, None),\n",
       " (5, 3, 'Re-Barre Construction', '9043 Windy Dr', 'Irving', 'TX', 75032, '2015-05-17', 2, 'Aluminum', 500, 1290.0),\n",
       " (2, 3, 'Re-Barre Construction', '9043 Windy Dr', 'Irving', 'TX', 75032, '2015-05-18', 2, 'Aluminum', 600, 1548.0),\n",
       " (3, 3, 'Re-Barre Construction', '9043 Windy Dr', 'Irving', 'TX', 75032, '2015-05-20', 5, 'Bronze', 300, 1200)]"
      ]
     },
     "execution_count": 21,
     "metadata": {},
     "output_type": "execute_result"
    }
   ],
   "source": [
    "%%sql\n",
    "SELECT \n",
    "order_id,                    -- CUSTOMER_ORDER\n",
    "customer.customer_id,        -- CUSTOMER\n",
    "name AS customer_name,       -- CUSTOMER\n",
    "street_address,              -- CUSTOMER\n",
    "city,                        -- CUSTOMER\n",
    "state,                       -- CUSTOMER\n",
    "zip,                         -- CUSTOMER\n",
    "order_date,                  -- CUSTOMER_ORDER\n",
    "product.product_id,          -- PRODUCT\n",
    "description,                 -- PRODUCT\n",
    "order_qty,                   -- CUSTOMER_ORDER\n",
    "order_qty * price as revenue -- CUSTOMER_ORDER, PRODUCT\n",
    "\n",
    "FROM customer LEFT JOIN customer_order\n",
    "ON customer.customer_id = customer_order.customer_id\n",
    "\n",
    "LEFT JOIN product\n",
    "ON customer_order.product_id = product.product_id\n",
    "\n",
    "\n",
    "LIMIT 0,5"
   ]
  },
  {
   "cell_type": "markdown",
   "metadata": {},
   "source": [
    "## 1.6 分组联合\n",
    "\n",
    "还是以上面的查询为例，加入我们想要计算每一个顾客的总收入，我们可以在之前查询的基础上使用 [group by](https://blog.csdn.net/weixin_45488228/article/details/104436653) 子句。为了简便，我们省去了其他的列："
   ]
  },
  {
   "cell_type": "code",
   "execution_count": 47,
   "metadata": {
    "ExecuteTime": {
     "end_time": "2020-03-05T16:19:28.006397Z",
     "start_time": "2020-03-05T16:19:27.986465Z"
    },
    "scrolled": true
   },
   "outputs": [
    {
     "name": "stdout",
     "output_type": "stream",
     "text": [
      " * sqlite:///DataBase/rexon_metals.db\n",
      "Done.\n"
     ]
    },
    {
     "data": {
      "text/html": [
       "<table>\n",
       "    <tr>\n",
       "        <th>CUSTOMER_ID</th>\n",
       "        <th>customer_name</th>\n",
       "        <th>total_revenue</th>\n",
       "    </tr>\n",
       "    <tr>\n",
       "        <td>1</td>\n",
       "        <td>LITE Industrial</td>\n",
       "        <td>3379.5</td>\n",
       "    </tr>\n",
       "    <tr>\n",
       "        <td>3</td>\n",
       "        <td>Re-Barre Construction</td>\n",
       "        <td>4038.0</td>\n",
       "    </tr>\n",
       "    <tr>\n",
       "        <td>5</td>\n",
       "        <td>Marsh Lane Metal Works</td>\n",
       "        <td>4616.25</td>\n",
       "    </tr>\n",
       "</table>"
      ],
      "text/plain": [
       "[(1, 'LITE Industrial', 3379.5),\n",
       " (3, 'Re-Barre Construction', 4038.0),\n",
       " (5, 'Marsh Lane Metal Works', 4616.25)]"
      ]
     },
     "execution_count": 47,
     "metadata": {},
     "output_type": "execute_result"
    }
   ],
   "source": [
    "%%sql\n",
    "select\n",
    "customer.customer_id,\n",
    "name as customer_name,\n",
    "sum(order_qty * price) as total_revenue\n",
    "\n",
    "from customer inner join customer_order\n",
    "on customer.customer_id = customer_order.customer_id\n",
    "\n",
    "inner join product\n",
    "on customer_order.product_id = product.product_id\n",
    "\n",
    "group by 1,2"
   ]
  },
  {
   "cell_type": "markdown",
   "metadata": {},
   "source": [
    "注意到上面的结果中并没有 *Rex Tooling* 和 *Prairie Construction* 两家公司的数据，这是因为它们并没有订单。如果你想要保留着部分缺失值，可以使用 left join："
   ]
  },
  {
   "cell_type": "code",
   "execution_count": 50,
   "metadata": {
    "ExecuteTime": {
     "end_time": "2020-03-05T16:21:59.069480Z",
     "start_time": "2020-03-05T16:21:59.056465Z"
    }
   },
   "outputs": [
    {
     "name": "stdout",
     "output_type": "stream",
     "text": [
      " * sqlite:///DataBase/rexon_metals.db\n",
      "Done.\n"
     ]
    },
    {
     "data": {
      "text/html": [
       "<table>\n",
       "    <tr>\n",
       "        <th>CUSTOMER_ID</th>\n",
       "        <th>customer_name</th>\n",
       "        <th>total_revenue</th>\n",
       "    </tr>\n",
       "    <tr>\n",
       "        <td>1</td>\n",
       "        <td>LITE Industrial</td>\n",
       "        <td>3379.5</td>\n",
       "    </tr>\n",
       "    <tr>\n",
       "        <td>2</td>\n",
       "        <td>Rex Tooling Inc</td>\n",
       "        <td>None</td>\n",
       "    </tr>\n",
       "    <tr>\n",
       "        <td>3</td>\n",
       "        <td>Re-Barre Construction</td>\n",
       "        <td>4038.0</td>\n",
       "    </tr>\n",
       "    <tr>\n",
       "        <td>4</td>\n",
       "        <td>Prairie Construction</td>\n",
       "        <td>None</td>\n",
       "    </tr>\n",
       "    <tr>\n",
       "        <td>5</td>\n",
       "        <td>Marsh Lane Metal Works</td>\n",
       "        <td>4616.25</td>\n",
       "    </tr>\n",
       "</table>"
      ],
      "text/plain": [
       "[(1, 'LITE Industrial', 3379.5),\n",
       " (2, 'Rex Tooling Inc', None),\n",
       " (3, 'Re-Barre Construction', 4038.0),\n",
       " (4, 'Prairie Construction', None),\n",
       " (5, 'Marsh Lane Metal Works', 4616.25)]"
      ]
     },
     "execution_count": 50,
     "metadata": {},
     "output_type": "execute_result"
    }
   ],
   "source": [
    "%%sql\n",
    "select\n",
    "customer.customer_id,\n",
    "name as customer_name,\n",
    "sum(order_qty * price) as total_revenue\n",
    "\n",
    "from customer left join customer_order\n",
    "on customer.customer_id = customer_order.customer_id\n",
    "\n",
    "left join product\n",
    "on customer_order.product_id = product.product_id\n",
    "\n",
    "group by 1,2"
   ]
  },
  {
   "cell_type": "markdown",
   "metadata": {},
   "source": [
    "> 我们对两次联合都使用了 LEFT JOIN 而不是 LEFT JOIN 与 INNER JOIN 混合使用，这是因为 INNER JOIN 会过滤缺失值，而 LEFT JOIN 可以保留缺失值。当我们先使用 LEFT JOIN 并产生缺失值时，如果我们再使用 INNER JOIN，会导致部分缺失值丢失"
   ]
  },
  {
   "cell_type": "markdown",
   "metadata": {},
   "source": [
    "我们在[之前的文章](https://blog.csdn.net/weixin_45488228/article/details/104436653)中提过，sum 函数会对非缺失值的数据进行加总，因此如果你想要在查询结果中保留该公司的总收入为 0 的话，可以使用 coalesce 函数将缺失值替换为 0："
   ]
  },
  {
   "cell_type": "code",
   "execution_count": 51,
   "metadata": {
    "ExecuteTime": {
     "end_time": "2020-03-05T16:22:34.816291Z",
     "start_time": "2020-03-05T16:22:34.799429Z"
    },
    "scrolled": true
   },
   "outputs": [
    {
     "name": "stdout",
     "output_type": "stream",
     "text": [
      " * sqlite:///DataBase/rexon_metals.db\n",
      "Done.\n"
     ]
    },
    {
     "data": {
      "text/html": [
       "<table>\n",
       "    <tr>\n",
       "        <th>CUSTOMER_ID</th>\n",
       "        <th>customer_name</th>\n",
       "        <th>total_revenue</th>\n",
       "    </tr>\n",
       "    <tr>\n",
       "        <td>1</td>\n",
       "        <td>LITE Industrial</td>\n",
       "        <td>3379.5</td>\n",
       "    </tr>\n",
       "    <tr>\n",
       "        <td>2</td>\n",
       "        <td>Rex Tooling Inc</td>\n",
       "        <td>0</td>\n",
       "    </tr>\n",
       "    <tr>\n",
       "        <td>3</td>\n",
       "        <td>Re-Barre Construction</td>\n",
       "        <td>4038.0</td>\n",
       "    </tr>\n",
       "    <tr>\n",
       "        <td>4</td>\n",
       "        <td>Prairie Construction</td>\n",
       "        <td>0</td>\n",
       "    </tr>\n",
       "    <tr>\n",
       "        <td>5</td>\n",
       "        <td>Marsh Lane Metal Works</td>\n",
       "        <td>4616.25</td>\n",
       "    </tr>\n",
       "</table>"
      ],
      "text/plain": [
       "[(1, 'LITE Industrial', 3379.5),\n",
       " (2, 'Rex Tooling Inc', 0),\n",
       " (3, 'Re-Barre Construction', 4038.0),\n",
       " (4, 'Prairie Construction', 0),\n",
       " (5, 'Marsh Lane Metal Works', 4616.25)]"
      ]
     },
     "execution_count": 51,
     "metadata": {},
     "output_type": "execute_result"
    }
   ],
   "source": [
    "%%sql\n",
    "select\n",
    "customer.customer_id,\n",
    "name as customer_name,\n",
    "coalesce(sum(order_qty * price), 0) as total_revenue\n",
    "\n",
    "from customer left join customer_order\n",
    "on customer.customer_id = customer_order.customer_id\n",
    "\n",
    "left join product\n",
    "on customer_order.product_id = product.product_id\n",
    "\n",
    "group by 1,2"
   ]
  },
  {
   "cell_type": "markdown",
   "metadata": {},
   "source": [
    "# 参考资料\n",
    "\n",
    "[1] [Thomas Nield.Getting Started with SQL](https://github.com/X1AOX1A/SQL_Notes/blob/master/getting_started_with_sql/Getting%20Started%20with%20SQL.pdf)[M].US: O’Reilly, 2016: 53-66\n",
    "\n"
   ]
  },
  {
   "cell_type": "markdown",
   "metadata": {},
   "source": [
    "**相关文章：**\n",
    "\n",
    "[SQL | 目录](https://blog.csdn.net/weixin_45488228/article/details/104436708)\n",
    "\n",
    "[SQLite | Select](https://blog.csdn.net/weixin_45488228/article/details/104336824)\n",
    "\n",
    "[SQLite | Where](https://blog.csdn.net/weixin_45488228/article/details/104377915)\n",
    "\n",
    "[SQLite | Group by and Order by](https://blog.csdn.net/weixin_45488228/article/details/104436653)\n",
    "\n",
    "[SQLite | CASE Statements](https://blog.csdn.net/weixin_45488228/article/details/104480537)\n",
    "\n",
    "[SQLite | SQLite 与 Pandas 比较篇之一](https://blog.csdn.net/weixin_45488228/article/details/104450751)"
   ]
  }
 ],
 "metadata": {
  "kernelspec": {
   "display_name": "Python 3",
   "language": "python",
   "name": "python3"
  },
  "language_info": {
   "codemirror_mode": {
    "name": "ipython",
    "version": 3
   },
   "file_extension": ".py",
   "mimetype": "text/x-python",
   "name": "python",
   "nbconvert_exporter": "python",
   "pygments_lexer": "ipython3",
   "version": "3.7.3"
  },
  "toc": {
   "base_numbering": 1,
   "nav_menu": {},
   "number_sections": false,
   "sideBar": true,
   "skip_h1_title": false,
   "title_cell": "Table of Contents",
   "title_sidebar": "Contents",
   "toc_cell": false,
   "toc_position": {
    "height": "calc(100% - 180px)",
    "left": "10px",
    "top": "150px",
    "width": "222.60870361328125px"
   },
   "toc_section_display": true,
   "toc_window_display": false
  },
  "varInspector": {
   "cols": {
    "lenName": 16,
    "lenType": 16,
    "lenVar": 40
   },
   "kernels_config": {
    "python": {
     "delete_cmd_postfix": "",
     "delete_cmd_prefix": "del ",
     "library": "var_list.py",
     "varRefreshCmd": "print(var_dic_list())"
    },
    "r": {
     "delete_cmd_postfix": ") ",
     "delete_cmd_prefix": "rm(",
     "library": "var_list.r",
     "varRefreshCmd": "cat(var_dic_list()) "
    }
   },
   "types_to_exclude": [
    "module",
    "function",
    "builtin_function_or_method",
    "instance",
    "_Feature"
   ],
   "window_display": false
  }
 },
 "nbformat": 4,
 "nbformat_minor": 4
}
