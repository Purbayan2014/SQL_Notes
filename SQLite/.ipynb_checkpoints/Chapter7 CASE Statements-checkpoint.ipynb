{
 "cells": [
  {
   "cell_type": "markdown",
   "metadata": {},
   "source": [
    "**相关文章：**\n",
    "\n",
    "[SQL | 目录](https://blog.csdn.net/weixin_45488228/article/details/104436708)\n",
    "\n",
    "[SQLite | Select](https://blog.csdn.net/weixin_45488228/article/details/104336824)\n",
    "\n",
    "[SQLite | Where](https://blog.csdn.net/weixin_45488228/article/details/104377915)\n",
    "\n",
    "[SQLite | Group by and Order by](https://blog.csdn.net/weixin_45488228/article/details/104436653)"
   ]
  },
  {
   "cell_type": "markdown",
   "metadata": {},
   "source": [
    "# 1. The CASE Statement\n",
    "\n",
    "我们在上一篇中介绍了 [Group by 和 Order by](https://blog.csdn.net/weixin_45488228/article/details/104436653)，\n",
    "接下来我们将使用 CASE 语句为符合不同条件的情况赋值。\n",
    "\n",
    "- 使用Jupyter Notebook 运行 SQL 语句需安装 ipython-sql\n",
    "\n",
    "- %sql 以及 %%sql 为在 Notebook 中运行 SQL 语句，在 SQLite 命令行或 SQLite Stiduo 中不需要 %sql 或 %%sql\n",
    "\n",
    "> 载入 SQL 以及连接 SQLite：\n",
    "\n",
    "> 本文将使用 [weather_stations.db](https://github.com/X1AOX1A/SQL_Notes/blob/master/SQLite/DataBase/weather_stations.db) 数据库，其中包含了 STATION_DATA 表。"
   ]
  },
  {
   "cell_type": "code",
   "execution_count": 1,
   "metadata": {
    "ExecuteTime": {
     "end_time": "2020-02-24T06:14:13.499666Z",
     "start_time": "2020-02-24T06:14:12.840688Z"
    }
   },
   "outputs": [
    {
     "data": {
      "text/plain": [
       "'Connected: @DataBase/weather_stations.db'"
      ]
     },
     "execution_count": 1,
     "metadata": {},
     "output_type": "execute_result"
    }
   ],
   "source": [
    "%load_ext sql\n",
    "%sql sqlite:///DataBase/weather_stations.db"
   ]
  },
  {
   "cell_type": "markdown",
   "metadata": {},
   "source": [
    "## 1.1 The CASE Statement"
   ]
  },
  {
   "cell_type": "markdown",
   "metadata": {},
   "source": [
    "一个 **case** 语句可以让我们让我们为每一个不同的条件语句匹配不同的值。\n",
    "在使用时，你可以以 **case** 开始，以 **end** 结束，在这中间，你能用\n",
    " **where [condiction] then [value]** 的表达来为不同条件赋值。\n",
    "在你指定了不同的 condiction-value 组合后，还可以用 **else** 为没有符合任何条件的\n",
    "值指定一个**默认值**。举个例子，我们可以将 wind_speed 归入 wind_severity 类，大于 40 \n",
    "的为 HIGH，30 至 40 为 MODERATE，其他的都为 LOW："
   ]
  },
  {
   "cell_type": "code",
   "execution_count": 2,
   "metadata": {
    "ExecuteTime": {
     "end_time": "2020-02-24T06:35:57.817609Z",
     "start_time": "2020-02-24T06:35:57.791437Z"
    }
   },
   "outputs": [
    {
     "name": "stdout",
     "output_type": "stream",
     "text": [
      " * sqlite:///DataBase/weather_stations.db\n",
      "Done.\n"
     ]
    },
    {
     "data": {
      "text/html": [
       "<table>\n",
       "    <tr>\n",
       "        <th>report_code</th>\n",
       "        <th>year</th>\n",
       "        <th>month</th>\n",
       "        <th>day</th>\n",
       "        <th>wind_speed</th>\n",
       "        <th>wind_severity</th>\n",
       "    </tr>\n",
       "    <tr>\n",
       "        <td>34DDA7</td>\n",
       "        <td>2002</td>\n",
       "        <td>12</td>\n",
       "        <td>21</td>\n",
       "        <td>0.2</td>\n",
       "        <td>LOW</td>\n",
       "    </tr>\n",
       "    <tr>\n",
       "        <td>39537B</td>\n",
       "        <td>1998</td>\n",
       "        <td>10</td>\n",
       "        <td>1</td>\n",
       "        <td>6.7</td>\n",
       "        <td>LOW</td>\n",
       "    </tr>\n",
       "    <tr>\n",
       "        <td>C3C6D5</td>\n",
       "        <td>2001</td>\n",
       "        <td>5</td>\n",
       "        <td>18</td>\n",
       "        <td>4.3</td>\n",
       "        <td>LOW</td>\n",
       "    </tr>\n",
       "    <tr>\n",
       "        <td>145150</td>\n",
       "        <td>2007</td>\n",
       "        <td>10</td>\n",
       "        <td>14</td>\n",
       "        <td>2.5</td>\n",
       "        <td>LOW</td>\n",
       "    </tr>\n",
       "    <tr>\n",
       "        <td>EF616A</td>\n",
       "        <td>1967</td>\n",
       "        <td>7</td>\n",
       "        <td>29</td>\n",
       "        <td>1.2</td>\n",
       "        <td>LOW</td>\n",
       "    </tr>\n",
       "</table>"
      ],
      "text/plain": [
       "[('34DDA7', 2002, 12, 21, 0.2, 'LOW'),\n",
       " ('39537B', 1998, 10, 1, 6.7, 'LOW'),\n",
       " ('C3C6D5', 2001, 5, 18, 4.3, 'LOW'),\n",
       " ('145150', 2007, 10, 14, 2.5, 'LOW'),\n",
       " ('EF616A', 1967, 7, 29, 1.2, 'LOW')]"
      ]
     },
     "execution_count": 2,
     "metadata": {},
     "output_type": "execute_result"
    }
   ],
   "source": [
    "%%sql\n",
    "select report_code, year, month, day, wind_speed,\n",
    "case\n",
    "    when wind_speed >= 40 then 'HIGH'\n",
    "    when wind_speed >= 30 and wind_speed < 40 then 'MODERATE'\n",
    "    else 'LOW'\n",
    "end as wind_severity\n",
    "from station_data\n",
    "limit 0,5;"
   ]
  },
  {
   "cell_type": "markdown",
   "metadata": {},
   "source": [
    "事实上，我们可以忽略 **AND wind_speed < 40** 这个条件，因为 sql 从上至下读取 case 语句，\n",
    "那些符合 **wind_speed >= 40** 的记录已经被赋值为 HIGH 并且不再进行第二个条件的判断了，\n",
    "所以能够到达第二个条件语句的记录必然是 **wind_speed < 40*** 的，因此可以简写为："
   ]
  },
  {
   "cell_type": "code",
   "execution_count": 3,
   "metadata": {
    "ExecuteTime": {
     "end_time": "2020-02-24T06:40:30.336227Z",
     "start_time": "2020-02-24T06:40:30.321305Z"
    }
   },
   "outputs": [
    {
     "name": "stdout",
     "output_type": "stream",
     "text": [
      " * sqlite:///DataBase/weather_stations.db\n",
      "Done.\n"
     ]
    },
    {
     "data": {
      "text/html": [
       "<table>\n",
       "    <tr>\n",
       "        <th>report_code</th>\n",
       "        <th>year</th>\n",
       "        <th>month</th>\n",
       "        <th>day</th>\n",
       "        <th>wind_speed</th>\n",
       "        <th>wind_severity</th>\n",
       "    </tr>\n",
       "    <tr>\n",
       "        <td>34DDA7</td>\n",
       "        <td>2002</td>\n",
       "        <td>12</td>\n",
       "        <td>21</td>\n",
       "        <td>0.2</td>\n",
       "        <td>LOW</td>\n",
       "    </tr>\n",
       "    <tr>\n",
       "        <td>39537B</td>\n",
       "        <td>1998</td>\n",
       "        <td>10</td>\n",
       "        <td>1</td>\n",
       "        <td>6.7</td>\n",
       "        <td>LOW</td>\n",
       "    </tr>\n",
       "    <tr>\n",
       "        <td>C3C6D5</td>\n",
       "        <td>2001</td>\n",
       "        <td>5</td>\n",
       "        <td>18</td>\n",
       "        <td>4.3</td>\n",
       "        <td>LOW</td>\n",
       "    </tr>\n",
       "    <tr>\n",
       "        <td>145150</td>\n",
       "        <td>2007</td>\n",
       "        <td>10</td>\n",
       "        <td>14</td>\n",
       "        <td>2.5</td>\n",
       "        <td>LOW</td>\n",
       "    </tr>\n",
       "    <tr>\n",
       "        <td>EF616A</td>\n",
       "        <td>1967</td>\n",
       "        <td>7</td>\n",
       "        <td>29</td>\n",
       "        <td>1.2</td>\n",
       "        <td>LOW</td>\n",
       "    </tr>\n",
       "</table>"
      ],
      "text/plain": [
       "[('34DDA7', 2002, 12, 21, 0.2, 'LOW'),\n",
       " ('39537B', 1998, 10, 1, 6.7, 'LOW'),\n",
       " ('C3C6D5', 2001, 5, 18, 4.3, 'LOW'),\n",
       " ('145150', 2007, 10, 14, 2.5, 'LOW'),\n",
       " ('EF616A', 1967, 7, 29, 1.2, 'LOW')]"
      ]
     },
     "execution_count": 3,
     "metadata": {},
     "output_type": "execute_result"
    }
   ],
   "source": [
    "%%sql\n",
    "select report_code, year, month, day, wind_speed,\n",
    "case\n",
    "    when wind_speed >= 40 then 'HIGH'\n",
    "    when wind_speed >= 30 then 'MODERATE'\n",
    "    else 'LOW'\n",
    "end as wind_severity\n",
    "from station_data\n",
    "limit 0,5;"
   ]
  },
  {
   "cell_type": "markdown",
   "metadata": {},
   "source": [
    "当你创建 **case** 语句时，还可以同时做一些强大的转换。如使用 **group by** 语句对数据进行分组："
   ]
  },
  {
   "cell_type": "code",
   "execution_count": 8,
   "metadata": {
    "ExecuteTime": {
     "end_time": "2020-02-24T06:49:38.150884Z",
     "start_time": "2020-02-24T06:49:38.079686Z"
    }
   },
   "outputs": [
    {
     "name": "stdout",
     "output_type": "stream",
     "text": [
      " * sqlite:///DataBase/weather_stations.db\n",
      "Done.\n"
     ]
    },
    {
     "data": {
      "text/html": [
       "<table>\n",
       "    <tr>\n",
       "        <th>year</th>\n",
       "        <th>wind_severity</th>\n",
       "        <th>record_count</th>\n",
       "    </tr>\n",
       "    <tr>\n",
       "        <td>1930</td>\n",
       "        <td>LOW</td>\n",
       "        <td>5</td>\n",
       "    </tr>\n",
       "    <tr>\n",
       "        <td>1932</td>\n",
       "        <td>LOW</td>\n",
       "        <td>3</td>\n",
       "    </tr>\n",
       "    <tr>\n",
       "        <td>1933</td>\n",
       "        <td>LOW</td>\n",
       "        <td>6</td>\n",
       "    </tr>\n",
       "    <tr>\n",
       "        <td>1935</td>\n",
       "        <td>LOW</td>\n",
       "        <td>2</td>\n",
       "    </tr>\n",
       "    <tr>\n",
       "        <td>1936</td>\n",
       "        <td>LOW</td>\n",
       "        <td>18</td>\n",
       "    </tr>\n",
       "</table>"
      ],
      "text/plain": [
       "[(1930, 'LOW', 5),\n",
       " (1932, 'LOW', 3),\n",
       " (1933, 'LOW', 6),\n",
       " (1935, 'LOW', 2),\n",
       " (1936, 'LOW', 18)]"
      ]
     },
     "execution_count": 8,
     "metadata": {},
     "output_type": "execute_result"
    }
   ],
   "source": [
    "%%sql\n",
    "select year,\n",
    "case\n",
    "    when wind_speed >= 40 then 'HIGH'\n",
    "    when wind_speed >= 30 then 'MODERATE'\n",
    "    else 'LOW'\n",
    "end as wind_severity,\n",
    "count(*) as record_count\n",
    "from station_data\n",
    "group by 1,2\n",
    "limit 0,5;"
   ]
  },
  {
   "cell_type": "markdown",
   "metadata": {},
   "source": [
    "## 1.2 The “Zero/Null” CASE Trick"
   ]
  },
  {
   "cell_type": "markdown",
   "metadata": {},
   "source": [
    "在使用 **case** 语句时，还有一些奇技淫巧，如 **\"zero/null\" CASE** 技巧，让你能够\n",
    "在一个 select 语句内实现在不同的聚合值上进行分组，这是你使用 where 所无法达到的。\n",
    "因为 where 只能够在所有值上判断同一个条件，而 case 能够每一种聚合值创建不同的条件语句。\n",
    "\n",
    "假如说你想要将总降雨量 precipitation 分为两列：有龙卷风时的总降雨量（tornado_precipitation）\n",
    "和没有龙卷风时的总降雨量（non_tornado_precipitation），然后按年月分组。这个逻辑需要用到两列数据：\n",
    "precipitation 和 tornado，但是你会怎么编写代码呢？\n",
    "\n",
    "如果让你写的话，你就会发现无法在一个 where 语句中完成，除非将它们拆分为两个 where语句，一个是\n",
    "有龙卷风的，一个是没有龙卷风的："
   ]
  },
  {
   "cell_type": "code",
   "execution_count": 59,
   "metadata": {
    "ExecuteTime": {
     "end_time": "2020-02-24T08:35:08.715982Z",
     "start_time": "2020-02-24T08:35:08.694515Z"
    },
    "scrolled": true
   },
   "outputs": [
    {
     "name": "stdout",
     "output_type": "stream",
     "text": [
      " * sqlite:///DataBase/weather_stations.db\n",
      "Done.\n"
     ]
    },
    {
     "data": {
      "text/html": [
       "<table>\n",
       "    <tr>\n",
       "        <th>year</th>\n",
       "        <th>month</th>\n",
       "        <th>tornado_precipitation</th>\n",
       "    </tr>\n",
       "    <tr>\n",
       "        <td>1937</td>\n",
       "        <td>7</td>\n",
       "        <td>None</td>\n",
       "    </tr>\n",
       "    <tr>\n",
       "        <td>1941</td>\n",
       "        <td>8</td>\n",
       "        <td>0.30000000000000004</td>\n",
       "    </tr>\n",
       "    <tr>\n",
       "        <td>1942</td>\n",
       "        <td>10</td>\n",
       "        <td>0</td>\n",
       "    </tr>\n",
       "    <tr>\n",
       "        <td>1943</td>\n",
       "        <td>1</td>\n",
       "        <td>None</td>\n",
       "    </tr>\n",
       "    <tr>\n",
       "        <td>1943</td>\n",
       "        <td>4</td>\n",
       "        <td>0.15000000000000002</td>\n",
       "    </tr>\n",
       "</table>"
      ],
      "text/plain": [
       "[(1937, 7, None),\n",
       " (1941, 8, 0.30000000000000004),\n",
       " (1942, 10, 0),\n",
       " (1943, 1, None),\n",
       " (1943, 4, 0.15000000000000002)]"
      ]
     },
     "execution_count": 59,
     "metadata": {},
     "output_type": "execute_result"
    }
   ],
   "source": [
    "%%sql\n",
    "select year, month,\n",
    "sum(precipitation) as tornado_precipitation\n",
    "from station_data\n",
    "where tornado == 1\n",
    "group by year, month\n",
    "limit 0, 5;"
   ]
  },
  {
   "cell_type": "code",
   "execution_count": 58,
   "metadata": {
    "ExecuteTime": {
     "end_time": "2020-02-24T08:35:02.213741Z",
     "start_time": "2020-02-24T08:35:02.161550Z"
    }
   },
   "outputs": [
    {
     "name": "stdout",
     "output_type": "stream",
     "text": [
      " * sqlite:///DataBase/weather_stations.db\n",
      "Done.\n"
     ]
    },
    {
     "data": {
      "text/html": [
       "<table>\n",
       "    <tr>\n",
       "        <th>year</th>\n",
       "        <th>month</th>\n",
       "        <th>non_tornado_precipitation</th>\n",
       "    </tr>\n",
       "    <tr>\n",
       "        <td>1930</td>\n",
       "        <td>6</td>\n",
       "        <td>0</td>\n",
       "    </tr>\n",
       "    <tr>\n",
       "        <td>1930</td>\n",
       "        <td>10</td>\n",
       "        <td>None</td>\n",
       "    </tr>\n",
       "    <tr>\n",
       "        <td>1932</td>\n",
       "        <td>3</td>\n",
       "        <td>0</td>\n",
       "    </tr>\n",
       "    <tr>\n",
       "        <td>1933</td>\n",
       "        <td>3</td>\n",
       "        <td>0</td>\n",
       "    </tr>\n",
       "    <tr>\n",
       "        <td>1933</td>\n",
       "        <td>7</td>\n",
       "        <td>None</td>\n",
       "    </tr>\n",
       "</table>"
      ],
      "text/plain": [
       "[(1930, 6, 0), (1930, 10, None), (1932, 3, 0), (1933, 3, 0), (1933, 7, None)]"
      ]
     },
     "execution_count": 58,
     "metadata": {},
     "output_type": "execute_result"
    }
   ],
   "source": [
    "%%sql\n",
    "select year, month,\n",
    "sum(precipitation) as non_tornado_precipitation\n",
    "from station_data\n",
    "where tornado == 0\n",
    "group by year, month\n",
    "limit 0, 5;"
   ]
  },
  {
   "cell_type": "markdown",
   "metadata": {
    "ExecuteTime": {
     "end_time": "2020-02-24T07:32:27.230708Z",
     "start_time": "2020-02-24T07:32:27.220546Z"
    }
   },
   "source": [
    "然而我们可以用一个 case 语句将这两个查询合并为一个，你可以将判断是否有龙卷风的语句从\n",
    "where 移到 case，并为*不符合条件的赋值为 0*，然后使用 sum 就可以了："
   ]
  },
  {
   "cell_type": "markdown",
   "metadata": {},
   "source": [
    "> 我们在使用 sum 聚合语句时，通过使不符合条件的值为 0 ，从而让它不被算入 sum（因为加一个 0 相当于没加）"
   ]
  },
  {
   "cell_type": "code",
   "execution_count": 57,
   "metadata": {
    "ExecuteTime": {
     "end_time": "2020-02-24T08:34:56.431498Z",
     "start_time": "2020-02-24T08:34:56.363684Z"
    }
   },
   "outputs": [
    {
     "name": "stdout",
     "output_type": "stream",
     "text": [
      " * sqlite:///DataBase/weather_stations.db\n",
      "Done.\n"
     ]
    },
    {
     "data": {
      "text/html": [
       "<table>\n",
       "    <tr>\n",
       "        <th>year</th>\n",
       "        <th>month</th>\n",
       "        <th>tornado_precipitation</th>\n",
       "        <th>non_tornado_precipitation</th>\n",
       "    </tr>\n",
       "    <tr>\n",
       "        <td>1930</td>\n",
       "        <td>6</td>\n",
       "        <td>0</td>\n",
       "        <td>0</td>\n",
       "    </tr>\n",
       "    <tr>\n",
       "        <td>1930</td>\n",
       "        <td>10</td>\n",
       "        <td>0</td>\n",
       "        <td>None</td>\n",
       "    </tr>\n",
       "    <tr>\n",
       "        <td>1932</td>\n",
       "        <td>3</td>\n",
       "        <td>0</td>\n",
       "        <td>0</td>\n",
       "    </tr>\n",
       "    <tr>\n",
       "        <td>1933</td>\n",
       "        <td>3</td>\n",
       "        <td>0</td>\n",
       "        <td>0</td>\n",
       "    </tr>\n",
       "    <tr>\n",
       "        <td>1933</td>\n",
       "        <td>7</td>\n",
       "        <td>0</td>\n",
       "        <td>None</td>\n",
       "    </tr>\n",
       "</table>"
      ],
      "text/plain": [
       "[(1930, 6, 0, 0),\n",
       " (1930, 10, 0, None),\n",
       " (1932, 3, 0, 0),\n",
       " (1933, 3, 0, 0),\n",
       " (1933, 7, 0, None)]"
      ]
     },
     "execution_count": 57,
     "metadata": {},
     "output_type": "execute_result"
    }
   ],
   "source": [
    "%%sql\n",
    "select year, month, \n",
    "sum(case when tornado == 1 then precipitation else 0 end) \n",
    "    as tornado_precipitation,\n",
    "sum(case when tornado == 0 then precipitation else 0 end) \n",
    "    as non_tornado_precipitation\n",
    "from station_data\n",
    "group by year, month\n",
    "limit 0,5;"
   ]
  },
  {
   "cell_type": "markdown",
   "metadata": {},
   "source": [
    "case 语句还可以做一些更复杂的聚合任务，如在使用 **min** 或 **max** 操作时，\n",
    "可以使用 null 值来代替那些不符合条件的值（而不是 0）。如我们可以找出在有无龙卷风条件下的年最大降雨量："
   ]
  },
  {
   "cell_type": "code",
   "execution_count": 40,
   "metadata": {
    "ExecuteTime": {
     "end_time": "2020-02-24T08:32:54.138103Z",
     "start_time": "2020-02-24T08:32:54.091115Z"
    }
   },
   "outputs": [
    {
     "name": "stdout",
     "output_type": "stream",
     "text": [
      " * sqlite:///DataBase/weather_stations.db\n",
      "Done.\n"
     ]
    },
    {
     "data": {
      "text/html": [
       "<table>\n",
       "    <tr>\n",
       "        <th>year</th>\n",
       "        <th>max_non_tornado_precipitation</th>\n",
       "        <th>max_tornado_precipitation</th>\n",
       "    </tr>\n",
       "    <tr>\n",
       "        <td>1992</td>\n",
       "        <td>1.5</td>\n",
       "        <td>1.51</td>\n",
       "    </tr>\n",
       "    <tr>\n",
       "        <td>1993</td>\n",
       "        <td>1.18</td>\n",
       "        <td>2.13</td>\n",
       "    </tr>\n",
       "    <tr>\n",
       "        <td>1994</td>\n",
       "        <td>1.26</td>\n",
       "        <td>1.16</td>\n",
       "    </tr>\n",
       "    <tr>\n",
       "        <td>1995</td>\n",
       "        <td>0.91</td>\n",
       "        <td>0.35</td>\n",
       "    </tr>\n",
       "    <tr>\n",
       "        <td>1996</td>\n",
       "        <td>3.31</td>\n",
       "        <td>0.68</td>\n",
       "    </tr>\n",
       "</table>"
      ],
      "text/plain": [
       "[(1992, 1.5, 1.51),\n",
       " (1993, 1.18, 2.13),\n",
       " (1994, 1.26, 1.16),\n",
       " (1995, 0.91, 0.35),\n",
       " (1996, 3.31, 0.68)]"
      ]
     },
     "execution_count": 40,
     "metadata": {},
     "output_type": "execute_result"
    }
   ],
   "source": [
    "%%sql\n",
    "select year,\n",
    "max(case when tornado==0 then precipitation else null end) \n",
    "    as max_non_tornado_precipitation,\n",
    "max(case when tornado==1 then precipitation else null end)\n",
    "    as max_tornado_precipitation\n",
    "from station_data\n",
    "group by year\n",
    "limit 5 OFFSET 60;"
   ]
  },
  {
   "cell_type": "markdown",
   "metadata": {},
   "source": [
    "就像 where 子句一样，你可以在 case 子句中使用布尔表达式（包含 **and, or, not**）。\n",
    "\n",
    "你可以使用以下代码来查询 2000 年后有[下雨或冰雹]时每个月的平均气温："
   ]
  },
  {
   "cell_type": "code",
   "execution_count": 60,
   "metadata": {
    "ExecuteTime": {
     "end_time": "2020-02-24T08:46:41.213186Z",
     "start_time": "2020-02-24T08:46:41.189980Z"
    },
    "scrolled": true
   },
   "outputs": [
    {
     "name": "stdout",
     "output_type": "stream",
     "text": [
      " * sqlite:///DataBase/weather_stations.db\n",
      "Done.\n"
     ]
    },
    {
     "data": {
      "text/html": [
       "<table>\n",
       "    <tr>\n",
       "        <th>month</th>\n",
       "        <th>avg_precipitation_temp</th>\n",
       "        <th>avg_non_precipitation_temp</th>\n",
       "    </tr>\n",
       "    <tr>\n",
       "        <td>1</td>\n",
       "        <td>35.624242424242425</td>\n",
       "        <td>41.794149908592324</td>\n",
       "    </tr>\n",
       "    <tr>\n",
       "        <td>2</td>\n",
       "        <td>33.802439024390246</td>\n",
       "        <td>38.9016233766234</td>\n",
       "    </tr>\n",
       "    <tr>\n",
       "        <td>3</td>\n",
       "        <td>46.61333333333332</td>\n",
       "        <td>49.22558823529411</td>\n",
       "    </tr>\n",
       "    <tr>\n",
       "        <td>4</td>\n",
       "        <td>49.02916666666667</td>\n",
       "        <td>52.33038194444437</td>\n",
       "    </tr>\n",
       "    <tr>\n",
       "        <td>5</td>\n",
       "        <td>55.89777777777778</td>\n",
       "        <td>58.90691489361702</td>\n",
       "    </tr>\n",
       "</table>"
      ],
      "text/plain": [
       "[(1, 35.624242424242425, 41.794149908592324),\n",
       " (2, 33.802439024390246, 38.9016233766234),\n",
       " (3, 46.61333333333332, 49.22558823529411),\n",
       " (4, 49.02916666666667, 52.33038194444437),\n",
       " (5, 55.89777777777778, 58.90691489361702)]"
      ]
     },
     "execution_count": 60,
     "metadata": {},
     "output_type": "execute_result"
    }
   ],
   "source": [
    "%%sql\n",
    "select month,\n",
    "avg(case when rain or hail then temperature else null end)\n",
    "    as avg_precipitation_temp,\n",
    "avg(case when NOT (rain or hail) then temperature else null end)\n",
    "    as avg_non_precipitation_temp\n",
    "from station_data\n",
    "where year > 2000\n",
    "group by month\n",
    "limit 0,5;"
   ]
  },
  {
   "cell_type": "markdown",
   "metadata": {},
   "source": [
    "# 参考资料\n",
    "\n",
    "[1] [Thomas Nield.Getting Started with SQL](https://github.com/X1AOX1A/SQL_Notes/blob/master/getting_started_with_sql/Getting%20Started%20with%20SQL.pdf)[M].US: O’Reilly, 2016: 47-52\n"
   ]
  }
 ],
 "metadata": {
  "kernelspec": {
   "display_name": "Python 3",
   "language": "python",
   "name": "python3"
  },
  "language_info": {
   "codemirror_mode": {
    "name": "ipython",
    "version": 3
   },
   "file_extension": ".py",
   "mimetype": "text/x-python",
   "name": "python",
   "nbconvert_exporter": "python",
   "pygments_lexer": "ipython3",
   "version": "3.7.3"
  },
  "toc": {
   "base_numbering": 1,
   "nav_menu": {},
   "number_sections": false,
   "sideBar": true,
   "skip_h1_title": false,
   "title_cell": "Table of Contents",
   "title_sidebar": "Contents",
   "toc_cell": false,
   "toc_position": {},
   "toc_section_display": true,
   "toc_window_display": true
  },
  "varInspector": {
   "cols": {
    "lenName": 16,
    "lenType": 16,
    "lenVar": 40
   },
   "kernels_config": {
    "python": {
     "delete_cmd_postfix": "",
     "delete_cmd_prefix": "del ",
     "library": "var_list.py",
     "varRefreshCmd": "print(var_dic_list())"
    },
    "r": {
     "delete_cmd_postfix": ") ",
     "delete_cmd_prefix": "rm(",
     "library": "var_list.r",
     "varRefreshCmd": "cat(var_dic_list()) "
    }
   },
   "types_to_exclude": [
    "module",
    "function",
    "builtin_function_or_method",
    "instance",
    "_Feature"
   ],
   "window_display": false
  }
 },
 "nbformat": 4,
 "nbformat_minor": 4
}
