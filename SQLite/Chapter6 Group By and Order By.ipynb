{
 "cells": [
  {
   "cell_type": "markdown",
   "metadata": {},
   "source": [
    "# 1. Group by and Order by\n",
    "\n",
    "我们在上一篇中介绍了 [Where 子句](https://blog.csdn.net/weixin_45488228/article/details/104377915)，接下来我们将使用 Group by 和 Order by 子句，对数据进行聚合和排序。\n",
    "\n",
    "- 使用Jupyter Notebook 运行 SQL 语句需安装 ipython-sql\n",
    "\n",
    "- %sql 以及 %%sql 为在 Notebook 中运行 SQL 语句，在 SQLite 命令行或 SQLite Stiduo 中不需要 %sql 或 %%sql\n",
    "\n",
    "载入 SQL 以及连接 SQLite："
   ]
  },
  {
   "cell_type": "code",
   "execution_count": 1,
   "metadata": {
    "ExecuteTime": {
     "end_time": "2020-02-20T07:52:11.915117Z",
     "start_time": "2020-02-20T07:52:10.974225Z"
    }
   },
   "outputs": [
    {
     "data": {
      "text/plain": [
       "'Connected: @DataBase/weather_stations.db'"
      ]
     },
     "execution_count": 1,
     "metadata": {},
     "output_type": "execute_result"
    }
   ],
   "source": [
    "%load_ext sql\n",
    "%sql sqlite:///DataBase/weather_stations.db"
   ]
  },
  {
   "cell_type": "markdown",
   "metadata": {},
   "source": [
    "本文将使用 [weather_stations.db](https://github.com/X1AOX1A/SQL_Notes/blob/master/SQLite/DataBase/weather_stations.db) 数据库，其中包含了 STATION_DATA 表。\n",
    "\n",
    "首先查看 STATION_DATA 表中的数据："
   ]
  },
  {
   "cell_type": "code",
   "execution_count": 3,
   "metadata": {
    "ExecuteTime": {
     "end_time": "2020-02-20T08:01:28.381699Z",
     "start_time": "2020-02-20T08:01:28.173175Z"
    }
   },
   "outputs": [
    {
     "name": "stdout",
     "output_type": "stream",
     "text": [
      " * sqlite:///DataBase/weather_stations.db\n",
      "Done.\n"
     ]
    },
    {
     "data": {
      "text/html": [
       "<table>\n",
       "    <tr>\n",
       "        <th>station_number</th>\n",
       "        <th>report_code</th>\n",
       "        <th>year</th>\n",
       "        <th>month</th>\n",
       "        <th>day</th>\n",
       "        <th>dew_point</th>\n",
       "        <th>station_pressure</th>\n",
       "        <th>visibility</th>\n",
       "        <th>wind_speed</th>\n",
       "        <th>temperature</th>\n",
       "        <th>precipitation</th>\n",
       "        <th>snow_depth</th>\n",
       "        <th>fog</th>\n",
       "        <th>rain</th>\n",
       "        <th>hail</th>\n",
       "        <th>thunder</th>\n",
       "        <th>tornado</th>\n",
       "    </tr>\n",
       "    <tr>\n",
       "        <td>143080</td>\n",
       "        <td>34DDA7</td>\n",
       "        <td>2002</td>\n",
       "        <td>12</td>\n",
       "        <td>21</td>\n",
       "        <td>33.8</td>\n",
       "        <td>987.4</td>\n",
       "        <td>3.4</td>\n",
       "        <td>0.2</td>\n",
       "        <td>36</td>\n",
       "        <td>0</td>\n",
       "        <td>None</td>\n",
       "        <td>1</td>\n",
       "        <td>1</td>\n",
       "        <td>1</td>\n",
       "        <td>1</td>\n",
       "        <td>1</td>\n",
       "    </tr>\n",
       "    <tr>\n",
       "        <td>766440</td>\n",
       "        <td>39537B</td>\n",
       "        <td>1998</td>\n",
       "        <td>10</td>\n",
       "        <td>1</td>\n",
       "        <td>72.7</td>\n",
       "        <td>1014.6</td>\n",
       "        <td>5.9</td>\n",
       "        <td>6.7</td>\n",
       "        <td>83.3</td>\n",
       "        <td>0</td>\n",
       "        <td>None</td>\n",
       "        <td>0</td>\n",
       "        <td>0</td>\n",
       "        <td>0</td>\n",
       "        <td>0</td>\n",
       "        <td>0</td>\n",
       "    </tr>\n",
       "    <tr>\n",
       "        <td>176010</td>\n",
       "        <td>C3C6D5</td>\n",
       "        <td>2001</td>\n",
       "        <td>5</td>\n",
       "        <td>18</td>\n",
       "        <td>55.7</td>\n",
       "        <td>None</td>\n",
       "        <td>7.3</td>\n",
       "        <td>4.3</td>\n",
       "        <td>69.1</td>\n",
       "        <td>0</td>\n",
       "        <td>None</td>\n",
       "        <td>0</td>\n",
       "        <td>0</td>\n",
       "        <td>0</td>\n",
       "        <td>0</td>\n",
       "        <td>0</td>\n",
       "    </tr>\n",
       "    <tr>\n",
       "        <td>125600</td>\n",
       "        <td>145150</td>\n",
       "        <td>2007</td>\n",
       "        <td>10</td>\n",
       "        <td>14</td>\n",
       "        <td>33</td>\n",
       "        <td>None</td>\n",
       "        <td>6.9</td>\n",
       "        <td>2.5</td>\n",
       "        <td>39.7</td>\n",
       "        <td>0</td>\n",
       "        <td>None</td>\n",
       "        <td>0</td>\n",
       "        <td>0</td>\n",
       "        <td>0</td>\n",
       "        <td>0</td>\n",
       "        <td>0</td>\n",
       "    </tr>\n",
       "    <tr>\n",
       "        <td>470160</td>\n",
       "        <td>EF616A</td>\n",
       "        <td>1967</td>\n",
       "        <td>7</td>\n",
       "        <td>29</td>\n",
       "        <td>65.6</td>\n",
       "        <td>None</td>\n",
       "        <td>9.2</td>\n",
       "        <td>1.2</td>\n",
       "        <td>72.4</td>\n",
       "        <td>0.04</td>\n",
       "        <td>None</td>\n",
       "        <td>0</td>\n",
       "        <td>0</td>\n",
       "        <td>0</td>\n",
       "        <td>0</td>\n",
       "        <td>0</td>\n",
       "    </tr>\n",
       "</table>"
      ],
      "text/plain": [
       "[(143080, '34DDA7', 2002, 12, 21, 33.8, 987.4, 3.4, 0.2, 36, 0, None, 1, 1, 1, 1, 1),\n",
       " (766440, '39537B', 1998, 10, 1, 72.7, 1014.6, 5.9, 6.7, 83.3, 0, None, 0, 0, 0, 0, 0),\n",
       " (176010, 'C3C6D5', 2001, 5, 18, 55.7, None, 7.3, 4.3, 69.1, 0, None, 0, 0, 0, 0, 0),\n",
       " (125600, '145150', 2007, 10, 14, 33, None, 6.9, 2.5, 39.7, 0, None, 0, 0, 0, 0, 0),\n",
       " (470160, 'EF616A', 1967, 7, 29, 65.6, None, 9.2, 1.2, 72.4, 0.04, None, 0, 0, 0, 0, 0)]"
      ]
     },
     "execution_count": 3,
     "metadata": {},
     "output_type": "execute_result"
    }
   ],
   "source": [
    "%sql select * from station_data limit 0,5; -- 筛选前五行"
   ]
  },
  {
   "cell_type": "markdown",
   "metadata": {},
   "source": [
    "## 1.1 Group Records\n",
    "\n",
    "首先从最简单的聚合方法开始：计数："
   ]
  },
  {
   "cell_type": "code",
   "execution_count": 4,
   "metadata": {
    "ExecuteTime": {
     "end_time": "2020-02-20T08:04:49.279216Z",
     "start_time": "2020-02-20T08:04:49.150210Z"
    }
   },
   "outputs": [
    {
     "name": "stdout",
     "output_type": "stream",
     "text": [
      " * sqlite:///DataBase/weather_stations.db\n",
      "Done.\n"
     ]
    },
    {
     "data": {
      "text/html": [
       "<table>\n",
       "    <tr>\n",
       "        <th>record_cound</th>\n",
       "    </tr>\n",
       "    <tr>\n",
       "        <td>28000</td>\n",
       "    </tr>\n",
       "</table>"
      ],
      "text/plain": [
       "[(28000,)]"
      ]
     },
     "execution_count": 4,
     "metadata": {},
     "output_type": "execute_result"
    }
   ],
   "source": [
    "%%sql\n",
    "select count(*) as record_cound from station_data;"
   ]
  },
  {
   "cell_type": "markdown",
   "metadata": {},
   "source": [
    "**count(*)** 意味着计算记录的长度，你也可以和其他 SQL 操作符结合起来使用，比如 **where**，我们可以这样计算 tornado 出现的次数："
   ]
  },
  {
   "cell_type": "code",
   "execution_count": 6,
   "metadata": {
    "ExecuteTime": {
     "end_time": "2020-02-20T08:08:10.977608Z",
     "start_time": "2020-02-20T08:08:10.815142Z"
    }
   },
   "outputs": [
    {
     "name": "stdout",
     "output_type": "stream",
     "text": [
      " * sqlite:///DataBase/weather_stations.db\n",
      "Done.\n"
     ]
    },
    {
     "data": {
      "text/html": [
       "<table>\n",
       "    <tr>\n",
       "        <th>record_count</th>\n",
       "    </tr>\n",
       "    <tr>\n",
       "        <td>3000</td>\n",
       "    </tr>\n",
       "</table>"
      ],
      "text/plain": [
       "[(3000,)]"
      ]
     },
     "execution_count": 6,
     "metadata": {},
     "output_type": "execute_result"
    }
   ],
   "source": [
    "%%sql\n",
    "select count(*) as record_count from station_data\n",
    "where tornado == 1;"
   ]
  },
  {
   "cell_type": "markdown",
   "metadata": {},
   "source": [
    "我们找到了 3000 条包含 tornado 的记录，但如果我们想要按年计数呢？我们可以这样写："
   ]
  },
  {
   "cell_type": "code",
   "execution_count": 11,
   "metadata": {
    "ExecuteTime": {
     "end_time": "2020-02-20T08:16:11.778602Z",
     "start_time": "2020-02-20T08:16:11.726287Z"
    }
   },
   "outputs": [
    {
     "name": "stdout",
     "output_type": "stream",
     "text": [
      " * sqlite:///DataBase/weather_stations.db\n",
      "Done.\n"
     ]
    },
    {
     "data": {
      "text/html": [
       "<table>\n",
       "    <tr>\n",
       "        <th>year</th>\n",
       "        <th>record_count</th>\n",
       "    </tr>\n",
       "    <tr>\n",
       "        <td>1937</td>\n",
       "        <td>3</td>\n",
       "    </tr>\n",
       "    <tr>\n",
       "        <td>1941</td>\n",
       "        <td>3</td>\n",
       "    </tr>\n",
       "    <tr>\n",
       "        <td>1942</td>\n",
       "        <td>3</td>\n",
       "    </tr>\n",
       "</table>"
      ],
      "text/plain": [
       "[(1937, 3), (1941, 3), (1942, 3)]"
      ]
     },
     "execution_count": 11,
     "metadata": {},
     "output_type": "execute_result"
    }
   ],
   "source": [
    "%%sql\n",
    "select year, \n",
    "count(*) as record_count \n",
    "from station_data\n",
    "where tornado == 1\n",
    "group by year\n",
    "limit 0,3; -- 只展示前三条"
   ]
  },
  {
   "cell_type": "markdown",
   "metadata": {},
   "source": [
    "我们现在可以看到每年的计数，让我们拆分下这个查询来看看怎么执行的：\n",
    "\n",
    "```  SQL\n",
    "select year,              -- 1. 首先，我们选择了 year（select year）\n",
    "count(*) as record_count  -- 2. 然后我们用 **count(\\*)** 对筛选的记录进行了计数\n",
    "from station_data\n",
    "where tornado == 1        -- 3. 我们筛选了 tornado 为 true 的数据\n",
    "group by year             -- 4. 最后，按年进行分类\n",
    "```\n",
    "\n",
    "我们也可以在多个 field 上进行聚合："
   ]
  },
  {
   "cell_type": "code",
   "execution_count": 12,
   "metadata": {
    "ExecuteTime": {
     "end_time": "2020-02-20T13:48:39.411657Z",
     "start_time": "2020-02-20T13:48:39.202001Z"
    }
   },
   "outputs": [
    {
     "name": "stdout",
     "output_type": "stream",
     "text": [
      " * sqlite:///DataBase/weather_stations.db\n",
      "Done.\n"
     ]
    },
    {
     "data": {
      "text/html": [
       "<table>\n",
       "    <tr>\n",
       "        <th>year</th>\n",
       "        <th>month</th>\n",
       "        <th>record_count</th>\n",
       "    </tr>\n",
       "    <tr>\n",
       "        <td>1937</td>\n",
       "        <td>7</td>\n",
       "        <td>3</td>\n",
       "    </tr>\n",
       "    <tr>\n",
       "        <td>1941</td>\n",
       "        <td>8</td>\n",
       "        <td>3</td>\n",
       "    </tr>\n",
       "    <tr>\n",
       "        <td>1942</td>\n",
       "        <td>10</td>\n",
       "        <td>3</td>\n",
       "    </tr>\n",
       "</table>"
      ],
      "text/plain": [
       "[(1937, 7, 3), (1941, 8, 3), (1942, 10, 3)]"
      ]
     },
     "execution_count": 12,
     "metadata": {},
     "output_type": "execute_result"
    }
   ],
   "source": [
    "%%sql\n",
    "select year, month,\n",
    "count(*) as record_count\n",
    "from station_data\n",
    "where tornado == 1\n",
    "group by year\n",
    "limit 0,3;"
   ]
  },
  {
   "cell_type": "code",
   "execution_count": null,
   "metadata": {},
   "outputs": [],
   "source": [
    "此外，在使用 ***group by* 时，我们可以用 **序数位置**（） 而不是列名"
   ]
  },
  {
   "cell_type": "markdown",
   "metadata": {},
   "source": [
    "# 参考资料\n",
    "\n",
    "[1] [Thomas Nield.Getting Started with SQL](https://github.com/X1AOX1A/SQL_Notes/blob/master/getting_started_with_sql/Getting%20Started%20with%20SQL.pdf)[M].US: O’Reilly, 2016: 29-37\n",
    "\n"
   ]
  }
 ],
 "metadata": {
  "kernelspec": {
   "display_name": "Python 3",
   "language": "python",
   "name": "python3"
  },
  "language_info": {
   "codemirror_mode": {
    "name": "ipython",
    "version": 3
   },
   "file_extension": ".py",
   "mimetype": "text/x-python",
   "name": "python",
   "nbconvert_exporter": "python",
   "pygments_lexer": "ipython3",
   "version": "3.7.3"
  },
  "toc": {
   "base_numbering": 1,
   "nav_menu": {},
   "number_sections": false,
   "sideBar": true,
   "skip_h1_title": false,
   "title_cell": "Table of Contents",
   "title_sidebar": "Contents",
   "toc_cell": false,
   "toc_position": {},
   "toc_section_display": true,
   "toc_window_display": true
  },
  "varInspector": {
   "cols": {
    "lenName": 16,
    "lenType": 16,
    "lenVar": 40
   },
   "kernels_config": {
    "python": {
     "delete_cmd_postfix": "",
     "delete_cmd_prefix": "del ",
     "library": "var_list.py",
     "varRefreshCmd": "print(var_dic_list())"
    },
    "r": {
     "delete_cmd_postfix": ") ",
     "delete_cmd_prefix": "rm(",
     "library": "var_list.r",
     "varRefreshCmd": "cat(var_dic_list()) "
    }
   },
   "types_to_exclude": [
    "module",
    "function",
    "builtin_function_or_method",
    "instance",
    "_Feature"
   ],
   "window_display": false
  }
 },
 "nbformat": 4,
 "nbformat_minor": 4
}
