{
 "cells": [
  {
   "cell_type": "markdown",
   "metadata": {},
   "source": [
    "**相关文章：**\n",
    "\n",
    "[SQL | 目录](https://blog.csdn.net/weixin_45488228/article/details/104436708)\n",
    "\n",
    "[SQLite | Case Statements](https://blog.csdn.net/weixin_45488228/article/details/104480537)"
   ]
  },
  {
   "cell_type": "markdown",
   "metadata": {},
   "source": [
    "# 1. Join"
   ]
  },
  {
   "cell_type": "markdown",
   "metadata": {},
   "source": [
    "我们在上一篇中介绍了 [Case 语句](https://blog.csdn.net/weixin_45488228/article/details/104480537)\n",
    "，接下来我们将使用 join ，对表格进行合并。\n",
    "\n",
    "- 使用Jupyter Notebook 运行 SQL 语句需安装 ipython-sql\n",
    "\n",
    "- %sql 以及 %%sql 为在 Notebook 中运行 SQL 语句，在 SQLite 命令行或 SQLite Stiduo 中不需要 %sql 或 %%sql\n",
    "\n",
    "载入 SQL 以及连接 SQLite："
   ]
  },
  {
   "cell_type": "code",
   "execution_count": 1,
   "metadata": {
    "ExecuteTime": {
     "end_time": "2020-03-03T08:56:39.769234Z",
     "start_time": "2020-03-03T08:56:38.607174Z"
    }
   },
   "outputs": [
    {
     "data": {
      "text/plain": [
       "'Connected: @DataBase/rexon_metals.db'"
      ]
     },
     "execution_count": 1,
     "metadata": {},
     "output_type": "execute_result"
    }
   ],
   "source": [
    "%load_ext sql\n",
    "%sql sqlite:///DataBase/rexon_metals.db"
   ]
  },
  {
   "cell_type": "markdown",
   "metadata": {},
   "source": [
    "本文将使用 [rexon_metals.db](https://github.com/X1AOX1A/SQL_Notes/blob/master/SQLite/DataBase/rexon_metals.db) 数据库，其中包含了 CUSTOMER、CUSTOMER_ORDER 和 PRODUCT 三张表。"
   ]
  },
  {
   "cell_type": "code",
   "execution_count": null,
   "metadata": {},
   "outputs": [],
   "source": []
  }
 ],
 "metadata": {
  "kernelspec": {
   "display_name": "Python 3",
   "language": "python",
   "name": "python3"
  },
  "language_info": {
   "codemirror_mode": {
    "name": "ipython",
    "version": 3
   },
   "file_extension": ".py",
   "mimetype": "text/x-python",
   "name": "python",
   "nbconvert_exporter": "python",
   "pygments_lexer": "ipython3",
   "version": "3.7.3"
  },
  "toc": {
   "base_numbering": 1,
   "nav_menu": {},
   "number_sections": false,
   "sideBar": true,
   "skip_h1_title": false,
   "title_cell": "Table of Contents",
   "title_sidebar": "Contents",
   "toc_cell": false,
   "toc_position": {},
   "toc_section_display": true,
   "toc_window_display": true
  },
  "varInspector": {
   "cols": {
    "lenName": 16,
    "lenType": 16,
    "lenVar": 40
   },
   "kernels_config": {
    "python": {
     "delete_cmd_postfix": "",
     "delete_cmd_prefix": "del ",
     "library": "var_list.py",
     "varRefreshCmd": "print(var_dic_list())"
    },
    "r": {
     "delete_cmd_postfix": ") ",
     "delete_cmd_prefix": "rm(",
     "library": "var_list.r",
     "varRefreshCmd": "cat(var_dic_list()) "
    }
   },
   "types_to_exclude": [
    "module",
    "function",
    "builtin_function_or_method",
    "instance",
    "_Feature"
   ],
   "window_display": false
  }
 },
 "nbformat": 4,
 "nbformat_minor": 4
}
